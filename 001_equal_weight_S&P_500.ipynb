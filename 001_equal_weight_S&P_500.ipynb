{
 "cells": [
  {
   "cell_type": "markdown",
   "metadata": {},
   "source": [
    "# Equal-Weight S&P 500 Index Fund\n",
    "\n",
    "## Introduction & Library Imports\n",
    "\n",
    "The S&P 500 is the world's most popular stock market index. The largest fund that is benchmarked to this index is the SPDR® S&P 500® ETF Trust. It has more than US$250 billion of assets under management.\n",
    "\n",
    "The goal of this section of the course is to create a Python script that will accept the value of your portfolio and tell you how many shares of each S&P 500 constituent you should purchase to get an equal-weight version of the index fund.\n",
    "\n",
    "## Library Imports\n",
    "\n",
    "The first thing we need to do is import the open-source software libraries that we'll be using in this tutorial."
   ]
  },
  {
   "cell_type": "code",
   "execution_count": 13,
   "metadata": {},
   "outputs": [],
   "source": [
    "import numpy as np\n",
    "import pandas as pd\n",
    "import datapackage as dp\n",
    "import requests\n",
    "import xlsxwriter\n",
    "import math"
   ]
  },
  {
   "cell_type": "markdown",
   "metadata": {},
   "source": [
    "## Importing Our List of Stocks\n",
    "\n",
    "The next thing we need to do is import the constituents of the S&P 500.\n",
    "\n",
    "These constituents change over time, so in an ideal world you would connect directly to the index provider (Standard & Poor's) and pull their real-time constituents on a regular basis.\n",
    "\n",
    "Paying for access to the index provider's API is outside of the scope of this course. \n",
    "\n",
    "There's a static version of the S&P 500 constituents available here. [Click this link to download them now](https://drive.google.com/file/d/1ZJSpbY69DVckVZlO9cC6KkgfSufybcHN/view?usp=sharing). Move this file into the `starter-files` folder so it can be accessed by other files in that directory.\n",
    "\n",
    "Now it's time to import these stocks to our Jupyter Notebook file."
   ]
  },
  {
   "cell_type": "code",
   "execution_count": 34,
   "metadata": {},
   "outputs": [
    {
     "data": {
      "text/html": [
       "<div>\n",
       "<style scoped>\n",
       "    .dataframe tbody tr th:only-of-type {\n",
       "        vertical-align: middle;\n",
       "    }\n",
       "\n",
       "    .dataframe tbody tr th {\n",
       "        vertical-align: top;\n",
       "    }\n",
       "\n",
       "    .dataframe thead th {\n",
       "        text-align: right;\n",
       "    }\n",
       "</style>\n",
       "<table border=\"1\" class=\"dataframe\">\n",
       "  <thead>\n",
       "    <tr style=\"text-align: right;\">\n",
       "      <th></th>\n",
       "      <th>Ticker</th>\n",
       "    </tr>\n",
       "  </thead>\n",
       "  <tbody>\n",
       "    <tr>\n",
       "      <th>0</th>\n",
       "      <td>A</td>\n",
       "    </tr>\n",
       "    <tr>\n",
       "      <th>1</th>\n",
       "      <td>AAL</td>\n",
       "    </tr>\n",
       "    <tr>\n",
       "      <th>2</th>\n",
       "      <td>AAP</td>\n",
       "    </tr>\n",
       "    <tr>\n",
       "      <th>3</th>\n",
       "      <td>AAPL</td>\n",
       "    </tr>\n",
       "    <tr>\n",
       "      <th>4</th>\n",
       "      <td>ABBV</td>\n",
       "    </tr>\n",
       "    <tr>\n",
       "      <th>...</th>\n",
       "      <td>...</td>\n",
       "    </tr>\n",
       "    <tr>\n",
       "      <th>497</th>\n",
       "      <td>YUM</td>\n",
       "    </tr>\n",
       "    <tr>\n",
       "      <th>498</th>\n",
       "      <td>ZBH</td>\n",
       "    </tr>\n",
       "    <tr>\n",
       "      <th>499</th>\n",
       "      <td>ZBRA</td>\n",
       "    </tr>\n",
       "    <tr>\n",
       "      <th>500</th>\n",
       "      <td>ZION</td>\n",
       "    </tr>\n",
       "    <tr>\n",
       "      <th>501</th>\n",
       "      <td>ZTS</td>\n",
       "    </tr>\n",
       "  </tbody>\n",
       "</table>\n",
       "<p>502 rows × 1 columns</p>\n",
       "</div>"
      ],
      "text/plain": [
       "    Ticker\n",
       "0        A\n",
       "1      AAL\n",
       "2      AAP\n",
       "3     AAPL\n",
       "4     ABBV\n",
       "..     ...\n",
       "497    YUM\n",
       "498    ZBH\n",
       "499   ZBRA\n",
       "500   ZION\n",
       "501    ZTS\n",
       "\n",
       "[502 rows x 1 columns]"
      ]
     },
     "execution_count": 34,
     "metadata": {},
     "output_type": "execute_result"
    }
   ],
   "source": [
    "stocks=pd.read_csv('sp_500_stocks.csv')\n",
    "stocks"
   ]
  },
  {
   "cell_type": "markdown",
   "metadata": {},
   "source": [
    "## Acquiring an API Token\n",
    "\n",
    "Now it's time to import our IEX Cloud API token. This is the data provider that we will be using throughout this course.\n",
    "\n",
    "API tokens (and other sensitive information) should be stored in a `secrets.py` file that doesn't get pushed to your local Git repository. We'll be using a sandbox API token in this course, which means that the data we'll use is randomly-generated and (more importantly) has no cost associated with it.\n",
    "\n",
    "[Click here](http://nickmccullum.com/algorithmic-trading-python/secrets.py) to download your `secrets.py` file. Move the file into the same directory as this Jupyter Notebook before proceeding."
   ]
  },
  {
   "cell_type": "code",
   "execution_count": 61,
   "metadata": {},
   "outputs": [
    {
     "data": {
      "text/plain": [
       "'pk_7939993b9d3a422a8fe06bd3467b843c'"
      ]
     },
     "execution_count": 61,
     "metadata": {},
     "output_type": "execute_result"
    }
   ],
   "source": [
    "from secrt import IEX_CLOUD_API_TOKEN\n",
    "IEX_CLOUD_API_TOKEN"
   ]
  },
  {
   "cell_type": "markdown",
   "metadata": {},
   "source": [
    "## Making Our First API Call\n",
    "\n",
    "Now it's time to structure our API calls to IEX cloud. \n",
    "\n",
    "We need the following information from the API:\n",
    "\n",
    "* Market capitalization for each stock\n",
    "* Price of each stock\n",
    "\n"
   ]
  },
  {
   "cell_type": "code",
   "execution_count": 22,
   "metadata": {},
   "outputs": [],
   "source": [
    "symbol='AAPL'\n",
    "api_url = f'https://cloud.iexapis.com/stable/stock/{symbol}/quote/?token={IEX_CLOUD_API_TOKEN}'\n",
    "data = requests.get(api_url).json()"
   ]
  },
  {
   "cell_type": "markdown",
   "metadata": {},
   "source": [
    "## Parsing Our API Call\n",
    "\n",
    "The API call that we executed in the last code block contains all of the information required to build our equal-weight S&P 500 strategy. \n",
    "\n",
    "With that said, the data isn't in a proper format yet. We need to parse it first."
   ]
  },
  {
   "cell_type": "code",
   "execution_count": 5,
   "metadata": {},
   "outputs": [
    {
     "name": "stdout",
     "output_type": "stream",
     "text": [
      "0.036272316934\n"
     ]
    }
   ],
   "source": [
    "price=data['latestPrice']\n",
    "market_cap=data['marketCap']\n",
    "print(market_cap/1000000000000)"
   ]
  },
  {
   "cell_type": "markdown",
   "metadata": {},
   "source": [
    "## Adding Our Stocks Data to a Pandas DataFrame\n",
    "\n",
    "The next thing we need to do is add our stock's price and market capitalization to a pandas DataFrame. Think of a DataFrame like the Python version of a spreadsheet. It stores tabular data."
   ]
  },
  {
   "cell_type": "code",
   "execution_count": 6,
   "metadata": {},
   "outputs": [],
   "source": [
    "my_columns= [ 'Ticker', 'Stock Price', 'Market Capitalization', 'Number of Shares to Buy']\n",
    "final_dataframe=pd.DataFrame( columns = my_columns)\n"
   ]
  },
  {
   "cell_type": "code",
   "execution_count": 24,
   "metadata": {},
   "outputs": [
    {
     "data": {
      "text/html": [
       "<div>\n",
       "<style scoped>\n",
       "    .dataframe tbody tr th:only-of-type {\n",
       "        vertical-align: middle;\n",
       "    }\n",
       "\n",
       "    .dataframe tbody tr th {\n",
       "        vertical-align: top;\n",
       "    }\n",
       "\n",
       "    .dataframe thead th {\n",
       "        text-align: right;\n",
       "    }\n",
       "</style>\n",
       "<table border=\"1\" class=\"dataframe\">\n",
       "  <thead>\n",
       "    <tr style=\"text-align: right;\">\n",
       "      <th></th>\n",
       "      <th>Ticker</th>\n",
       "      <th>Stock Price</th>\n",
       "      <th>Market Capitalization</th>\n",
       "      <th>Number of Shares to Buy</th>\n",
       "    </tr>\n",
       "  </thead>\n",
       "  <tbody>\n",
       "    <tr>\n",
       "      <th>0</th>\n",
       "      <td>AME</td>\n",
       "      <td>157.16</td>\n",
       "      <td>36272316934</td>\n",
       "      <td>N/A</td>\n",
       "    </tr>\n",
       "    <tr>\n",
       "      <th>1</th>\n",
       "      <td>AAPL</td>\n",
       "      <td>157.16</td>\n",
       "      <td>36272316934</td>\n",
       "      <td>N/A</td>\n",
       "    </tr>\n",
       "    <tr>\n",
       "      <th>2</th>\n",
       "      <td>AAPL</td>\n",
       "      <td>157.16</td>\n",
       "      <td>36272316934</td>\n",
       "      <td>N/A</td>\n",
       "    </tr>\n",
       "  </tbody>\n",
       "</table>\n",
       "</div>"
      ],
      "text/plain": [
       "  Ticker  Stock Price Market Capitalization Number of Shares to Buy\n",
       "0    AME       157.16           36272316934                     N/A\n",
       "1   AAPL       157.16           36272316934                     N/A\n",
       "2   AAPL       157.16           36272316934                     N/A"
      ]
     },
     "execution_count": 24,
     "metadata": {},
     "output_type": "execute_result"
    }
   ],
   "source": [
    "final_dataframe = final_dataframe._append(pd.Series(\n",
    "        [\n",
    "        symbol,\n",
    "        price,\n",
    "        market_cap,\n",
    "        'N/A'\n",
    "    ], index= my_columns\n",
    "\n",
    "),\n",
    "    \n",
    "    ignore_index=True #important when appending data to a dataframe\n",
    " )\n",
    "final_dataframe"
   ]
  },
  {
   "cell_type": "code",
   "execution_count": 8,
   "metadata": {},
   "outputs": [],
   "source": [
    "#final_dataframe=final_dataframe._append(new_row, ignore_index=True)\n",
    "#final_dataframe      #.append changed to  ._append "
   ]
  },
  {
   "cell_type": "markdown",
   "metadata": {},
   "source": [
    "## Looping Through The Tickers in Our List of Stocks\n",
    "\n",
    "Using the same logic that we outlined above, we can pull data for all S&P 500 stocks and store their data in the DataFrame using a `for` loop."
   ]
  },
  {
   "cell_type": "code",
   "execution_count": 47,
   "metadata": {},
   "outputs": [
    {
     "name": "stdout",
     "output_type": "stream",
     "text": [
      "{'avgTotalVolume': 2181549, 'calculationPrice': 'close', 'change': -1.48, 'changePercent': -0.0115, 'close': 127.2, 'closeSource': 'official', 'closeTime': 1702069202296, 'companyName': 'Agilent Technologies Inc.', 'currency': 'USD', 'delayedPrice': 127.145, 'delayedPriceTime': 1702069180017, 'extendedChange': 0, 'extendedChangePercent': 0, 'extendedPrice': 127.2, 'extendedPriceTime': 1702080000003, 'high': 129, 'highSource': '15 minute delayed price', 'highTime': 1702069199978, 'iexAskPrice': 0, 'iexAskSize': 0, 'iexBidPrice': 0, 'iexBidSize': 0, 'iexClose': 127.22, 'iexCloseTime': 1702069190502, 'iexLastUpdated': 1702069190502, 'iexMarketPercent': 0.026150949116665764, 'iexOpen': 127.735, 'iexOpenTime': 1702045875113, 'iexRealtimePrice': 127.22, 'iexRealtimeSize': 60, 'iexVolume': 37607, 'lastTradeTime': 1702069199208, 'latestPrice': 127.2, 'latestSource': 'Close', 'latestTime': 'December 8, 2023', 'latestUpdate': 1702069202296, 'latestVolume': 1438074, 'low': 126.97, 'lowSource': '15 minute delayed price', 'lowTime': 1702052433711, 'marketCap': 37217101126, 'oddLotDelayedPrice': 127.225, 'oddLotDelayedPriceTime': 1702069190504, 'open': 128.09, 'openTime': 1702045800000, 'openSource': 'official', 'peRatio': 33.3, 'previousClose': 128.68, 'previousVolume': 1696641, 'primaryExchange': 'NEW YORK STOCK EXCHANGE INC.', 'symbol': 'A', 'volume': 1438074, 'week52High': 159.14, 'week52Low': 96.8, 'ytdChange': -0.14684173084857183, 'isUSMarketOpen': False}\n",
      "{'avgTotalVolume': 34751513, 'calculationPrice': 'close', 'change': -0.15, 'changePercent': -0.01078, 'close': 13.76, 'closeSource': 'official', 'closeTime': 1702069200062, 'companyName': 'American Airlines Group Inc', 'currency': 'USD', 'delayedPrice': 13.775, 'delayedPriceTime': 1702069181594, 'extendedChange': 0.02, 'extendedChangePercent': 0.00145, 'extendedPrice': 13.78, 'extendedPriceTime': 1702083586607, 'high': 13.98, 'highSource': '15 minute delayed price', 'highTime': 1702069199971, 'iexAskPrice': 0, 'iexAskSize': 0, 'iexBidPrice': 0, 'iexBidSize': 0, 'iexClose': 13.78, 'iexCloseTime': 1702069199715, 'iexLastUpdated': 1702069199715, 'iexMarketPercent': 0.026185905243618787, 'iexOpen': 13.86, 'iexOpenTime': 1702045800781, 'iexRealtimePrice': 13.78, 'iexRealtimeSize': 4, 'iexVolume': 790734, 'lastTradeTime': 1702069199715, 'latestPrice': 13.76, 'latestSource': 'Close', 'latestTime': 'December 8, 2023', 'latestUpdate': 1702069200062, 'latestVolume': 30196932, 'low': 13.71, 'lowSource': '15 minute delayed price', 'lowTime': 1702065312837, 'marketCap': 8992717968, 'oddLotDelayedPrice': 13.77, 'oddLotDelayedPriceTime': 1702069181599, 'open': 13.86, 'openTime': 1702045800000, 'openSource': 'official', 'peRatio': 5.13, 'previousClose': 13.91, 'previousVolume': 49511660, 'primaryExchange': 'NASDAQ', 'symbol': 'AAL', 'volume': 30196932, 'week52High': 19.08, 'week52Low': 10.86, 'ytdChange': 0.08277345911949686, 'isUSMarketOpen': False}\n",
      "{'avgTotalVolume': 2469715, 'calculationPrice': 'close', 'change': 0.02, 'changePercent': 0.00036, 'close': 56.27, 'closeSource': 'official', 'closeTime': 1702069201969, 'companyName': 'Advance Auto Parts Inc', 'currency': 'USD', 'delayedPrice': 56.28, 'delayedPriceTime': 1702069181780, 'extendedChange': 0.11, 'extendedChangePercent': 0.00195, 'extendedPrice': 56.38, 'extendedPriceTime': 1702082895726, 'high': 56.54, 'highSource': '15 minute delayed price', 'highTime': 1702069199988, 'iexAskPrice': 0, 'iexAskSize': 0, 'iexBidPrice': 0, 'iexBidSize': 0, 'iexClose': 56.23, 'iexCloseTime': 1702069196822, 'iexLastUpdated': 1702069196822, 'iexMarketPercent': 0.06497803130450554, 'iexOpen': 56.35, 'iexOpenTime': 1702045876104, 'iexRealtimePrice': 56.23, 'iexRealtimeSize': 85, 'iexVolume': 275160, 'lastTradeTime': 1702069199988, 'latestPrice': 56.27, 'latestSource': 'Close', 'latestTime': 'December 8, 2023', 'latestUpdate': 1702069201969, 'latestVolume': 4234662, 'low': 54.95, 'lowSource': '15 minute delayed price', 'lowTime': 1702058136501, 'marketCap': 3348176977, 'oddLotDelayedPrice': 56.26, 'oddLotDelayedPriceTime': 1702069183825, 'open': 56.31, 'openTime': 1702045800000, 'openSource': 'official', 'peRatio': 18.04, 'previousClose': 56.25, 'previousVolume': 2363907, 'primaryExchange': 'NEW YORK STOCK EXCHANGE INC.', 'symbol': 'AAP', 'volume': 4234662, 'week52High': 154.95, 'week52Low': 47.73, 'ytdChange': -0.6089976381172496, 'isUSMarketOpen': False}\n",
      "{'avgTotalVolume': 47312019, 'calculationPrice': 'close', 'change': 1.44, 'changePercent': 0.00741, 'close': 195.71, 'closeSource': 'official', 'closeTime': 1702069200199, 'companyName': 'Apple Inc', 'currency': 'USD', 'delayedPrice': 195.785, 'delayedPriceTime': 1702069180045, 'extendedChange': 0.13, 'extendedChangePercent': 0.00066, 'extendedPrice': 195.84, 'extendedPriceTime': 1702083593791, 'high': 195.99, 'highSource': '15 minute delayed price', 'highTime': 1702069199975, 'iexAskPrice': 210, 'iexAskSize': 100, 'iexBidPrice': 156.53, 'iexBidSize': 202, 'iexClose': 195.69, 'iexCloseTime': 1702069199404, 'iexLastUpdated': 1702069199404, 'iexMarketPercent': 0.015978509525026965, 'iexOpen': 194.17, 'iexOpenTime': 1702045800785, 'iexRealtimePrice': 195.69, 'iexRealtimeSize': 200, 'iexVolume': 853354, 'lastTradeTime': 1702069199404, 'latestPrice': 195.71, 'latestSource': 'Close', 'latestTime': 'December 8, 2023', 'latestUpdate': 1702069200199, 'latestVolume': 53406358, 'low': 193.67, 'lowSource': '15 minute delayed price', 'lowTime': 1702047498592, 'marketCap': 3043829093920, 'oddLotDelayedPrice': 195.75, 'oddLotDelayedPriceTime': 1702069182033, 'open': 194.1, 'openTime': 1702045800745, 'openSource': 'official', 'peRatio': 31.93, 'previousClose': 194.27, 'previousVolume': 47477655, 'primaryExchange': 'NASDAQ', 'symbol': 'AAPL', 'volume': 53406358, 'week52High': 197.18, 'week52Low': 123.15, 'ytdChange': 0.5149706958664887, 'isUSMarketOpen': False}\n",
      "{'avgTotalVolume': 5445758, 'calculationPrice': 'close', 'change': 1.31, 'changePercent': 0.00885, 'close': 149.28, 'closeSource': 'official', 'closeTime': 1702069202258, 'companyName': 'Abbvie Inc', 'currency': 'USD', 'delayedPrice': 149.235, 'delayedPriceTime': 1702069181614, 'extendedChange': -0.18, 'extendedChangePercent': -0.00121, 'extendedPrice': 149.1, 'extendedPriceTime': 1702082895995, 'high': 150.07, 'highSource': '15 minute delayed price', 'highTime': 1702069199999, 'iexAskPrice': 179.92, 'iexAskSize': 100, 'iexBidPrice': 149.22, 'iexBidSize': 104, 'iexClose': 149.21, 'iexCloseTime': 1702069197607, 'iexLastUpdated': 1702069197607, 'iexMarketPercent': 0.03005849140222742, 'iexOpen': 147.95, 'iexOpenTime': 1702045813319, 'iexRealtimePrice': 149.21, 'iexRealtimeSize': 132, 'iexVolume': 171189, 'lastTradeTime': 1702069199999, 'latestPrice': 149.28, 'latestSource': 'Close', 'latestTime': 'December 8, 2023', 'latestUpdate': 1702069202258, 'latestVolume': 5695196, 'low': 147.95, 'lowSource': 'IEX real time price', 'lowTime': 1702045813319, 'marketCap': 263559426207, 'oddLotDelayedPrice': 149.24, 'oddLotDelayedPriceTime': 1702069180107, 'open': 148.17, 'openTime': 1702045800000, 'openSource': 'official', 'peRatio': 40.9, 'previousClose': 147.97, 'previousVolume': 7225141, 'primaryExchange': 'NEW YORK STOCK EXCHANGE INC.', 'symbol': 'ABBV', 'volume': 5695196, 'week52High': 162.75, 'week52Low': 128.24, 'ytdChange': -0.03856242786548794, 'isUSMarketOpen': False}\n",
      "{'avgTotalVolume': 49721665, 'calculationPrice': 'close', 'change': 0.55, 'changePercent': 0.00428, 'close': 128.92, 'closeSource': 'official', 'closeTime': 1702069200020, 'companyName': 'Advanced Micro Devices Inc.', 'currency': 'USD', 'delayedPrice': 128.905, 'delayedPriceTime': 1702069183839, 'extendedChange': 0.18, 'extendedChangePercent': 0.0014, 'extendedPrice': 129.1, 'extendedPriceTime': 1702083599831, 'high': 131, 'highSource': '15 minute delayed price', 'highTime': 1702069199998, 'iexAskPrice': 0, 'iexAskSize': 0, 'iexBidPrice': 0, 'iexBidSize': 0, 'iexClose': 128.95, 'iexCloseTime': 1702069199779, 'iexLastUpdated': 1702069199779, 'iexMarketPercent': 0.008752083337670647, 'iexOpen': 129.48, 'iexOpenTime': 1702045800242, 'iexRealtimePrice': 128.95, 'iexRealtimeSize': 100, 'iexVolume': 781920, 'lastTradeTime': 1702069199780, 'latestPrice': 128.92, 'latestSource': 'Close', 'latestTime': 'December 8, 2023', 'latestUpdate': 1702069200020, 'latestVolume': 89341014, 'low': 126.89, 'lowSource': '15 minute delayed price', 'lowTime': 1702055726308, 'marketCap': 206272000000, 'oddLotDelayedPrice': 128.9, 'oddLotDelayedPriceTime': 1702069183863, 'open': 129.5, 'openTime': 1702045800141, 'openSource': 'official', 'peRatio': 1004.83, 'previousClose': 128.37, 'previousVolume': 118579097, 'primaryExchange': 'NASDAQ', 'symbol': 'AMD', 'volume': 89341014, 'week52High': 132.83, 'week52Low': 60.05, 'ytdChange': 0.9862160815192219, 'isUSMarketOpen': False}\n"
     ]
    },
    {
     "name": "stdout",
     "output_type": "stream",
     "text": [
      "{'avgTotalVolume': 5909360, 'calculationPrice': 'close', 'change': 0.46, 'changePercent': 0.00442, 'close': 104.51, 'closeSource': 'official', 'closeTime': 1702069202316, 'companyName': 'Abbott Laboratories', 'currency': 'USD', 'delayedPrice': 104.57, 'delayedPriceTime': 1702069161453, 'extendedChange': 0.01, 'extendedChangePercent': 0.0001, 'extendedPrice': 104.52, 'extendedPriceTime': 1702083253409, 'high': 104.86, 'highSource': '15 minute delayed price', 'highTime': 1702069199998, 'iexAskPrice': 0, 'iexAskSize': 0, 'iexBidPrice': 0, 'iexBidSize': 0, 'iexClose': 104.52, 'iexCloseTime': 1702069193115, 'iexLastUpdated': 1702069193115, 'iexMarketPercent': 0.018302010457624675, 'iexOpen': 104.26, 'iexOpenTime': 1702045869705, 'iexRealtimePrice': 104.52, 'iexRealtimeSize': 54, 'iexVolume': 62717, 'lastTradeTime': 1702069199998, 'latestPrice': 104.51, 'latestSource': 'Close', 'latestTime': 'December 8, 2023', 'latestUpdate': 1702069202316, 'latestVolume': 3426782, 'low': 104.12, 'lowSource': '15 minute delayed price', 'lowTime': 1702045800995, 'marketCap': 181435477597, 'oddLotDelayedPrice': 104.555, 'oddLotDelayedPriceTime': 1702069178459, 'open': 104.3, 'openTime': 1702045800000, 'openSource': 'official', 'peRatio': 35.43, 'previousClose': 104.05, 'previousVolume': 5199037, 'primaryExchange': 'NEW YORK STOCK EXCHANGE INC.', 'symbol': 'ABT', 'volume': 3426782, 'week52High': 115.19, 'week52Low': 89.67, 'ytdChange': -0.02890227762463924, 'isUSMarketOpen': False}\n",
      "{'avgTotalVolume': 1749008, 'calculationPrice': 'close', 'change': 2.13, 'changePercent': 0.00636, 'close': 337.23, 'closeSource': 'official', 'closeTime': 1702069201957, 'companyName': 'Accenture plc - Class A', 'currency': 'USD', 'delayedPrice': 337.195, 'delayedPriceTime': 1702069182030, 'extendedChange': 0, 'extendedChangePercent': 0, 'extendedPrice': 337.23, 'extendedPriceTime': 1702080000002, 'high': 337.713, 'highSource': '15 minute delayed price', 'highTime': 1702069199977, 'iexAskPrice': 0, 'iexAskSize': 0, 'iexBidPrice': 0, 'iexBidSize': 0, 'iexClose': 337.16, 'iexCloseTime': 1702069195526, 'iexLastUpdated': 1702069195526, 'iexMarketPercent': 0.029274435574037385, 'iexOpen': 334.9, 'iexOpenTime': 1702045838067, 'iexRealtimePrice': 337.16, 'iexRealtimeSize': 100, 'iexVolume': 37311, 'lastTradeTime': 1702069198859, 'latestPrice': 337.23, 'latestSource': 'Close', 'latestTime': 'December 8, 2023', 'latestUpdate': 1702069201957, 'latestVolume': 1274525, 'low': 334.56, 'lowSource': '15 minute delayed price', 'lowTime': 1702045818617, 'marketCap': 224185994223, 'oddLotDelayedPrice': 337.195, 'oddLotDelayedPriceTime': 1702069182034, 'open': 335.1, 'openTime': 1702045800000, 'openSource': 'official', 'peRatio': 31.34, 'previousClose': 335.1, 'previousVolume': 1870287, 'primaryExchange': 'NEW YORK STOCK EXCHANGE INC.', 'symbol': 'ACN', 'volume': 1274525, 'week52High': 339.46, 'week52Low': 239.98, 'ytdChange': 0.28212077372549543, 'isUSMarketOpen': False}\n",
      "{'avgTotalVolume': 2410328, 'calculationPrice': 'close', 'change': 1.23, 'changePercent': 0.00202, 'close': 610.01, 'closeSource': 'official', 'closeTime': 1702069200008, 'companyName': 'Adobe Inc', 'currency': 'USD', 'delayedPrice': 609.95, 'delayedPriceTime': 1702069195003, 'extendedChange': 0.98, 'extendedChangePercent': 0.00161, 'extendedPrice': 610.99, 'extendedPriceTime': 1702083554223, 'high': 610.23, 'highSource': '15 minute delayed price', 'highTime': 1702069200012, 'iexAskPrice': 0, 'iexAskSize': 0, 'iexBidPrice': 0, 'iexBidSize': 0, 'iexClose': 609.86, 'iexCloseTime': 1702069197287, 'iexLastUpdated': 1702069197287, 'iexMarketPercent': 0.032557719011398784, 'iexOpen': 604.83, 'iexOpenTime': 1702045800175, 'iexRealtimePrice': 609.85, 'iexRealtimeSize': 13, 'iexVolume': 81383, 'lastTradeTime': 1702069199940, 'latestPrice': 610.01, 'latestSource': 'Close', 'latestTime': 'December 8, 2023', 'latestUpdate': 1702069200008, 'latestVolume': 2499653, 'low': 601.3, 'lowSource': '15 minute delayed price', 'lowTime': 1702053530307, 'marketCap': 277737553000, 'oddLotDelayedPrice': 610.08, 'oddLotDelayedPriceTime': 1702069182034, 'open': 605, 'openTime': 1702045800000, 'openSource': 'official', 'peRatio': 54.96, 'previousClose': 608.78, 'previousVolume': 2605210, 'primaryExchange': 'NASDAQ', 'symbol': 'ADBE', 'volume': 2499653, 'week52High': 628.6, 'week52Low': 318.6, 'ytdChange': 0.8110117689359048, 'isUSMarketOpen': False}\n",
      "{'avgTotalVolume': 3283820, 'calculationPrice': 'close', 'change': 0.5, 'changePercent': 0.00271, 'close': 184.88, 'closeSource': 'official', 'closeTime': 1702069200002, 'companyName': 'Analog Devices Inc.', 'currency': 'USD', 'delayedPrice': 184.91, 'delayedPriceTime': 1702069178462, 'extendedChange': 0.09, 'extendedChangePercent': 0.00049, 'extendedPrice': 184.97, 'extendedPriceTime': 1702078362223, 'high': 186.3, 'highSource': '15 minute delayed price', 'highTime': 1702069200005, 'iexAskPrice': 0, 'iexAskSize': 0, 'iexBidPrice': 0, 'iexBidSize': 0, 'iexClose': 184.83, 'iexCloseTime': 1702069197656, 'iexLastUpdated': 1702069197656, 'iexMarketPercent': 0.03616731976339611, 'iexOpen': 183.965, 'iexOpenTime': 1702045802069, 'iexRealtimePrice': 184.83, 'iexRealtimeSize': 2, 'iexVolume': 86953, 'lastTradeTime': 1702069199995, 'latestPrice': 184.88, 'latestSource': 'Close', 'latestTime': 'December 8, 2023', 'latestUpdate': 1702069200002, 'latestVolume': 2404187, 'low': 183.81, 'lowSource': '15 minute delayed price', 'lowTime': 1702045801628, 'marketCap': 91748859029, 'oddLotDelayedPrice': 184.92, 'oddLotDelayedPriceTime': 1702069178489, 'open': 184.25, 'openTime': 1702045800000, 'openSource': 'official', 'peRatio': 28.23, 'previousClose': 184.38, 'previousVolume': 3717624, 'primaryExchange': 'NASDAQ', 'symbol': 'ADI', 'volume': 2404187, 'week52High': 196.36, 'week52Low': 153.54, 'ytdChange': 0.1645811178803256, 'isUSMarketOpen': False}\n",
      "{'avgTotalVolume': 3325435, 'calculationPrice': 'close', 'change': -0.08, 'changePercent': -0.00108, 'close': 73.75, 'closeSource': 'official', 'closeTime': 1702069201922, 'companyName': 'Archer Daniels Midland Co.', 'currency': 'USD', 'delayedPrice': 73.77, 'delayedPriceTime': 1702069182557, 'extendedChange': 0, 'extendedChangePercent': 0, 'extendedPrice': 73.75, 'extendedPriceTime': 1702080000003, 'high': 74.69, 'highSource': '15 minute delayed price', 'highTime': 1702069199978, 'iexAskPrice': 0, 'iexAskSize': 0, 'iexBidPrice': 0, 'iexBidSize': 0, 'iexClose': 73.73, 'iexCloseTime': 1702069197058, 'iexLastUpdated': 1702069793281, 'iexMarketPercent': 0.016999536811437486, 'iexOpen': 74.08, 'iexOpenTime': 1702045860663, 'iexRealtimePrice': 74.33, 'iexRealtimeSize': 30, 'iexVolume': 49363, 'lastTradeTime': 1702069199950, 'latestPrice': 73.75, 'latestSource': 'Close', 'latestTime': 'December 8, 2023', 'latestUpdate': 1702069201922, 'latestVolume': 2903785, 'low': 73.7, 'lowSource': '15 minute delayed price', 'lowTime': 1702057594141, 'marketCap': 39336867556, 'oddLotDelayedPrice': 73.77, 'oddLotDelayedPriceTime': 1702069182561, 'open': 74.13, 'openTime': 1702045800000, 'openSource': 'official', 'peRatio': 10.26, 'previousClose': 73.83, 'previousVolume': 3030820, 'primaryExchange': 'NEW YORK STOCK EXCHANGE INC.', 'symbol': 'ADM', 'volume': 2903785, 'week52High': 93.98, 'week52Low': 68.88, 'ytdChange': -0.18752000559783932, 'isUSMarketOpen': False}\n",
      "{'avgTotalVolume': 1669804, 'calculationPrice': 'close', 'change': -0.72, 'changePercent': -0.00313, 'close': 229.27, 'closeSource': 'official', 'closeTime': 1702069200325, 'companyName': 'Automatic Data Processing Inc.', 'currency': 'USD', 'delayedPrice': 229.24, 'delayedPriceTime': 1702069182028, 'extendedChange': 0.06, 'extendedChangePercent': 0.00026, 'extendedPrice': 229.33, 'extendedPriceTime': 1702080889718, 'high': 232.605, 'highSource': 'IEX real time price', 'highTime': 1702051109565, 'iexAskPrice': 0, 'iexAskSize': 0, 'iexBidPrice': 0, 'iexBidSize': 0, 'iexClose': 229.21, 'iexCloseTime': 1702069197259, 'iexLastUpdated': 1702069197259, 'iexMarketPercent': 0.019826045352783997, 'iexOpen': 228.69, 'iexOpenTime': 1702045801013, 'iexRealtimePrice': 229.21, 'iexRealtimeSize': 100, 'iexVolume': 35140, 'lastTradeTime': 1702069199995, 'latestPrice': 229.27, 'latestSource': 'Close', 'latestTime': 'December 8, 2023', 'latestUpdate': 1702069200325, 'latestVolume': 1772416, 'low': 228.27, 'lowSource': '15 minute delayed price', 'lowTime': 1702045833018, 'marketCap': 94299847369, 'oddLotDelayedPrice': 229.245, 'oddLotDelayedPriceTime': 1702069182029, 'open': 229.19, 'openTime': 1702045800000, 'openSource': 'official', 'peRatio': 27.23, 'previousClose': 229.99, 'previousVolume': 1758502, 'primaryExchange': 'NASDAQ', 'symbol': 'ADP', 'volume': 1772416, 'week52High': 264.32, 'week52Low': 194.79, 'ytdChange': -0.0016656212418958765, 'isUSMarketOpen': False}\n"
     ]
    },
    {
     "name": "stdout",
     "output_type": "stream",
     "text": [
      "{'avgTotalVolume': 1649501, 'calculationPrice': 'close', 'change': 0.17, 'changePercent': 0.00076, 'close': 224.01, 'closeSource': 'official', 'closeTime': 1702069200026, 'companyName': 'Autodesk Inc.', 'currency': 'USD', 'delayedPrice': 224.09, 'delayedPriceTime': 1702069178485, 'extendedChange': 0, 'extendedChangePercent': 0, 'extendedPrice': 224.01, 'extendedPriceTime': 1702083534199, 'high': 225.31, 'highSource': '15 minute delayed price', 'highTime': 1702069199938, 'iexAskPrice': 0, 'iexAskSize': 0, 'iexBidPrice': 0, 'iexBidSize': 0, 'iexClose': 224.01, 'iexCloseTime': 1702069199360, 'iexLastUpdated': 1702069199360, 'iexMarketPercent': 0.0306063908058823, 'iexOpen': 222.385, 'iexOpenTime': 1702045802661, 'iexRealtimePrice': 224.01, 'iexRealtimeSize': 100, 'iexVolume': 32863, 'lastTradeTime': 1702069199905, 'latestPrice': 224.01, 'latestSource': 'Close', 'latestTime': 'December 8, 2023', 'latestUpdate': 1702069200026, 'latestVolume': 1073730, 'low': 221.895, 'lowSource': '15 minute delayed price', 'lowTime': 1702045902193, 'marketCap': 47919171953, 'oddLotDelayedPrice': 224.08, 'oddLotDelayedPriceTime': 1702069182034, 'open': 222.07, 'openTime': 1702045800000, 'openSource': 'official', 'peRatio': 52.83, 'previousClose': 223.84, 'previousVolume': 1330421, 'primaryExchange': 'NASDAQ', 'symbol': 'ADSK', 'volume': 1073730, 'week52High': 232.15, 'week52Low': 179.61, 'ytdChange': 0.19859806924599976, 'isUSMarketOpen': False}\n",
      "{'avgTotalVolume': 1824410, 'calculationPrice': 'close', 'change': -0.71, 'changePercent': -0.00902, 'close': 78.02, 'closeSource': 'official', 'closeTime': 1702069201976, 'companyName': 'Ameren Corp.', 'currency': 'USD', 'delayedPrice': 78.065, 'delayedPriceTime': 1702069183839, 'extendedChange': 0, 'extendedChangePercent': 0, 'extendedPrice': 78.02, 'extendedPriceTime': 1702080000004, 'high': 79.05, 'highSource': '15 minute delayed price', 'highTime': 1702069199205, 'iexAskPrice': 0, 'iexAskSize': 0, 'iexBidPrice': 0, 'iexBidSize': 0, 'iexClose': 78.065, 'iexCloseTime': 1702069185198, 'iexLastUpdated': 1702069185198, 'iexMarketPercent': 0.03918203874052837, 'iexOpen': 78.95, 'iexOpenTime': 1702045805555, 'iexRealtimePrice': 78.065, 'iexRealtimeSize': 15, 'iexVolume': 63453, 'lastTradeTime': 1702069198355, 'latestPrice': 78.02, 'latestSource': 'Close', 'latestTime': 'December 8, 2023', 'latestUpdate': 1702069201976, 'latestVolume': 1619441, 'low': 77.78, 'lowSource': '15 minute delayed price', 'lowTime': 1702050537684, 'marketCap': 20514972645, 'oddLotDelayedPrice': 78.07, 'oddLotDelayedPriceTime': 1702069185099, 'open': 78.8, 'openTime': 1702045800000, 'openSource': 'official', 'peRatio': 17.69, 'previousClose': 78.73, 'previousVolume': 1680500, 'primaryExchange': 'NEW YORK STOCK EXCHANGE INC.', 'symbol': 'AEE', 'volume': 1619441, 'week52High': 90.32, 'week52Low': 69.71, 'ytdChange': -0.10288908577801469, 'isUSMarketOpen': False}\n",
      "{'avgTotalVolume': 3231683, 'calculationPrice': 'close', 'change': -0.56, 'changePercent': -0.00698, 'close': 79.64, 'closeSource': 'official', 'closeTime': 1702069200418, 'companyName': 'American Electric Power Company Inc.', 'currency': 'USD', 'delayedPrice': 79.625, 'delayedPriceTime': 1702069190801, 'extendedChange': 0.36, 'extendedChangePercent': 0.00452, 'extendedPrice': 80, 'extendedPriceTime': 1702079820347, 'high': 80.44, 'highSource': '15 minute delayed price', 'highTime': 1702069199996, 'iexAskPrice': 79.62, 'iexAskSize': 300, 'iexBidPrice': 63.68, 'iexBidSize': 100, 'iexClose': 79.6, 'iexCloseTime': 1702069198098, 'iexLastUpdated': 1702069198098, 'iexMarketPercent': 0.019540411125582482, 'iexOpen': 80.25, 'iexOpenTime': 1702045801401, 'iexRealtimePrice': 79.6, 'iexRealtimeSize': 8, 'iexVolume': 52916, 'lastTradeTime': 1702069199996, 'latestPrice': 79.64, 'latestSource': 'Close', 'latestTime': 'December 8, 2023', 'latestUpdate': 1702069200418, 'latestVolume': 2708029, 'low': 79.23, 'lowSource': 'IEX real time price', 'lowTime': 1702050552450, 'marketCap': 41880735412, 'oddLotDelayedPrice': 79.625, 'oddLotDelayedPriceTime': 1702069182027, 'open': 80.12, 'openTime': 1702045800000, 'openSource': 'official', 'peRatio': 18.27, 'previousClose': 80.2, 'previousVolume': 2819953, 'primaryExchange': 'NASDAQ', 'symbol': 'AEP', 'volume': 2708029, 'week52High': 94.45, 'week52Low': 67.83, 'ytdChange': -0.10983408738335422, 'isUSMarketOpen': False}\n",
      "{'avgTotalVolume': 5615851, 'calculationPrice': 'close', 'change': 0.05, 'changePercent': 0.00275, 'close': 18.22, 'closeSource': 'official', 'closeTime': 1702069201940, 'companyName': 'AES Corp.', 'currency': 'USD', 'delayedPrice': 18.245, 'delayedPriceTime': 1702069183827, 'extendedChange': 0, 'extendedChangePercent': 0, 'extendedPrice': 18.22, 'extendedPriceTime': 1702080000003, 'high': 18.26, 'highSource': '15 minute delayed price', 'highTime': 1702069199988, 'iexAskPrice': 21.81, 'iexAskSize': 100, 'iexBidPrice': 18.21, 'iexBidSize': 1000, 'iexClose': 18.23, 'iexCloseTime': 1702069193378, 'iexLastUpdated': 1702069193378, 'iexMarketPercent': 0.03616142648272254, 'iexOpen': 18.17, 'iexOpenTime': 1702045873217, 'iexRealtimePrice': 18.23, 'iexRealtimeSize': 1, 'iexVolume': 223113, 'lastTradeTime': 1702069197260, 'latestPrice': 18.22, 'latestSource': 'Close', 'latestTime': 'December 8, 2023', 'latestUpdate': 1702069201940, 'latestVolume': 6169917, 'low': 18.03, 'lowSource': '15 minute delayed price', 'lowTime': 1702055708050, 'marketCap': 12200641018, 'oddLotDelayedPrice': 18.24, 'oddLotDelayedPriceTime': 1702069175493, 'open': 18.15, 'openTime': 1702045800744, 'openSource': 'official', 'peRatio': -21.76, 'previousClose': 18.17, 'previousVolume': 4040500, 'primaryExchange': 'NEW YORK STOCK EXCHANGE INC.', 'symbol': 'AES', 'volume': 6169917, 'week52High': 28.94, 'week52Low': 11.3, 'ytdChange': -0.34480287442996155, 'isUSMarketOpen': False}\n",
      "{'avgTotalVolume': 2254952, 'calculationPrice': 'close', 'change': 0.55, 'changePercent': 0.00671, 'close': 82.55, 'closeSource': 'official', 'closeTime': 1702069201957, 'companyName': 'Aflac Inc.', 'currency': 'USD', 'delayedPrice': 82.53, 'delayedPriceTime': 1702069160516, 'extendedChange': 0, 'extendedChangePercent': 0, 'extendedPrice': 82.55, 'extendedPriceTime': 1702080000002, 'high': 82.61, 'highSource': '15 minute delayed price', 'highTime': 1702069199987, 'iexAskPrice': 98.94, 'iexAskSize': 100, 'iexBidPrice': 65.96, 'iexBidSize': 100, 'iexClose': 82.54, 'iexCloseTime': 1702069198181, 'iexLastUpdated': 1702069198181, 'iexMarketPercent': 0.024051936546927413, 'iexOpen': 82.12, 'iexOpenTime': 1702045806614, 'iexRealtimePrice': 82.54, 'iexRealtimeSize': 100, 'iexVolume': 41594, 'lastTradeTime': 1702069199976, 'latestPrice': 82.55, 'latestSource': 'Close', 'latestTime': 'December 8, 2023', 'latestUpdate': 1702069201957, 'latestVolume': 1729341, 'low': 81.82, 'lowSource': '15 minute delayed price', 'lowTime': 1702045801047, 'marketCap': 48240559837, 'oddLotDelayedPrice': 82.55, 'oddLotDelayedPriceTime': 1702069178498, 'open': 82, 'openTime': 1702045800000, 'openSource': 'official', 'peRatio': 10.98, 'previousClose': 82, 'previousVolume': 1798359, 'primaryExchange': 'NEW YORK STOCK EXCHANGE INC.', 'symbol': 'AFL', 'volume': 1729341, 'week52High': 83.45, 'week52Low': 59.17, 'ytdChange': 0.1732275326162569, 'isUSMarketOpen': False}\n",
      "{'avgTotalVolume': 3225981, 'calculationPrice': 'close', 'change': 0.12, 'changePercent': 0.00183, 'close': 65.53, 'closeSource': 'official', 'closeTime': 1702069201982, 'companyName': 'American International Group Inc', 'currency': 'USD', 'delayedPrice': 65.53, 'delayedPriceTime': 1702069187776, 'extendedChange': 0, 'extendedChangePercent': 0, 'extendedPrice': 65.53, 'extendedPriceTime': 1702080000002, 'high': 65.845, 'highSource': '15 minute delayed price', 'highTime': 1702069199987, 'iexAskPrice': 78.86, 'iexAskSize': 100, 'iexBidPrice': 52.57, 'iexBidSize': 100, 'iexClose': 65.52, 'iexCloseTime': 1702069197083, 'iexLastUpdated': 1702069197083, 'iexMarketPercent': 0.021448827617170697, 'iexOpen': 65.5, 'iexOpenTime': 1702045875908, 'iexRealtimePrice': 65.52, 'iexRealtimeSize': 100, 'iexVolume': 62678, 'lastTradeTime': 1702069199984, 'latestPrice': 65.53, 'latestSource': 'Close', 'latestTime': 'December 8, 2023', 'latestUpdate': 1702069201982, 'latestVolume': 2922211, 'low': 65.2, 'lowSource': '15 minute delayed price', 'lowTime': 1702046345378, 'marketCap': 46004703677, 'oddLotDelayedPrice': 65.53, 'oddLotDelayedPriceTime': 1702069187774, 'open': 65.58, 'openTime': 1702045800000, 'openSource': 'official', 'peRatio': 12.72, 'previousClose': 65.41, 'previousVolume': 3790041, 'primaryExchange': 'NEW YORK STOCK EXCHANGE INC.', 'symbol': 'AIG', 'volume': 2922211, 'week52High': 66.68, 'week52Low': 45.1, 'ytdChange': 0.05610561062882602, 'isUSMarketOpen': False}\n"
     ]
    },
    {
     "name": "stdout",
     "output_type": "stream",
     "text": [
      "{'avgTotalVolume': 944042, 'calculationPrice': 'close', 'change': 0.01, 'changePercent': 0.0014, 'close': 7.14, 'closeSource': 'official', 'closeTime': 1702069201975, 'companyName': 'Apartment Investment & Management Co. - Class A', 'currency': 'USD', 'delayedPrice': 7.15, 'delayedPriceTime': 1702069180128, 'extendedChange': 0, 'extendedChangePercent': 0, 'extendedPrice': 7.14, 'extendedPriceTime': 1702080000002, 'high': 7.175, 'highSource': '15 minute delayed price', 'highTime': 1702069199978, 'iexAskPrice': 0, 'iexAskSize': 0, 'iexBidPrice': 0, 'iexBidSize': 0, 'iexClose': 7.16, 'iexCloseTime': 1702069196478, 'iexLastUpdated': 1702069196478, 'iexMarketPercent': 0.06051700380640035, 'iexOpen': 7.13, 'iexOpenTime': 1702045996041, 'iexRealtimePrice': 7.16, 'iexRealtimeSize': 3, 'iexVolume': 40669, 'lastTradeTime': 1702069197312, 'latestPrice': 7.14, 'latestSource': 'Close', 'latestTime': 'December 8, 2023', 'latestUpdate': 1702069201975, 'latestVolume': 672026, 'low': 7.05, 'lowSource': '15 minute delayed price', 'lowTime': 1702045807598, 'marketCap': 1040724058, 'oddLotDelayedPrice': 7.15, 'oddLotDelayedPriceTime': 1702069190824, 'open': 7.1, 'openTime': 1702045800000, 'openSource': 'official', 'peRatio': -4.82, 'previousClose': 7.13, 'previousVolume': 816586, 'primaryExchange': 'NEW YORK STOCK EXCHANGE INC.', 'symbol': 'AIV', 'volume': 672026, 'week52High': 8.93, 'week52Low': 5.63, 'ytdChange': 0.0028044943820223923, 'isUSMarketOpen': False}\n",
      "{'avgTotalVolume': 404685, 'calculationPrice': 'close', 'change': 0, 'changePercent': 0, 'close': 167.68, 'closeSource': 'official', 'closeTime': 1702069202222, 'companyName': 'Assurant Inc', 'currency': 'USD', 'delayedPrice': 167.55, 'delayedPriceTime': 1702069183895, 'extendedChange': 0, 'extendedChangePercent': 0, 'extendedPrice': 167.68, 'extendedPriceTime': 1702080000004, 'high': 168.295, 'highSource': '15 minute delayed price', 'highTime': 1702069199988, 'iexAskPrice': 0, 'iexAskSize': 0, 'iexBidPrice': 0, 'iexBidSize': 0, 'iexClose': 167.64, 'iexCloseTime': 1702069199979, 'iexLastUpdated': 1702069199979, 'iexMarketPercent': 0.037175563011635764, 'iexOpen': 167.93, 'iexOpenTime': 1702045972409, 'iexRealtimePrice': 167.64, 'iexRealtimeSize': 100, 'iexVolume': 9850, 'lastTradeTime': 1702069199979, 'latestPrice': 167.68, 'latestSource': 'Close', 'latestTime': 'December 8, 2023', 'latestUpdate': 1702069202222, 'latestVolume': 264959, 'low': 166.98, 'lowSource': 'IEX real time price', 'lowTime': 1702051709732, 'marketCap': 8818395162, 'oddLotDelayedPrice': 167.55, 'oddLotDelayedPriceTime': 1702069183896, 'open': 167.94, 'openTime': 1702045800000, 'openSource': 'official', 'peRatio': 16.97, 'previousClose': 167.68, 'previousVolume': 322741, 'primaryExchange': 'NEW YORK STOCK EXCHANGE INC.', 'symbol': 'AIZ', 'volume': 264959, 'week52High': 172.95, 'week52Low': 102.93, 'ytdChange': 0.3685448519191703, 'isUSMarketOpen': False}\n",
      "{'avgTotalVolume': 801064, 'calculationPrice': 'close', 'change': -0.09, 'changePercent': -0.00037, 'close': 240.96, 'closeSource': 'official', 'closeTime': 1702069201964, 'companyName': 'Arthur J. Gallagher & Co.', 'currency': 'USD', 'delayedPrice': 240.95, 'delayedPriceTime': 1702069161421, 'extendedChange': -0.41, 'extendedChangePercent': -0.0017, 'extendedPrice': 240.55, 'extendedPriceTime': 1702083107722, 'high': 242.1, 'highSource': '15 minute delayed price', 'highTime': 1702069199978, 'iexAskPrice': 0, 'iexAskSize': 0, 'iexBidPrice': 0, 'iexBidSize': 0, 'iexClose': 240.92, 'iexCloseTime': 1702069197508, 'iexLastUpdated': 1702069197508, 'iexMarketPercent': 0.04380001830697554, 'iexOpen': 241.68, 'iexOpenTime': 1702045908270, 'iexRealtimePrice': 240.92, 'iexRealtimeSize': 100, 'iexVolume': 37802, 'lastTradeTime': 1702069199848, 'latestPrice': 240.96, 'latestSource': 'Close', 'latestTime': 'December 8, 2023', 'latestUpdate': 1702069201964, 'latestVolume': 863059, 'low': 239.66, 'lowSource': '15 minute delayed price', 'lowTime': 1702061670659, 'marketCap': 52023264000, 'oddLotDelayedPrice': 241.02, 'oddLotDelayedPriceTime': 1702069181170, 'open': 241.91, 'openTime': 1702045800000, 'openSource': 'official', 'peRatio': 46.16, 'previousClose': 241.05, 'previousVolume': 743997, 'primaryExchange': 'NEW YORK STOCK EXCHANGE INC.', 'symbol': 'AJG', 'volume': 863059, 'week52High': 253.43, 'week52Low': 173.16, 'ytdChange': 0.2913946453582217, 'isUSMarketOpen': False}\n",
      "{'avgTotalVolume': 1299680, 'calculationPrice': 'close', 'change': -0.52, 'changePercent': -0.00452, 'close': 114.41, 'closeSource': 'official', 'closeTime': 1702069200100, 'companyName': 'Akamai Technologies Inc', 'currency': 'USD', 'delayedPrice': 114.42, 'delayedPriceTime': 1702069183883, 'extendedChange': 0, 'extendedChangePercent': 0, 'extendedPrice': 114.41, 'extendedPriceTime': 1702070400566, 'high': 114.92, 'highSource': '15 minute delayed price', 'highTime': 1702069199999, 'iexAskPrice': 114.43, 'iexAskSize': 100, 'iexBidPrice': 114.4, 'iexBidSize': 100, 'iexClose': 114.4, 'iexCloseTime': 1702069197357, 'iexLastUpdated': 1702069197357, 'iexMarketPercent': 0.037403629352447676, 'iexOpen': 114.38, 'iexOpenTime': 1702045876752, 'iexRealtimePrice': 114.4, 'iexRealtimeSize': 100, 'iexVolume': 42252, 'lastTradeTime': 1702069199999, 'latestPrice': 114.41, 'latestSource': 'Close', 'latestTime': 'December 8, 2023', 'latestUpdate': 1702069200100, 'latestVolume': 1129623, 'low': 114.01, 'lowSource': '15 minute delayed price', 'lowTime': 1702053865147, 'marketCap': 17256639695, 'oddLotDelayedPrice': 114.42, 'oddLotDelayedPriceTime': 1702069190828, 'open': 114.37, 'openTime': 1702045800000, 'openSource': 'official', 'peRatio': 31.6, 'previousClose': 114.93, 'previousVolume': 1463558, 'primaryExchange': 'NASDAQ', 'symbol': 'AKAM', 'volume': 1129623, 'week52High': 116.88, 'week52Low': 70.65, 'ytdChange': 0.35882519572953747, 'isUSMarketOpen': False}\n",
      "{'avgTotalVolume': 3256225, 'calculationPrice': 'close', 'change': 2.64, 'changePercent': 0.02106, 'close': 127.99, 'closeSource': 'official', 'closeTime': 1702069201855, 'companyName': 'Albemarle Corp.', 'currency': 'USD', 'delayedPrice': 128.03, 'delayedPriceTime': 1702069184764, 'extendedChange': 0.51, 'extendedChangePercent': 0.00398, 'extendedPrice': 128.5, 'extendedPriceTime': 1702083422865, 'high': 133.25, 'highSource': '15 minute delayed price', 'highTime': 1702069199986, 'iexAskPrice': 0, 'iexAskSize': 0, 'iexBidPrice': 0, 'iexBidSize': 0, 'iexClose': 127.98, 'iexCloseTime': 1702069198055, 'iexLastUpdated': 1702069198055, 'iexMarketPercent': 0.028264617152707946, 'iexOpen': 129.47, 'iexOpenTime': 1702045808321, 'iexRealtimePrice': 127.98, 'iexRealtimeSize': 3, 'iexVolume': 136938, 'lastTradeTime': 1702069199978, 'latestPrice': 127.99, 'latestSource': 'Close', 'latestTime': 'December 8, 2023', 'latestUpdate': 1702069201855, 'latestVolume': 4844856, 'low': 127.73, 'lowSource': '15 minute delayed price', 'lowTime': 1702057753461, 'marketCap': 15020045283, 'oddLotDelayedPrice': 128.039, 'oddLotDelayedPriceTime': 1702069183860, 'open': 129, 'openTime': 1702045814171, 'openSource': 'official', 'peRatio': 4.54, 'previousClose': 125.35, 'previousVolume': 3971253, 'primaryExchange': 'NEW YORK STOCK EXCHANGE INC.', 'symbol': 'ALB', 'volume': 4844856, 'week52High': 291.31, 'week52Low': 112, 'ytdChange': -0.3975538195054484, 'isUSMarketOpen': False}\n",
      "{'avgTotalVolume': 1046407, 'calculationPrice': 'close', 'change': 4.62, 'changePercent': 0.02133, 'close': 221.23, 'closeSource': 'official', 'closeTime': 1702069200031, 'companyName': 'Align Technology, Inc.', 'currency': 'USD', 'delayedPrice': 221.13, 'delayedPriceTime': 1702069189358, 'extendedChange': -0.42, 'extendedChangePercent': -0.0019, 'extendedPrice': 220.81, 'extendedPriceTime': 1702083519774, 'high': 222.05, 'highSource': '15 minute delayed price', 'highTime': 1702069200001, 'iexAskPrice': 0, 'iexAskSize': 0, 'iexBidPrice': 0, 'iexBidSize': 0, 'iexClose': 221.185, 'iexCloseTime': 1702069199607, 'iexLastUpdated': 1702069199607, 'iexMarketPercent': 0.04704557992515171, 'iexOpen': 216.08, 'iexOpenTime': 1702045800595, 'iexRealtimePrice': 221.185, 'iexRealtimeSize': 100, 'iexVolume': 63106, 'lastTradeTime': 1702069199904, 'latestPrice': 221.23, 'latestSource': 'Close', 'latestTime': 'December 8, 2023', 'latestUpdate': 1702069200031, 'latestVolume': 1341380, 'low': 214.9, 'lowSource': '15 minute delayed price', 'lowTime': 1702045996865, 'marketCap': 16943809690, 'oddLotDelayedPrice': 221.18, 'oddLotDelayedPriceTime': 1702069189358, 'open': 215.86, 'openTime': 1702045800000, 'openSource': 'official', 'peRatio': 46.97, 'previousClose': 216.61, 'previousVolume': 727971, 'primaryExchange': 'NASDAQ', 'symbol': 'ALGN', 'volume': 1341380, 'week52High': 413.2, 'week52Low': 176.34, 'ytdChange': 0.04840444286391669, 'isUSMarketOpen': False}\n"
     ]
    },
    {
     "name": "stdout",
     "output_type": "stream",
     "text": [
      "{'avgTotalVolume': 3887949, 'calculationPrice': 'close', 'change': -0.36, 'changePercent': -0.01001, 'close': 35.61, 'closeSource': 'official', 'closeTime': 1702069201963, 'companyName': 'Alaska Air Group Inc.', 'currency': 'USD', 'delayedPrice': 35.62, 'delayedPriceTime': 1702069183829, 'extendedChange': 0.11, 'extendedChangePercent': 0.00309, 'extendedPrice': 35.72, 'extendedPriceTime': 1702083493150, 'high': 36.08, 'highSource': '15 minute delayed price', 'highTime': 1702069199992, 'iexAskPrice': 0, 'iexAskSize': 0, 'iexBidPrice': 0, 'iexBidSize': 0, 'iexClose': 35.56, 'iexCloseTime': 1702069198019, 'iexLastUpdated': 1702069198019, 'iexMarketPercent': 0.05170123731909023, 'iexOpen': 35.92, 'iexOpenTime': 1702045800875, 'iexRealtimePrice': 35.56, 'iexRealtimeSize': 78, 'iexVolume': 219847, 'lastTradeTime': 1702069199988, 'latestPrice': 35.61, 'latestSource': 'Close', 'latestTime': 'December 8, 2023', 'latestUpdate': 1702069201963, 'latestVolume': 4252258, 'low': 35.415, 'lowSource': '15 minute delayed price', 'lowTime': 1702046594488, 'marketCap': 4559970072, 'oddLotDelayedPrice': 35.62, 'oddLotDelayedPriceTime': 1702069183851, 'open': 35.96, 'openTime': 1702045800000, 'openSource': 'official', 'peRatio': 17.72, 'previousClose': 35.97, 'previousVolume': 6061770, 'primaryExchange': 'NEW YORK STOCK EXCHANGE INC.', 'symbol': 'ALK', 'volume': 4252258, 'week52High': 57.18, 'week52Low': 30.75, 'ytdChange': -0.17232951560316714, 'isUSMarketOpen': False}\n",
      "{'avgTotalVolume': 1241767, 'calculationPrice': 'close', 'change': 0.3, 'changePercent': 0.00216, 'close': 139.32, 'closeSource': 'official', 'closeTime': 1702069201979, 'companyName': 'Allstate Corp (The)', 'currency': 'USD', 'delayedPrice': 139.325, 'delayedPriceTime': 1702069165353, 'extendedChange': 1.88, 'extendedChangePercent': 0.01349, 'extendedPrice': 141.2, 'extendedPriceTime': 1702080240422, 'high': 139.98, 'highSource': '15 minute delayed price', 'highTime': 1702069199977, 'iexAskPrice': 0, 'iexAskSize': 0, 'iexBidPrice': 0, 'iexBidSize': 0, 'iexClose': 139.32, 'iexCloseTime': 1702069197562, 'iexLastUpdated': 1702069197562, 'iexMarketPercent': 0.036795420044251737, 'iexOpen': 139.54, 'iexOpenTime': 1702045804698, 'iexRealtimePrice': 139.32, 'iexRealtimeSize': 87, 'iexVolume': 29668, 'lastTradeTime': 1702069199268, 'latestPrice': 139.32, 'latestSource': 'Close', 'latestTime': 'December 8, 2023', 'latestUpdate': 1702069201979, 'latestVolume': 806296, 'low': 138.56, 'lowSource': '15 minute delayed price', 'lowTime': 1702055387141, 'marketCap': 36458241756, 'oddLotDelayedPrice': 139.28, 'oddLotDelayedPriceTime': 1702069187772, 'open': 139.78, 'openTime': 1702045800000, 'openSource': 'official', 'peRatio': -17.5, 'previousClose': 139.02, 'previousVolume': 1685826, 'primaryExchange': 'NEW YORK STOCK EXCHANGE INC.', 'symbol': 'ALL', 'volume': 806296, 'week52High': 139.98, 'week52Low': 99.08, 'ytdChange': 0.05856063891645597, 'isUSMarketOpen': False}\n",
      "{'avgTotalVolume': 640419, 'calculationPrice': 'close', 'change': 5.25, 'changePercent': 0.04996, 'close': 110.34, 'closeSource': 'official', 'closeTime': 1702069202297, 'companyName': 'Allegion plc', 'currency': 'USD', 'delayedPrice': 110.37, 'delayedPriceTime': 1702069165383, 'extendedChange': 0, 'extendedChangePercent': 0, 'extendedPrice': 110.34, 'extendedPriceTime': 1702080000003, 'high': 112.355, 'highSource': '15 minute delayed price', 'highTime': 1702069200003, 'iexAskPrice': 0, 'iexAskSize': 0, 'iexBidPrice': 0, 'iexBidSize': 0, 'iexClose': 110.36, 'iexCloseTime': 1702069193332, 'iexLastUpdated': 1702069193332, 'iexMarketPercent': 0.060258598486159005, 'iexOpen': 106.655, 'iexOpenTime': 1702045801828, 'iexRealtimePrice': 110.36, 'iexRealtimeSize': 100, 'iexVolume': 125402, 'lastTradeTime': 1702069200000, 'latestPrice': 110.34, 'latestSource': 'Close', 'latestTime': 'December 8, 2023', 'latestUpdate': 1702069202297, 'latestVolume': 2081064, 'low': 106.655, 'lowSource': '15 minute delayed price', 'lowTime': 1702045801758, 'marketCap': 9686480032, 'oddLotDelayedPrice': 110.37, 'oddLotDelayedPriceTime': 1702069165383, 'open': 107, 'openTime': 1702045800000, 'openSource': 'official', 'peRatio': 17.49, 'previousClose': 105.09, 'previousVolume': 729881, 'primaryExchange': 'NEW YORK STOCK EXCHANGE INC.', 'symbol': 'ALLE', 'volume': 2081064, 'week52High': 127.82, 'week52Low': 95.94, 'ytdChange': 0.06072650514664723, 'isUSMarketOpen': False}\n",
      "{'avgTotalVolume': 0, 'calculationPrice': 'close', 'change': 3.05, 'changePercent': 0.017, 'close': None, 'closeSource': 'official', 'closeTime': None, 'companyName': 'Alexion Pharmaceuticals Inc.', 'currency': 'USD', 'delayedPrice': None, 'delayedPriceTime': None, 'extendedChange': 0.5, 'extendedChangePercent': 0.00274, 'extendedPrice': 183, 'extendedPriceTime': 1626823711502, 'high': 182.67, 'highSource': '15 minute delayed price', 'highTime': 1626811199910, 'iexAskPrice': None, 'iexAskSize': None, 'iexBidPrice': None, 'iexBidSize': None, 'iexClose': 182.41, 'iexCloseTime': 1626811198763, 'iexLastUpdated': None, 'iexMarketPercent': None, 'iexOpen': 183.08, 'iexOpenTime': 1626811649267, 'iexRealtimePrice': None, 'iexRealtimeSize': None, 'iexVolume': None, 'lastTradeTime': 1626811199910, 'latestPrice': 182.5, 'latestSource': 'Close', 'latestTime': 'July 20, 2021', 'latestUpdate': 1626811200971, 'latestVolume': 3, 'low': 180.13, 'lowSource': '15 minute delayed price', 'lowTime': 1626787980421, 'marketCap': 40336009475, 'oddLotDelayedPrice': 183, 'oddLotDelayedPriceTime': 1626893124836, 'open': None, 'openTime': None, 'openSource': 'official', 'peRatio': 59.45, 'previousClose': 179.45, 'previousVolume': 10068088, 'primaryExchange': 'NASDAQ/NGS (GLOBAL SELECT MARKET)', 'symbol': 'ALXN', 'volume': 0, 'week52High': 182.67, 'week52Low': 0, 'ytdChange': 0.017, 'isUSMarketOpen': False}\n",
      "{'avgTotalVolume': 6240183, 'calculationPrice': 'close', 'change': -0.67, 'changePercent': -0.00452, 'close': 147.72, 'closeSource': 'official', 'closeTime': 1702069200315, 'companyName': 'Applied Materials Inc.', 'currency': 'USD', 'delayedPrice': 147.65, 'delayedPriceTime': 1702069189354, 'extendedChange': 0.1, 'extendedChangePercent': 0.00068, 'extendedPrice': 147.82, 'extendedPriceTime': 1702083549011, 'high': 148.815, 'highSource': 'IEX real time price', 'highTime': 1702049347087, 'iexAskPrice': 147.73, 'iexAskSize': 106, 'iexBidPrice': 118.41, 'iexBidSize': 100, 'iexClose': 147.73, 'iexCloseTime': 1702069198033, 'iexLastUpdated': 1702069198033, 'iexMarketPercent': 0.028461006341233892, 'iexOpen': 147.48, 'iexOpenTime': 1702045802719, 'iexRealtimePrice': 147.73, 'iexRealtimeSize': 23, 'iexVolume': 142026, 'lastTradeTime': 1702069199602, 'latestPrice': 147.72, 'latestSource': 'Close', 'latestTime': 'December 8, 2023', 'latestUpdate': 1702069200315, 'latestVolume': 4990196, 'low': 145.99, 'lowSource': '15 minute delayed price', 'lowTime': 1702055727080, 'marketCap': 124015940617, 'oddLotDelayedPrice': 147.66, 'oddLotDelayedPriceTime': 1702069183824, 'open': 147.42, 'openTime': 1702045800000, 'openSource': 'official', 'peRatio': 19.49, 'previousClose': 148.39, 'previousVolume': 5753646, 'primaryExchange': 'NASDAQ', 'symbol': 'AMAT', 'volume': 4990196, 'week52High': 157.08, 'week52Low': 92.42, 'ytdChange': 0.5400732470495656, 'isUSMarketOpen': False}\n",
      "{'avgTotalVolume': 7613539, 'calculationPrice': 'close', 'change': 0.01, 'changePercent': 0.00104, 'close': 9.65, 'closeSource': 'official', 'closeTime': 1702069202098, 'companyName': 'Amcor Plc', 'currency': 'USD', 'delayedPrice': 9.66, 'delayedPriceTime': 1702069182570, 'extendedChange': 0, 'extendedChangePercent': 0, 'extendedPrice': 9.65, 'extendedPriceTime': 1702083568110, 'high': 9.77, 'highSource': '15 minute delayed price', 'highTime': 1702069199979, 'iexAskPrice': 0, 'iexAskSize': 0, 'iexBidPrice': 0, 'iexBidSize': 0, 'iexClose': 9.66, 'iexCloseTime': 1702069198479, 'iexLastUpdated': 1702069198479, 'iexMarketPercent': 0.02909004175810292, 'iexOpen': 9.635, 'iexOpenTime': 1702045829717, 'iexRealtimePrice': 9.66, 'iexRealtimeSize': 100, 'iexVolume': 246364, 'lastTradeTime': 1702069198479, 'latestPrice': 9.65, 'latestSource': 'Close', 'latestTime': 'December 8, 2023', 'latestUpdate': 1702069202098, 'latestVolume': 8469015, 'low': 9.62, 'lowSource': '15 minute delayed price', 'lowTime': 1702046377263, 'marketCap': 13958121865, 'oddLotDelayedPrice': 9.66, 'oddLotDelayedPriceTime': 1702069190829, 'open': 9.65, 'openTime': 1702045800000, 'openSource': 'official', 'peRatio': 14.61, 'previousClose': 9.64, 'previousVolume': 10038027, 'primaryExchange': 'NEW YORK STOCK EXCHANGE INC.', 'symbol': 'AMCR', 'volume': 8469015, 'week52High': 12.17, 'week52Low': 8.34, 'ytdChange': -0.14864686601393653, 'isUSMarketOpen': False}\n"
     ]
    },
    {
     "name": "stdout",
     "output_type": "stream",
     "text": [
      "{'avgTotalVolume': 966465, 'calculationPrice': 'close', 'change': 1.25, 'changePercent': 0.00802, 'close': 157.16, 'closeSource': 'official', 'closeTime': 1702069201877, 'companyName': 'Ametek Inc', 'currency': 'USD', 'delayedPrice': 157.15, 'delayedPriceTime': 1702069182561, 'extendedChange': 0, 'extendedChangePercent': 0, 'extendedPrice': 157.16, 'extendedPriceTime': 1702080000003, 'high': 157.687, 'highSource': '15 minute delayed price', 'highTime': 1702069199991, 'iexAskPrice': 0, 'iexAskSize': 0, 'iexBidPrice': 0, 'iexBidSize': 0, 'iexClose': 157.12, 'iexCloseTime': 1702069199006, 'iexLastUpdated': 1702069199006, 'iexMarketPercent': 0.02966590526750747, 'iexOpen': 156.18, 'iexOpenTime': 1702045806008, 'iexRealtimePrice': 157.12, 'iexRealtimeSize': 67, 'iexVolume': 37261, 'lastTradeTime': 1702069199989, 'latestPrice': 157.16, 'latestSource': 'Close', 'latestTime': 'December 8, 2023', 'latestUpdate': 1702069201877, 'latestVolume': 1256021, 'low': 156.18, 'lowSource': 'IEX real time price', 'lowTime': 1702045806195, 'marketCap': 36272316934, 'oddLotDelayedPrice': 157.13, 'oddLotDelayedPriceTime': 1702069187774, 'open': 156.44, 'openTime': 1702045800000, 'openSource': 'official', 'peRatio': 28.47, 'previousClose': 155.91, 'previousVolume': 1028486, 'primaryExchange': 'NEW YORK STOCK EXCHANGE INC.', 'symbol': 'AME', 'volume': 1256021, 'week52High': 164.22, 'week52Low': 130.88, 'ytdChange': 0.13138477688337075, 'isUSMarketOpen': False}\n",
      "{'avgTotalVolume': 2093278, 'calculationPrice': 'close', 'change': -2.19, 'changePercent': -0.00807, 'close': 269.12, 'closeSource': 'official', 'closeTime': 1702069200230, 'companyName': 'AMGEN Inc.', 'currency': 'USD', 'delayedPrice': 268.995, 'delayedPriceTime': 1702069181178, 'extendedChange': 0, 'extendedChangePercent': 0, 'extendedPrice': 269.12, 'extendedPriceTime': 1702082216709, 'high': 271.97, 'highSource': '15 minute delayed price', 'highTime': 1702069199996, 'iexAskPrice': 0, 'iexAskSize': 0, 'iexBidPrice': 0, 'iexBidSize': 0, 'iexClose': 269.07, 'iexCloseTime': 1702069199905, 'iexLastUpdated': 1702069199905, 'iexMarketPercent': 0.01612671946900144, 'iexOpen': 270.03, 'iexOpenTime': 1702045811750, 'iexRealtimePrice': 269.07, 'iexRealtimeSize': 25, 'iexVolume': 42062, 'lastTradeTime': 1702069199990, 'latestPrice': 269.12, 'latestSource': 'Close', 'latestTime': 'December 8, 2023', 'latestUpdate': 1702069200230, 'latestVolume': 2608218, 'low': 268.82, 'lowSource': '15 minute delayed price', 'lowTime': 1702069127973, 'marketCap': 144027110626, 'oddLotDelayedPrice': 269.02, 'oddLotDelayedPriceTime': 1702069187775, 'open': 271.17, 'openTime': 1702045800000, 'openSource': 'official', 'peRatio': 19.13, 'previousClose': 271.31, 'previousVolume': 2081420, 'primaryExchange': 'NASDAQ', 'symbol': 'AMGN', 'volume': 2608218, 'week52High': 283.98, 'week52Low': 206.74, 'ytdChange': 0.06915501499840596, 'isUSMarketOpen': False}\n",
      "{'avgTotalVolume': 477504, 'calculationPrice': 'close', 'change': 4.85, 'changePercent': 0.01375, 'close': 357.58, 'closeSource': 'official', 'closeTime': 1702069201974, 'companyName': 'Ameriprise Financial Inc', 'currency': 'USD', 'delayedPrice': 357.61, 'delayedPriceTime': 1702069186718, 'extendedChange': 0, 'extendedChangePercent': 0, 'extendedPrice': 357.58, 'extendedPriceTime': 1702080000003, 'high': 358.32, 'highSource': 'IEX real time price', 'highTime': 1702067888347, 'iexAskPrice': 0, 'iexAskSize': 0, 'iexBidPrice': 0, 'iexBidSize': 0, 'iexClose': 357.51, 'iexCloseTime': 1702069197521, 'iexLastUpdated': 1702069197521, 'iexMarketPercent': 0.044947878544330744, 'iexOpen': 353.42, 'iexOpenTime': 1702046124990, 'iexRealtimePrice': 357.51, 'iexRealtimeSize': 7, 'iexVolume': 18791, 'lastTradeTime': 1702069199730, 'latestPrice': 357.58, 'latestSource': 'Close', 'latestTime': 'December 8, 2023', 'latestUpdate': 1702069201974, 'latestVolume': 418062, 'low': 352.32, 'lowSource': '15 minute delayed price', 'lowTime': 1702045800739, 'marketCap': 36185734335, 'oddLotDelayedPrice': 357.52, 'oddLotDelayedPriceTime': 1702069182575, 'open': 352.32, 'openTime': 1702045800000, 'openSource': 'official', 'peRatio': 14.61, 'previousClose': 352.73, 'previousVolume': 449119, 'primaryExchange': 'NEW YORK STOCK EXCHANGE INC.', 'symbol': 'AMP', 'volume': 418062, 'week52High': 358.32, 'week52Low': 271.61, 'ytdChange': 0.165162375895843, 'isUSMarketOpen': False}\n",
      "{'avgTotalVolume': 2231644, 'calculationPrice': 'close', 'change': -4.27, 'changePercent': -0.02026, 'close': 206.45, 'closeSource': 'official', 'closeTime': 1702069202274, 'companyName': 'American Tower Corp.', 'currency': 'USD', 'delayedPrice': 206.46, 'delayedPriceTime': 1702069194996, 'extendedChange': 0, 'extendedChangePercent': 0, 'extendedPrice': 206.45, 'extendedPriceTime': 1702080000003, 'high': 210.29, 'highSource': '15 minute delayed price', 'highTime': 1702069199995, 'iexAskPrice': 0, 'iexAskSize': 0, 'iexBidPrice': 0, 'iexBidSize': 0, 'iexClose': 206.435, 'iexCloseTime': 1702069195568, 'iexLastUpdated': 1702069195568, 'iexMarketPercent': 0.042179498241357784, 'iexOpen': 209.615, 'iexOpenTime': 1702045803298, 'iexRealtimePrice': 206.435, 'iexRealtimeSize': 98, 'iexVolume': 99726, 'lastTradeTime': 1702069199995, 'latestPrice': 206.45, 'latestSource': 'Close', 'latestTime': 'December 8, 2023', 'latestUpdate': 1702069202274, 'latestVolume': 2364324, 'low': 204.05, 'lowSource': '15 minute delayed price', 'lowTime': 1702061149446, 'marketCap': 96246990000, 'oddLotDelayedPrice': 206.42, 'oddLotDelayedPriceTime': 1702069186668, 'open': 209.8, 'openTime': 1702045800000, 'openSource': 'official', 'peRatio': 134.93, 'previousClose': 210.72, 'previousVolume': 1964478, 'primaryExchange': 'NEW YORK STOCK EXCHANGE INC.', 'symbol': 'AMT', 'volume': 2364324, 'week52High': 229.61, 'week52Low': 153.03, 'ytdChange': 0.0001783061460195988, 'isUSMarketOpen': False}\n",
      "{'avgTotalVolume': 47621528, 'calculationPrice': 'close', 'change': 0.54, 'changePercent': 0.00368, 'close': 147.42, 'closeSource': 'official', 'closeTime': 1702069200344, 'companyName': 'Amazon.com Inc.', 'currency': 'USD', 'delayedPrice': 147.44, 'delayedPriceTime': 1702069178464, 'extendedChange': 0.045, 'extendedChangePercent': 0.00031, 'extendedPrice': 147.465, 'extendedPriceTime': 1702083599860, 'high': 147.84, 'highSource': '15 minute delayed price', 'highTime': 1702069199999, 'iexAskPrice': 0, 'iexAskSize': 0, 'iexBidPrice': 0, 'iexBidSize': 0, 'iexClose': 147.41, 'iexCloseTime': 1702069199764, 'iexLastUpdated': 1702069199764, 'iexMarketPercent': 0.02051703140591083, 'iexOpen': 145.46, 'iexOpenTime': 1702045800099, 'iexRealtimePrice': 147.41, 'iexRealtimeSize': 200, 'iexVolume': 859786, 'lastTradeTime': 1702069199901, 'latestPrice': 147.42, 'latestSource': 'Close', 'latestTime': 'December 8, 2023', 'latestUpdate': 1702069200344, 'latestVolume': 41905965, 'low': 145.4, 'lowSource': '15 minute delayed price', 'lowTime': 1702045800824, 'marketCap': 1523442788988, 'oddLotDelayedPrice': 147.44, 'oddLotDelayedPriceTime': 1702069178466, 'open': 145.4, 'openTime': 1702045800824, 'openSource': 'official', 'peRatio': 75.99, 'previousClose': 146.88, 'previousVolume': 52352830, 'primaryExchange': 'NASDAQ', 'symbol': 'AMZN', 'volume': 41905965, 'week52High': 149.26, 'week52Low': 81.43, 'ytdChange': 0.7522514285714285, 'isUSMarketOpen': False}\n",
      "{'avgTotalVolume': 1703597, 'calculationPrice': 'close', 'change': 8.74, 'changePercent': 0.0406, 'close': 224.03, 'closeSource': 'official', 'closeTime': 1702069201863, 'companyName': 'Arista Networks Inc', 'currency': 'USD', 'delayedPrice': 224.07, 'delayedPriceTime': 1702069175502, 'extendedChange': 0.12, 'extendedChangePercent': 0.00054, 'extendedPrice': 224.15, 'extendedPriceTime': 1702083370311, 'high': 224.23, 'highSource': '15 minute delayed price', 'highTime': 1702069199995, 'iexAskPrice': 0, 'iexAskSize': 0, 'iexBidPrice': 0, 'iexBidSize': 0, 'iexClose': 224.1, 'iexCloseTime': 1702069198038, 'iexLastUpdated': 1702069198038, 'iexMarketPercent': 0.02353039582047578, 'iexOpen': 217.18, 'iexOpenTime': 1702045807558, 'iexRealtimePrice': 224.1, 'iexRealtimeSize': 100, 'iexVolume': 52043, 'lastTradeTime': 1702069199977, 'latestPrice': 224.03, 'latestSource': 'Close', 'latestTime': 'December 8, 2023', 'latestUpdate': 1702069201863, 'latestVolume': 2211735, 'low': 216.43, 'lowSource': '15 minute delayed price', 'lowTime': 1702045800768, 'marketCap': 69695764812, 'oddLotDelayedPrice': 224.05, 'oddLotDelayedPriceTime': 1702069178496, 'open': 216.43, 'openTime': 1702045800000, 'openSource': 'official', 'peRatio': 37.28, 'previousClose': 215.29, 'previousVolume': 1486675, 'primaryExchange': 'NEW YORK STOCK EXCHANGE INC.', 'symbol': 'ANET', 'volume': 2211735, 'week52High': 224.23, 'week52Low': 107.57, 'ytdChange': 0.8147244334569428, 'isUSMarketOpen': False}\n"
     ]
    },
    {
     "name": "stdout",
     "output_type": "stream",
     "text": [
      "{'avgTotalVolume': 526907, 'calculationPrice': 'close', 'change': 1.09, 'changePercent': 0.00381, 'close': 287.2, 'closeSource': 'official', 'closeTime': 1702069200007, 'companyName': 'Ansys Inc. - Registered Shares', 'currency': 'USD', 'delayedPrice': 287.2, 'delayedPriceTime': 1702069195442, 'extendedChange': -0.64, 'extendedChangePercent': -0.00223, 'extendedPrice': 286.56, 'extendedPriceTime': 1702083455835, 'high': 287.8, 'highSource': '15 minute delayed price', 'highTime': 1702069200011, 'iexAskPrice': 0, 'iexAskSize': 0, 'iexBidPrice': 0, 'iexBidSize': 0, 'iexClose': 287.2, 'iexCloseTime': 1702069195869, 'iexLastUpdated': 1702069195869, 'iexMarketPercent': 0.05754271611562992, 'iexOpen': 285.09, 'iexOpenTime': 1702045993857, 'iexRealtimePrice': 287.2, 'iexRealtimeSize': 100, 'iexVolume': 29168, 'lastTradeTime': 1702069199603, 'latestPrice': 287.2, 'latestSource': 'Close', 'latestTime': 'December 8, 2023', 'latestUpdate': 1702069200007, 'latestVolume': 506893, 'low': 284.39, 'lowSource': '15 minute delayed price', 'lowTime': 1702045801108, 'marketCap': 24949869022, 'oddLotDelayedPrice': 287.23, 'oddLotDelayedPriceTime': 1702069168545, 'open': 284.39, 'openTime': 1702045800000, 'openSource': 'official', 'peRatio': 51.84, 'previousClose': 286.11, 'previousVolume': 650231, 'primaryExchange': 'NASDAQ', 'symbol': 'ANSS', 'volume': 506893, 'week52High': 351.23, 'week52Low': 230, 'ytdChange': 0.18808915062709558, 'isUSMarketOpen': False}\n",
      "{'avgTotalVolume': 925355, 'calculationPrice': 'close', 'change': 2.41, 'changePercent': 0.00749, 'close': 324.1, 'closeSource': 'official', 'closeTime': 1702069201986, 'companyName': 'Aon plc. - Class A', 'currency': 'USD', 'delayedPrice': 324.06, 'delayedPriceTime': 1702069160524, 'extendedChange': 0, 'extendedChangePercent': 0, 'extendedPrice': 324.1, 'extendedPriceTime': 1702080000002, 'high': 324.21, 'highSource': '15 minute delayed price', 'highTime': 1702069199988, 'iexAskPrice': 0, 'iexAskSize': 0, 'iexBidPrice': 0, 'iexBidSize': 0, 'iexClose': 324.06, 'iexCloseTime': 1702069197394, 'iexLastUpdated': 1702069197394, 'iexMarketPercent': 0.044258699474195536, 'iexOpen': 322.05, 'iexOpenTime': 1702046095540, 'iexRealtimePrice': 324.06, 'iexRealtimeSize': 100, 'iexVolume': 43324, 'lastTradeTime': 1702069199988, 'latestPrice': 324.1, 'latestSource': 'Close', 'latestTime': 'December 8, 2023', 'latestUpdate': 1702069201986, 'latestVolume': 978881, 'low': 320.36, 'lowSource': '15 minute delayed price', 'lowTime': 1702045801649, 'marketCap': 64890117415, 'oddLotDelayedPrice': 324.12, 'oddLotDelayedPriceTime': 1702069187764, 'open': 322.14, 'openTime': 1702045800000, 'openSource': 'official', 'peRatio': None, 'previousClose': 321.69, 'previousVolume': 903623, 'primaryExchange': 'NEW YORK STOCK EXCHANGE INC.', 'symbol': 'AON', 'volume': 978881, 'week52High': 346.01, 'week52Low': 279.27, 'ytdChange': 0.0873939637769412, 'isUSMarketOpen': False}\n",
      "{'avgTotalVolume': 817543, 'calculationPrice': 'close', 'change': -0.02, 'changePercent': -0.00026, 'close': 77.99, 'closeSource': 'official', 'closeTime': 1702069201881, 'companyName': 'A.O. Smith Corp.', 'currency': 'USD', 'delayedPrice': 78.051, 'delayedPriceTime': 1702069166989, 'extendedChange': 0, 'extendedChangePercent': 0, 'extendedPrice': 77.99, 'extendedPriceTime': 1702080000004, 'high': 79.29, 'highSource': '15 minute delayed price', 'highTime': 1702069199979, 'iexAskPrice': 0, 'iexAskSize': 0, 'iexBidPrice': 0, 'iexBidSize': 0, 'iexClose': 78, 'iexCloseTime': 1702069196776, 'iexLastUpdated': 1702069196776, 'iexMarketPercent': 0.03698482701639059, 'iexOpen': 77.9, 'iexOpenTime': 1702045802138, 'iexRealtimePrice': 78, 'iexRealtimeSize': 1, 'iexVolume': 30618, 'lastTradeTime': 1702069199868, 'latestPrice': 77.99, 'latestSource': 'Close', 'latestTime': 'December 8, 2023', 'latestUpdate': 1702069201881, 'latestVolume': 827853, 'low': 77.78, 'lowSource': '15 minute delayed price', 'lowTime': 1702046034380, 'marketCap': 11914963351, 'oddLotDelayedPrice': 77.99, 'oddLotDelayedPriceTime': 1702069190908, 'open': 78.12, 'openTime': 1702045800000, 'openSource': 'official', 'peRatio': 39.59, 'previousClose': 78.01, 'previousVolume': 1180461, 'primaryExchange': 'NEW YORK STOCK EXCHANGE INC.', 'symbol': 'AOS', 'volume': 827853, 'week52High': 79.29, 'week52Low': 54.41, 'ytdChange': 0.3876948082910776, 'isUSMarketOpen': False}\n",
      "{'avgTotalVolume': 3670540, 'calculationPrice': 'close', 'change': 0.64, 'changePercent': 0.01892, 'close': 34.47, 'closeSource': 'official', 'closeTime': 1702069200442, 'companyName': 'APA Corporation', 'currency': 'USD', 'delayedPrice': 34.485, 'delayedPriceTime': 1702069182573, 'extendedChange': 0.3, 'extendedChangePercent': 0.0087, 'extendedPrice': 34.77, 'extendedPriceTime': 1702082515149, 'high': 34.52, 'highSource': '15 minute delayed price', 'highTime': 1702069199988, 'iexAskPrice': 0, 'iexAskSize': 0, 'iexBidPrice': 0, 'iexBidSize': 0, 'iexClose': 34.47, 'iexCloseTime': 1702069197468, 'iexLastUpdated': 1702069197468, 'iexMarketPercent': 0.029173470198244022, 'iexOpen': 34.06, 'iexOpenTime': 1702045821807, 'iexRealtimePrice': 34.47, 'iexRealtimeSize': 1, 'iexVolume': 79703, 'lastTradeTime': 1702069199988, 'latestPrice': 34.47, 'latestSource': 'Close', 'latestTime': 'December 8, 2023', 'latestUpdate': 1702069200442, 'latestVolume': 2732037, 'low': 33.8, 'lowSource': '15 minute delayed price', 'lowTime': 1702045990302, 'marketCap': 10572618442, 'oddLotDelayedPrice': 34.48, 'oddLotDelayedPriceTime': 1702069181605, 'open': 34.05, 'openTime': 1702045800000, 'openSource': 'official', 'peRatio': 7.02, 'previousClose': 33.83, 'previousVolume': 4447618, 'primaryExchange': 'NASDAQ', 'symbol': 'APA', 'volume': 2732037, 'week52High': 46.4, 'week52Low': 29.92, 'ytdChange': -0.22920698497365224, 'isUSMarketOpen': False}\n",
      "{'avgTotalVolume': 1437858, 'calculationPrice': 'close', 'change': 1.26, 'changePercent': 0.00481, 'close': 263.27, 'closeSource': 'official', 'closeTime': 1702069201872, 'companyName': 'Air Products & Chemicals Inc.', 'currency': 'USD', 'delayedPrice': 263.125, 'delayedPriceTime': 1702069183342, 'extendedChange': 0.79, 'extendedChangePercent': 0.003, 'extendedPrice': 264.06, 'extendedPriceTime': 1702080017001, 'high': 264.72, 'highSource': '15 minute delayed price', 'highTime': 1702069199997, 'iexAskPrice': 0, 'iexAskSize': 0, 'iexBidPrice': 0, 'iexBidSize': 0, 'iexClose': 263.14, 'iexCloseTime': 1702069195135, 'iexLastUpdated': 1702069195135, 'iexMarketPercent': 0.044616914620543215, 'iexOpen': 263.115, 'iexOpenTime': 1702045895084, 'iexRealtimePrice': 263.14, 'iexRealtimeSize': 2, 'iexVolume': 33199, 'lastTradeTime': 1702069199997, 'latestPrice': 263.27, 'latestSource': 'Close', 'latestTime': 'December 8, 2023', 'latestUpdate': 1702069201872, 'latestVolume': 744090, 'low': 262.54, 'lowSource': '15 minute delayed price', 'lowTime': 1702046036798, 'marketCap': 58500628024, 'oddLotDelayedPrice': 263.14, 'oddLotDelayedPriceTime': 1702069183342, 'open': 262.78, 'openTime': 1702045800000, 'openSource': 'official', 'peRatio': 25.49, 'previousClose': 262.01, 'previousVolume': 1408520, 'primaryExchange': 'NEW YORK STOCK EXCHANGE INC.', 'symbol': 'APD', 'volume': 744090, 'week52High': 320.91, 'week52Low': 251.63, 'ytdChange': -0.12948511017656736, 'isUSMarketOpen': False}\n",
      "{'avgTotalVolume': 2576196, 'calculationPrice': 'close', 'change': 0.75, 'changePercent': 0.00811, 'close': 93.23, 'closeSource': 'official', 'closeTime': 1702069201891, 'companyName': 'Amphenol Corp. - Class A', 'currency': 'USD', 'delayedPrice': 93.25, 'delayedPriceTime': 1702069187751, 'extendedChange': 0.02, 'extendedChangePercent': 0.00021, 'extendedPrice': 93.25, 'extendedPriceTime': 1702082375478, 'high': 93.439, 'highSource': '15 minute delayed price', 'highTime': 1702069199979, 'iexAskPrice': 0, 'iexAskSize': 0, 'iexBidPrice': 0, 'iexBidSize': 0, 'iexClose': 93.21, 'iexCloseTime': 1702069197259, 'iexLastUpdated': 1702069197259, 'iexMarketPercent': 0.012642948897108075, 'iexOpen': 92.42, 'iexOpenTime': 1702045828241, 'iexRealtimePrice': 93.21, 'iexRealtimeSize': 100, 'iexVolume': 74368, 'lastTradeTime': 1702069199891, 'latestPrice': 93.23, 'latestSource': 'Close', 'latestTime': 'December 8, 2023', 'latestUpdate': 1702069201891, 'latestVolume': 5882172, 'low': 92.29, 'lowSource': '15 minute delayed price', 'lowTime': 1702045805686, 'marketCap': 55780462836, 'oddLotDelayedPrice': 93.25, 'oddLotDelayedPriceTime': 1702069187752, 'open': 92.42, 'openTime': 1702045800000, 'openSource': 'official', 'peRatio': 30.07, 'previousClose': 92.48, 'previousVolume': 2032582, 'primaryExchange': 'NEW YORK STOCK EXCHANGE INC.', 'symbol': 'APH', 'volume': 5882172, 'week52High': 93.439, 'week52Low': 71.64, 'ytdChange': 0.2321757035267335, 'isUSMarketOpen': False}\n"
     ]
    },
    {
     "name": "stdout",
     "output_type": "stream",
     "text": [
      "{'avgTotalVolume': 2537681, 'calculationPrice': 'close', 'change': -1.02, 'changePercent': -0.01262, 'close': 79.83, 'closeSource': 'official', 'closeTime': 1702069202302, 'companyName': 'Aptiv PLC', 'currency': 'USD', 'delayedPrice': 79.815, 'delayedPriceTime': 1702069187771, 'extendedChange': 0, 'extendedChangePercent': 0, 'extendedPrice': 79.83, 'extendedPriceTime': 1702080000002, 'high': 81.635, 'highSource': '15 minute delayed price', 'highTime': 1702069199977, 'iexAskPrice': 0, 'iexAskSize': 0, 'iexBidPrice': 0, 'iexBidSize': 0, 'iexClose': 79.79, 'iexCloseTime': 1702069199043, 'iexLastUpdated': 1702069199043, 'iexMarketPercent': 0.031249225758178883, 'iexOpen': 80.755, 'iexOpenTime': 1702045806576, 'iexRealtimePrice': 79.79, 'iexRealtimeSize': 11, 'iexVolume': 75677, 'lastTradeTime': 1702069199069, 'latestPrice': 79.83, 'latestSource': 'Close', 'latestTime': 'December 8, 2023', 'latestUpdate': 1702069202302, 'latestVolume': 2421724, 'low': 79.76, 'lowSource': '15 minute delayed price', 'lowTime': 1702068910330, 'marketCap': 22580885355, 'oddLotDelayedPrice': 79.81, 'oddLotDelayedPriceTime': 1702069187780, 'open': 80.78, 'openTime': 1702045800000, 'openSource': 'official', 'peRatio': 9.8, 'previousClose': 80.85, 'previousVolume': 2350307, 'primaryExchange': 'NEW YORK STOCK EXCHANGE INC.', 'symbol': 'APTV', 'volume': 2421724, 'week52High': 124.88, 'week52Low': 71.01, 'ytdChange': -0.14447869215075707, 'isUSMarketOpen': False}\n",
      "{'avgTotalVolume': 1351924, 'calculationPrice': 'close', 'change': -2.52, 'changePercent': -0.02066, 'close': 119.44, 'closeSource': 'official', 'closeTime': 1702069202029, 'companyName': 'Alexandria Real Estate Equities Inc.', 'currency': 'USD', 'delayedPrice': 119.415, 'delayedPriceTime': 1702069182574, 'extendedChange': -0.11, 'extendedChangePercent': -0.00092, 'extendedPrice': 119.33, 'extendedPriceTime': 1702083128059, 'high': 121.69, 'highSource': '15 minute delayed price', 'highTime': 1702069199991, 'iexAskPrice': 0, 'iexAskSize': 0, 'iexBidPrice': 0, 'iexBidSize': 0, 'iexClose': 119.41, 'iexCloseTime': 1702069195182, 'iexLastUpdated': 1702069195182, 'iexMarketPercent': 0.057082309694524734, 'iexOpen': 121.345, 'iexOpenTime': 1702045809517, 'iexRealtimePrice': 119.41, 'iexRealtimeSize': 59, 'iexVolume': 71866, 'lastTradeTime': 1702069199990, 'latestPrice': 119.44, 'latestSource': 'Close', 'latestTime': 'December 8, 2023', 'latestUpdate': 1702069202029, 'latestVolume': 1258989, 'low': 118.65, 'lowSource': '15 minute delayed price', 'lowTime': 1702053697154, 'marketCap': 20755740465, 'oddLotDelayedPrice': 119.42, 'oddLotDelayedPriceTime': 1702069187764, 'open': 121.08, 'openTime': 1702045800000, 'openSource': 'official', 'peRatio': 84.71, 'previousClose': 121.96, 'previousVolume': 1693873, 'primaryExchange': 'NEW YORK STOCK EXCHANGE INC.', 'symbol': 'ARE', 'volume': 1258989, 'week52High': 166.95, 'week52Low': 90.73, 'ytdChange': -0.1548314746559155, 'isUSMarketOpen': False}\n",
      "{'avgTotalVolume': 1605261, 'calculationPrice': 'close', 'change': -1.07, 'changePercent': -0.00934, 'close': 113.46, 'closeSource': 'official', 'closeTime': 1702069201860, 'companyName': 'Atmos Energy Corp.', 'currency': 'USD', 'delayedPrice': 113.45, 'delayedPriceTime': 1702069199141, 'extendedChange': 0, 'extendedChangePercent': 0, 'extendedPrice': 113.46, 'extendedPriceTime': 1702080000003, 'high': 114.48, 'highSource': '15 minute delayed price', 'highTime': 1702069199979, 'iexAskPrice': 0, 'iexAskSize': 0, 'iexBidPrice': 0, 'iexBidSize': 0, 'iexClose': 113.46, 'iexCloseTime': 1702069195994, 'iexLastUpdated': 1702069195994, 'iexMarketPercent': 0.028213898936332395, 'iexOpen': 114.16, 'iexOpenTime': 1702046161566, 'iexRealtimePrice': 113.46, 'iexRealtimeSize': 41, 'iexVolume': 24984, 'lastTradeTime': 1702069199141, 'latestPrice': 113.46, 'latestSource': 'Close', 'latestTime': 'December 8, 2023', 'latestUpdate': 1702069201860, 'latestVolume': 885521, 'low': 112.95, 'lowSource': 'IEX real time price', 'lowTime': 1702062866183, 'marketCap': 16848368414, 'oddLotDelayedPrice': 113.49, 'oddLotDelayedPriceTime': 1702069189352, 'open': 114.45, 'openTime': 1702045800000, 'openSource': 'official', 'peRatio': 18.6, 'previousClose': 114.53, 'previousVolume': 864832, 'primaryExchange': 'NEW YORK STOCK EXCHANGE INC.', 'symbol': 'ATO', 'volume': 885521, 'week52High': 123.6, 'week52Low': 100.28, 'ytdChange': 0.039794255841093654, 'isUSMarketOpen': False}\n",
      "{'avgTotalVolume': 0, 'calculationPrice': 'close', 'change': -0.05, 'changePercent': -0.00053, 'close': None, 'closeSource': 'official', 'closeTime': None, 'companyName': 'Activision Blizzard Inc', 'currency': 'USD', 'delayedPrice': None, 'delayedPriceTime': None, 'extendedChange': 0.12, 'extendedChangePercent': 0.00127, 'extendedPrice': 94.54, 'extendedPriceTime': 1697154506870, 'high': 94.54, 'highSource': '15 minute delayed price', 'highTime': 1697140799914, 'iexAskPrice': None, 'iexAskSize': None, 'iexBidPrice': None, 'iexBidSize': None, 'iexClose': 94.42, 'iexCloseTime': 1697140796421, 'iexLastUpdated': None, 'iexMarketPercent': None, 'iexOpen': None, 'iexOpenTime': None, 'iexRealtimePrice': None, 'iexRealtimeSize': None, 'iexVolume': None, 'lastTradeTime': 1697140799914, 'latestPrice': 94.42, 'latestSource': 'Close', 'latestTime': 'October 12, 2023', 'latestUpdate': 1697140800459, 'latestVolume': 0, 'low': 94.305, 'lowSource': '15 minute delayed price', 'lowTime': 1697134402597, 'marketCap': 74289497374, 'oddLotDelayedPrice': 94.435, 'oddLotDelayedPriceTime': 1697140784553, 'open': None, 'openTime': None, 'openSource': 'official', 'peRatio': 34.59, 'previousClose': 94.47, 'previousVolume': 13234561, 'primaryExchange': 'NASDAQ', 'symbol': 'ATVI', 'volume': 0, 'week52High': 94.54, 'week52Low': 0, 'ytdChange': -0.00053, 'isUSMarketOpen': False}\n",
      "{'avgTotalVolume': 844908, 'calculationPrice': 'close', 'change': 0.37, 'changePercent': 0.00211, 'close': 175.75, 'closeSource': 'official', 'closeTime': 1702069201975, 'companyName': 'Avalonbay Communities Inc.', 'currency': 'USD', 'delayedPrice': 175.695, 'delayedPriceTime': 1702069152966, 'extendedChange': 0, 'extendedChangePercent': 0, 'extendedPrice': 175.75, 'extendedPriceTime': 1702080000004, 'high': 175.81, 'highSource': '15 minute delayed price', 'highTime': 1702069199988, 'iexAskPrice': 0, 'iexAskSize': 0, 'iexBidPrice': 0, 'iexBidSize': 0, 'iexClose': 175.77, 'iexCloseTime': 1702069195129, 'iexLastUpdated': 1702069195129, 'iexMarketPercent': 0.03915045450683884, 'iexOpen': 175.02, 'iexOpenTime': 1702045868542, 'iexRealtimePrice': 175.77, 'iexRealtimeSize': 15, 'iexVolume': 23042, 'lastTradeTime': 1702069199978, 'latestPrice': 175.75, 'latestSource': 'Close', 'latestTime': 'December 8, 2023', 'latestUpdate': 1702069201975, 'latestVolume': 588550, 'low': 173.95, 'lowSource': '15 minute delayed price', 'lowTime': 1702053608692, 'marketCap': 24959155934, 'oddLotDelayedPrice': 175.8, 'oddLotDelayedPriceTime': 1702069187765, 'open': 175, 'openTime': 1702045800000, 'openSource': 'official', 'peRatio': 26.75, 'previousClose': 175.38, 'previousVolume': 679019, 'primaryExchange': 'NEW YORK STOCK EXCHANGE INC.', 'symbol': 'AVB', 'volume': 588550, 'week52High': 196.75, 'week52Low': 148.74, 'ytdChange': 0.119548747306436, 'isUSMarketOpen': False}\n",
      "{'avgTotalVolume': 3314979, 'calculationPrice': 'close', 'change': 22.04, 'changePercent': 0.0239, 'close': 944.3, 'closeSource': 'official', 'closeTime': 1702069200004, 'companyName': 'Broadcom Inc', 'currency': 'USD', 'delayedPrice': 944.8, 'delayedPriceTime': 1702069178479, 'extendedChange': 0.98, 'extendedChangePercent': 0.00104, 'extendedPrice': 945.28, 'extendedPriceTime': 1702083596836, 'high': 950.73, 'highSource': '15 minute delayed price', 'highTime': 1702069200011, 'iexAskPrice': 0, 'iexAskSize': 0, 'iexBidPrice': 0, 'iexBidSize': 0, 'iexClose': 944.1, 'iexCloseTime': 1702069197944, 'iexLastUpdated': 1702069197944, 'iexMarketPercent': 0.03037287195547136, 'iexOpen': 927.865, 'iexOpenTime': 1702045801118, 'iexRealtimePrice': 944.08, 'iexRealtimeSize': 25, 'iexVolume': 211603, 'lastTradeTime': 1702069199620, 'latestPrice': 944.3, 'latestSource': 'Close', 'latestTime': 'December 8, 2023', 'latestUpdate': 1702069200004, 'latestVolume': 6966842, 'low': 910.36, 'lowSource': 'IEX real time price', 'lowTime': 1702053494150, 'marketCap': 389746136427, 'oddLotDelayedPrice': 944.8, 'oddLotDelayedPriceTime': 1702069178480, 'open': 927.84, 'openTime': 1702045800000, 'openSource': 'official', 'peRatio': 28.8, 'previousClose': 922.26, 'previousVolume': 4351689, 'primaryExchange': 'NASDAQ', 'symbol': 'AVGO', 'volume': 6966842, 'week52High': 999.87, 'week52Low': 524.2, 'ytdChange': 0.7121232761592142, 'isUSMarketOpen': False}\n"
     ]
    },
    {
     "name": "stdout",
     "output_type": "stream",
     "text": [
      "{'avgTotalVolume': 433064, 'calculationPrice': 'close', 'change': -2.28, 'changePercent': -0.01175, 'close': 191.71, 'closeSource': 'official', 'closeTime': 1702069201877, 'companyName': 'Avery Dennison Corp.', 'currency': 'USD', 'delayedPrice': 191.7, 'delayedPriceTime': 1702069185117, 'extendedChange': 0, 'extendedChangePercent': 0, 'extendedPrice': 191.71, 'extendedPriceTime': 1702080000003, 'high': 194.89, 'highSource': '15 minute delayed price', 'highTime': 1702069199979, 'iexAskPrice': 0, 'iexAskSize': 0, 'iexBidPrice': 0, 'iexBidSize': 0, 'iexClose': 191.72, 'iexCloseTime': 1702069196074, 'iexLastUpdated': 1702069196074, 'iexMarketPercent': 0.044067714543374714, 'iexOpen': 194.49, 'iexOpenTime': 1702046180841, 'iexRealtimePrice': 191.72, 'iexRealtimeSize': 1, 'iexVolume': 14562, 'lastTradeTime': 1702069199979, 'latestPrice': 191.71, 'latestSource': 'Close', 'latestTime': 'December 8, 2023', 'latestUpdate': 1702069201877, 'latestVolume': 330446, 'low': 191.415, 'lowSource': 'IEX real time price', 'lowTime': 1702068742213, 'marketCap': 15438651305, 'oddLotDelayedPrice': 191.68, 'oddLotDelayedPriceTime': 1702069182560, 'open': 193.78, 'openTime': 1702045800000, 'openSource': 'official', 'peRatio': 32.27, 'previousClose': 193.99, 'previousVolume': 333703, 'primaryExchange': 'NEW YORK STOCK EXCHANGE INC.', 'symbol': 'AVY', 'volume': 330446, 'week52High': 196.65, 'week52Low': 156.82, 'ytdChange': 0.07890496644657545, 'isUSMarketOpen': False}\n",
      "{'avgTotalVolume': 1106893, 'calculationPrice': 'close', 'change': -1.2, 'changePercent': -0.00905, 'close': 131.35, 'closeSource': 'official', 'closeTime': 1702069202189, 'companyName': 'American Water Works Co. Inc.', 'currency': 'USD', 'delayedPrice': 131.41, 'delayedPriceTime': 1702069165382, 'extendedChange': 0, 'extendedChangePercent': 0, 'extendedPrice': 131.35, 'extendedPriceTime': 1702080000002, 'high': 132.23, 'highSource': 'IEX real time price', 'highTime': 1702046151607, 'iexAskPrice': 0, 'iexAskSize': 0, 'iexBidPrice': 0, 'iexBidSize': 0, 'iexClose': 131.35, 'iexCloseTime': 1702069196194, 'iexLastUpdated': 1702069196194, 'iexMarketPercent': 0.024890106354105167, 'iexOpen': 132.175, 'iexOpenTime': 1702045807277, 'iexRealtimePrice': 131.35, 'iexRealtimeSize': 32, 'iexVolume': 17791, 'lastTradeTime': 1702069199978, 'latestPrice': 131.35, 'latestSource': 'Close', 'latestTime': 'December 8, 2023', 'latestUpdate': 1702069202189, 'latestVolume': 714782, 'low': 130.91, 'lowSource': '15 minute delayed price', 'lowTime': 1702063077313, 'marketCap': 25574501356, 'oddLotDelayedPrice': 131.4, 'oddLotDelayedPriceTime': 1702069165382, 'open': 132.16, 'openTime': 1702045800000, 'openSource': 'official', 'peRatio': 27.08, 'previousClose': 132.55, 'previousVolume': 790896, 'primaryExchange': 'NEW YORK STOCK EXCHANGE INC.', 'symbol': 'AWK', 'volume': 714782, 'week52High': 159.42, 'week52Low': 113.6, 'ytdChange': -0.12210281133151146, 'isUSMarketOpen': False}\n",
      "{'avgTotalVolume': 2988261, 'calculationPrice': 'close', 'change': -0.19, 'changePercent': -0.00113, 'close': 168.43, 'closeSource': 'official', 'closeTime': 1702069341089, 'companyName': 'American Express Co.', 'currency': 'USD', 'delayedPrice': 168.445, 'delayedPriceTime': 1702069187768, 'extendedChange': 0.17, 'extendedChangePercent': 0.00101, 'extendedPrice': 168.6, 'extendedPriceTime': 1702083570700, 'high': 169.133, 'highSource': '15 minute delayed price', 'highTime': 1702069200009, 'iexAskPrice': 0, 'iexAskSize': 0, 'iexBidPrice': 0, 'iexBidSize': 0, 'iexClose': 168.41, 'iexCloseTime': 1702069198008, 'iexLastUpdated': 1702069198008, 'iexMarketPercent': 0.04333702676989393, 'iexOpen': 168.37, 'iexOpenTime': 1702045805366, 'iexRealtimePrice': 168.41, 'iexRealtimeSize': 100, 'iexVolume': 116201, 'lastTradeTime': 1702069199828, 'latestPrice': 168.43, 'latestSource': 'Close', 'latestTime': 'December 8, 2023', 'latestUpdate': 1702069341089, 'latestVolume': 2681333, 'low': 167.57, 'lowSource': '15 minute delayed price', 'lowTime': 1702055600337, 'marketCap': 122750093805, 'oddLotDelayedPrice': 168.44, 'oddLotDelayedPriceTime': 1702069187764, 'open': 168.34, 'openTime': 1702045800000, 'openSource': 'official', 'peRatio': 15.82, 'previousClose': 168.62, 'previousVolume': 2797101, 'primaryExchange': 'NEW YORK STOCK EXCHANGE INC.', 'symbol': 'AXP', 'volume': 2681333, 'week52High': 180.12, 'week52Low': 140.64, 'ytdChange': 0.15700143988252488, 'isUSMarketOpen': False}\n",
      "{'avgTotalVolume': 161219, 'calculationPrice': 'close', 'change': -12.21, 'changePercent': -0.00464, 'close': 2620.49, 'closeSource': 'official', 'closeTime': 1702069202028, 'companyName': 'Autozone Inc.', 'currency': 'USD', 'delayedPrice': 2620.49, 'delayedPriceTime': 1702069199223, 'extendedChange': 32.5, 'extendedChangePercent': 0.0124, 'extendedPrice': 2652.99, 'extendedPriceTime': 1702080603735, 'high': 2648.25, 'highSource': 'IEX real time price', 'highTime': 1702045805551, 'iexAskPrice': 0, 'iexAskSize': 0, 'iexBidPrice': 0, 'iexBidSize': 0, 'iexClose': 2619.72, 'iexCloseTime': 1702069196107, 'iexLastUpdated': 1702069196107, 'iexMarketPercent': 0.05786921647709249, 'iexOpen': 2637.06, 'iexOpenTime': 1702045801194, 'iexRealtimePrice': 2619.72, 'iexRealtimeSize': 1, 'iexVolume': 6385, 'lastTradeTime': 1702069199419, 'latestPrice': 2620.49, 'latestSource': 'Close', 'latestTime': 'December 8, 2023', 'latestUpdate': 1702069202028, 'latestVolume': 110335, 'low': 2610.5, 'lowSource': '15 minute delayed price', 'lowTime': 1702067664030, 'marketCap': 46209060297, 'oddLotDelayedPrice': 2618.88, 'oddLotDelayedPriceTime': 1702069168549, 'open': 2640, 'openTime': 1702045800000, 'openSource': 'official', 'peRatio': 19.8, 'previousClose': 2632.7, 'previousVolume': 180557, 'primaryExchange': 'NEW YORK STOCK EXCHANGE INC.', 'symbol': 'AZO', 'volume': 110335, 'week52High': 2750, 'week52Low': 2277.88, 'ytdChange': 0.06288142990373766, 'isUSMarketOpen': False}\n",
      "{'avgTotalVolume': 6015626, 'calculationPrice': 'close', 'change': 7.37, 'changePercent': 0.03105, 'close': 244.7, 'closeSource': 'official', 'closeTime': 1702069201988, 'companyName': 'Boeing Co.', 'currency': 'USD', 'delayedPrice': 244.48, 'delayedPriceTime': 1702069187771, 'extendedChange': -0.23, 'extendedChangePercent': -0.00094, 'extendedPrice': 244.47, 'extendedPriceTime': 1702083586215, 'high': 244.7, 'highSource': 'Close', 'highTime': 1702069201988, 'iexAskPrice': 0, 'iexAskSize': 0, 'iexBidPrice': 0, 'iexBidSize': 0, 'iexClose': 244.58, 'iexCloseTime': 1702069196947, 'iexLastUpdated': 1702069196947, 'iexMarketPercent': 0.018254673239299135, 'iexOpen': 237.36, 'iexOpenTime': 1702045800970, 'iexRealtimePrice': 244.58, 'iexRealtimeSize': 99, 'iexVolume': 130907, 'lastTradeTime': 1702069200000, 'latestPrice': 244.7, 'latestSource': 'Close', 'latestTime': 'December 8, 2023', 'latestUpdate': 1702069201988, 'latestVolume': 7171150, 'low': 237.32, 'lowSource': '15 minute delayed price', 'lowTime': 1702045800461, 'marketCap': 148037822226, 'oddLotDelayedPrice': 244.48, 'oddLotDelayedPriceTime': 1702069187771, 'open': 237.44, 'openTime': 1702045800916, 'openSource': 'official', 'peRatio': -52.06, 'previousClose': 237.33, 'previousVolume': 6363664, 'primaryExchange': 'NEW YORK STOCK EXCHANGE INC.', 'symbol': 'BA', 'volume': 7171150, 'week52High': 244.7, 'week52Low': 176.25, 'ytdChange': 0.2769421728174708, 'isUSMarketOpen': False}\n",
      "{'avgTotalVolume': 41155346, 'calculationPrice': 'close', 'change': 0.3, 'changePercent': 0.00978, 'close': 30.96, 'closeSource': 'official', 'closeTime': 1702069202003, 'companyName': 'Bank Of America Corp.', 'currency': 'USD', 'delayedPrice': 30.96, 'delayedPriceTime': 1702069187767, 'extendedChange': 0.06, 'extendedChangePercent': 0.00194, 'extendedPrice': 31.02, 'extendedPriceTime': 1702083593605, 'high': 31.14, 'highSource': '15 minute delayed price', 'highTime': 1702069199998, 'iexAskPrice': 0, 'iexAskSize': 0, 'iexBidPrice': 0, 'iexBidSize': 0, 'iexClose': 30.955, 'iexCloseTime': 1702069199044, 'iexLastUpdated': 1702069199044, 'iexMarketPercent': 0.015254048040333036, 'iexOpen': 30.71, 'iexOpenTime': 1702045801525, 'iexRealtimePrice': 30.955, 'iexRealtimeSize': 1, 'iexVolume': 530754, 'lastTradeTime': 1702069199968, 'latestPrice': 30.96, 'latestSource': 'Close', 'latestTime': 'December 8, 2023', 'latestUpdate': 1702069202003, 'latestVolume': 34794305, 'low': 30.61, 'lowSource': '15 minute delayed price', 'lowTime': 1702045925559, 'marketCap': 245009143153, 'oddLotDelayedPrice': 30.96, 'oddLotDelayedPriceTime': 1702069187767, 'open': 30.68, 'openTime': 1702045800000, 'openSource': 'official', 'peRatio': 8.7, 'previousClose': 30.66, 'previousVolume': 32699643, 'primaryExchange': 'NEW YORK STOCK EXCHANGE INC.', 'symbol': 'BAC', 'volume': 34794305, 'week52High': 35.88, 'week52Low': 24.76, 'ytdChange': -0.03567157363503627, 'isUSMarketOpen': False}\n"
     ]
    },
    {
     "name": "stdout",
     "output_type": "stream",
     "text": [
      "{'avgTotalVolume': 4087181, 'calculationPrice': 'close', 'change': -0.38, 'changePercent': -0.0104, 'close': 36.15, 'closeSource': 'official', 'closeTime': 1702069202042, 'companyName': 'Baxter International Inc.', 'currency': 'USD', 'delayedPrice': 36.125, 'delayedPriceTime': 1702069182545, 'extendedChange': 0.28, 'extendedChangePercent': 0.00775, 'extendedPrice': 36.43, 'extendedPriceTime': 1702081609498, 'high': 36.672, 'highSource': '15 minute delayed price', 'highTime': 1702069199989, 'iexAskPrice': 0, 'iexAskSize': 0, 'iexBidPrice': 0, 'iexBidSize': 0, 'iexClose': 36.155, 'iexCloseTime': 1702069197314, 'iexLastUpdated': 1702069197314, 'iexMarketPercent': 0.02671967554471417, 'iexOpen': 36.565, 'iexOpenTime': 1702045900110, 'iexRealtimePrice': 36.155, 'iexRealtimeSize': 12, 'iexVolume': 82471, 'lastTradeTime': 1702069198831, 'latestPrice': 36.15, 'latestSource': 'Close', 'latestTime': 'December 8, 2023', 'latestUpdate': 1702069202042, 'latestVolume': 3086527, 'low': 36.075, 'lowSource': '15 minute delayed price', 'lowTime': 1702068656408, 'marketCap': 18339744850, 'oddLotDelayedPrice': 36.13, 'oddLotDelayedPriceTime': 1702069183831, 'open': 36.63, 'openTime': 1702045800000, 'openSource': 'official', 'peRatio': 7.03, 'previousClose': 36.53, 'previousVolume': 3973802, 'primaryExchange': 'NEW YORK STOCK EXCHANGE INC.', 'symbol': 'BAX', 'volume': 3086527, 'week52High': 52.25, 'week52Low': 30.76, 'ytdChange': -0.27248579439403364, 'isUSMarketOpen': False}\n",
      "{'avgTotalVolume': 3543550, 'calculationPrice': 'close', 'change': -0.57, 'changePercent': -0.00764, 'close': 73.99, 'closeSource': 'official', 'closeTime': 1702069201947, 'companyName': 'Best Buy Co. Inc.', 'currency': 'USD', 'delayedPrice': 74.05, 'delayedPriceTime': 1702069190491, 'extendedChange': 0.16, 'extendedChangePercent': 0.00216, 'extendedPrice': 74.15, 'extendedPriceTime': 1702083591701, 'high': 74.957, 'highSource': '15 minute delayed price', 'highTime': 1702069199989, 'iexAskPrice': 0, 'iexAskSize': 0, 'iexBidPrice': 0, 'iexBidSize': 0, 'iexClose': 74.015, 'iexCloseTime': 1702069198774, 'iexLastUpdated': 1702069198774, 'iexMarketPercent': 0.021790070812878495, 'iexOpen': 74.755, 'iexOpenTime': 1702045801038, 'iexRealtimePrice': 74.015, 'iexRealtimeSize': 8, 'iexVolume': 61755, 'lastTradeTime': 1702069199979, 'latestPrice': 73.99, 'latestSource': 'Close', 'latestTime': 'December 8, 2023', 'latestUpdate': 1702069201947, 'latestVolume': 2834089, 'low': 73.78, 'lowSource': '15 minute delayed price', 'lowTime': 1702060321998, 'marketCap': 15937446000, 'oddLotDelayedPrice': 74.05, 'oddLotDelayedPriceTime': 1702069190491, 'open': 74.93, 'openTime': 1702045800000, 'openSource': 'official', 'peRatio': 12.76, 'previousClose': 74.56, 'previousVolume': 2824687, 'primaryExchange': 'NEW YORK STOCK EXCHANGE INC.', 'symbol': 'BBY', 'volume': 2834089, 'week52High': 89.96, 'week52Low': 62.3, 'ytdChange': -0.04337571709396406, 'isUSMarketOpen': False}\n",
      "{'avgTotalVolume': 2163437, 'calculationPrice': 'close', 'change': -1.24, 'changePercent': -0.00531, 'close': 232.3, 'closeSource': 'official', 'closeTime': 1702069202014, 'companyName': 'Becton Dickinson & Co.', 'currency': 'USD', 'delayedPrice': 232.195, 'delayedPriceTime': 1702069182040, 'extendedChange': 0, 'extendedChangePercent': 0, 'extendedPrice': 232.3, 'extendedPriceTime': 1702080000003, 'high': 234.6, 'highSource': '15 minute delayed price', 'highTime': 1702069199992, 'iexAskPrice': 0, 'iexAskSize': 0, 'iexBidPrice': 0, 'iexBidSize': 0, 'iexClose': 232.3, 'iexCloseTime': 1702069197543, 'iexLastUpdated': 1702069197543, 'iexMarketPercent': 0.057383608375452665, 'iexOpen': 234.105, 'iexOpenTime': 1702045857307, 'iexRealtimePrice': 232.3, 'iexRealtimeSize': 48, 'iexVolume': 94585, 'lastTradeTime': 1702069199978, 'latestPrice': 232.3, 'latestSource': 'Close', 'latestTime': 'December 8, 2023', 'latestUpdate': 1702069202014, 'latestVolume': 1648293, 'low': 232.14, 'lowSource': '15 minute delayed price', 'lowTime': 1702069180116, 'marketCap': 67461081500, 'oddLotDelayedPrice': 232.21, 'oddLotDelayedPriceTime': 1702069182019, 'open': 234.6, 'openTime': 1702045800000, 'openSource': 'official', 'peRatio': 47.02, 'previousClose': 233.54, 'previousVolume': 2230102, 'primaryExchange': 'NEW YORK STOCK EXCHANGE INC.', 'symbol': 'BDX', 'volume': 1648293, 'week52High': 285.17, 'week52Low': 226.09, 'ytdChange': -0.07307897244222257, 'isUSMarketOpen': False}\n",
      "{'avgTotalVolume': 3259955, 'calculationPrice': 'close', 'change': -0.11, 'changePercent': -0.00428, 'close': 25.57, 'closeSource': 'official', 'closeTime': 1702069201946, 'companyName': 'Franklin Resources, Inc.', 'currency': 'USD', 'delayedPrice': 25.555, 'delayedPriceTime': 1702069166921, 'extendedChange': 0, 'extendedChangePercent': 0, 'extendedPrice': 25.57, 'extendedPriceTime': 1702080000004, 'high': 25.8, 'highSource': '15 minute delayed price', 'highTime': 1702069199977, 'iexAskPrice': 0, 'iexAskSize': 0, 'iexBidPrice': 0, 'iexBidSize': 0, 'iexClose': 25.55, 'iexCloseTime': 1702069198095, 'iexLastUpdated': 1702069198095, 'iexMarketPercent': 0.01707392015899339, 'iexOpen': 25.76, 'iexOpenTime': 1702045801087, 'iexRealtimePrice': 25.55, 'iexRealtimeSize': 180, 'iexVolume': 39175, 'lastTradeTime': 1702069198095, 'latestPrice': 25.57, 'latestSource': 'Close', 'latestTime': 'December 8, 2023', 'latestUpdate': 1702069201946, 'latestVolume': 2294435, 'low': 25.46, 'lowSource': '15 minute delayed price', 'lowTime': 1702052629632, 'marketCap': 12646522724, 'oddLotDelayedPrice': 25.565, 'oddLotDelayedPriceTime': 1702069168001, 'open': 25.61, 'openTime': 1702045800000, 'openSource': 'official', 'peRatio': 14.87, 'previousClose': 25.68, 'previousVolume': 1951948, 'primaryExchange': 'NEW YORK STOCK EXCHANGE INC.', 'symbol': 'BEN', 'volume': 2294435, 'week52High': 33.18, 'week52Low': 21.88, 'ytdChange': 0.003976869927796506, 'isUSMarketOpen': False}\n",
      "{'avgTotalVolume': 1805925, 'calculationPrice': 'close', 'change': 0.56, 'changePercent': 0.01027, 'close': 55.08, 'closeSource': 'official', 'closeTime': 1702069202114, 'companyName': 'Brown-Forman Corp. - Class B', 'currency': 'USD', 'delayedPrice': 55.09, 'delayedPriceTime': 1702069161414, 'extendedChange': 0, 'extendedChangePercent': 0, 'extendedPrice': 55.08, 'extendedPriceTime': 1702080000003, 'high': 55.37, 'highSource': '15 minute delayed price', 'highTime': 1702069199988, 'iexAskPrice': 0, 'iexAskSize': 0, 'iexBidPrice': 0, 'iexBidSize': 0, 'iexClose': 55.06, 'iexCloseTime': 1702069197017, 'iexLastUpdated': 1702069197017, 'iexMarketPercent': 0.02868077055383557, 'iexOpen': 54.26, 'iexOpenTime': 1702045914417, 'iexRealtimePrice': 55.06, 'iexRealtimeSize': 140, 'iexVolume': 43355, 'lastTradeTime': 1702069199980, 'latestPrice': 55.08, 'latestSource': 'Close', 'latestTime': 'December 8, 2023', 'latestUpdate': 1702069202114, 'latestVolume': 1511640, 'low': 54.21, 'lowSource': '15 minute delayed price', 'lowTime': 1702045978549, 'marketCap': 26508173471, 'oddLotDelayedPrice': 55.09, 'oddLotDelayedPriceTime': 1702069161413, 'open': 54.29, 'openTime': 1702045800000, 'openSource': 'official', 'peRatio': 34.64, 'previousClose': 54.52, 'previousVolume': 2513557, 'primaryExchange': 'NEW YORK STOCK EXCHANGE INC.', 'symbol': 'BF.B', 'volume': 1511640, 'week52High': 70.78, 'week52Low': 52.39, 'ytdChange': -0.14860432329649664, 'isUSMarketOpen': False}\n",
      "{'avgTotalVolume': 1002718, 'calculationPrice': 'close', 'change': 0.17, 'changePercent': 0.00071, 'close': 239.29, 'closeSource': 'official', 'closeTime': 1702069200227, 'companyName': 'Biogen Inc', 'currency': 'USD', 'delayedPrice': 239.315, 'delayedPriceTime': 1702069148122, 'extendedChange': -0.29, 'extendedChangePercent': -0.00121, 'extendedPrice': 239, 'extendedPriceTime': 1702073376666, 'high': 240.81, 'highSource': '15 minute delayed price', 'highTime': 1702069199907, 'iexAskPrice': 0, 'iexAskSize': 0, 'iexBidPrice': 0, 'iexBidSize': 0, 'iexClose': 239.26, 'iexCloseTime': 1702069196147, 'iexLastUpdated': 1702069196147, 'iexMarketPercent': 0.03864147521038429, 'iexOpen': 237.88, 'iexOpenTime': 1702045806468, 'iexRealtimePrice': 239.26, 'iexRealtimeSize': 24, 'iexVolume': 38176, 'lastTradeTime': 1702069199112, 'latestPrice': 239.29, 'latestSource': 'Close', 'latestTime': 'December 8, 2023', 'latestUpdate': 1702069200227, 'latestVolume': 987954, 'low': 236.8, 'lowSource': '15 minute delayed price', 'lowTime': 1702045865341, 'marketCap': 34672669220, 'oddLotDelayedPrice': 239.27, 'oddLotDelayedPriceTime': 1702069195011, 'open': 237.65, 'openTime': 1702045800000, 'openSource': 'official', 'peRatio': 23.76, 'previousClose': 239.12, 'previousVolume': 1221543, 'primaryExchange': 'NASDAQ', 'symbol': 'BIIB', 'volume': 987954, 'week52High': 319.76, 'week52Low': 220.86, 'ytdChange': -0.13579151668351874, 'isUSMarketOpen': False}\n"
     ]
    },
    {
     "name": "stdout",
     "output_type": "stream",
     "text": [
      "{'avgTotalVolume': 295679, 'calculationPrice': 'close', 'change': -6.05, 'changePercent': -0.0195, 'close': 304.13, 'closeSource': 'official', 'closeTime': 1702069201963, 'companyName': 'Bio-Rad Laboratories Inc. - Class A', 'currency': 'USD', 'delayedPrice': 303.98, 'delayedPriceTime': 1702069195001, 'extendedChange': 0, 'extendedChangePercent': 0, 'extendedPrice': 304.13, 'extendedPriceTime': 1702080000004, 'high': 311.05, 'highSource': 'IEX real time price', 'highTime': 1702046294240, 'iexAskPrice': 0, 'iexAskSize': 0, 'iexBidPrice': 0, 'iexBidSize': 0, 'iexClose': 303.91, 'iexCloseTime': 1702069197432, 'iexLastUpdated': 1702069197432, 'iexMarketPercent': 0.05061482448306657, 'iexOpen': 307.86, 'iexOpenTime': 1702045810019, 'iexRealtimePrice': 303.91, 'iexRealtimeSize': 1, 'iexVolume': 11052, 'lastTradeTime': 1702069199987, 'latestPrice': 304.13, 'latestSource': 'Close', 'latestTime': 'December 8, 2023', 'latestUpdate': 1702069201963, 'latestVolume': 218355, 'low': 303.15, 'lowSource': 'IEX real time price', 'lowTime': 1702068693257, 'marketCap': 8863023064, 'oddLotDelayedPrice': 303.94, 'oddLotDelayedPriceTime': 1702069190585, 'open': 308.2, 'openTime': 1702045800000, 'openSource': 'official', 'peRatio': -58.49, 'previousClose': 310.18, 'previousVolume': 172353, 'primaryExchange': 'NEW YORK STOCK EXCHANGE INC.', 'symbol': 'BIO', 'volume': 218355, 'week52High': 509.62, 'week52Low': 261.59, 'ytdChange': -0.2818367975457205, 'isUSMarketOpen': False}\n",
      "{'avgTotalVolume': 4697095, 'calculationPrice': 'close', 'change': 0.63, 'changePercent': 0.01301, 'close': 49.06, 'closeSource': 'official', 'closeTime': 1702069202123, 'companyName': 'Bank Of New York Mellon Corp', 'currency': 'USD', 'delayedPrice': 49.08, 'delayedPriceTime': 1702069152989, 'extendedChange': 0, 'extendedChangePercent': 0, 'extendedPrice': 49.06, 'extendedPriceTime': 1702080000002, 'high': 49.24, 'highSource': '15 minute delayed price', 'highTime': 1702069199692, 'iexAskPrice': 0, 'iexAskSize': 0, 'iexBidPrice': 0, 'iexBidSize': 0, 'iexClose': 49.07, 'iexCloseTime': 1702069196958, 'iexLastUpdated': 1702069196958, 'iexMarketPercent': 0.037337123839713916, 'iexOpen': 48.51, 'iexOpenTime': 1702045815270, 'iexRealtimePrice': 49.07, 'iexRealtimeSize': 34, 'iexVolume': 136983, 'lastTradeTime': 1702069197794, 'latestPrice': 49.06, 'latestSource': 'Close', 'latestTime': 'December 8, 2023', 'latestUpdate': 1702069202123, 'latestVolume': 3668815, 'low': 48.31, 'lowSource': 'IEX real time price', 'lowTime': 1702045905801, 'marketCap': 37730735019, 'oddLotDelayedPrice': 49.05, 'oddLotDelayedPriceTime': 1702069187776, 'open': 48.5, 'openTime': 1702045800000, 'openSource': 'official', 'peRatio': 11.54, 'previousClose': 48.43, 'previousVolume': 4773142, 'primaryExchange': 'NEW YORK STOCK EXCHANGE INC.', 'symbol': 'BK', 'volume': 3668815, 'week52High': 50.81, 'week52Low': 38.89, 'ytdChange': 0.11573938615565707, 'isUSMarketOpen': False}\n",
      "{'avgTotalVolume': 219373, 'calculationPrice': 'close', 'change': 36.73, 'changePercent': 0.01134, 'close': 3275, 'closeSource': 'official', 'closeTime': 1702069200429, 'companyName': 'Booking Holdings Inc', 'currency': 'USD', 'delayedPrice': 3275.82, 'delayedPriceTime': 1702069185956, 'extendedChange': 3.01, 'extendedChangePercent': 0.00092, 'extendedPrice': 3278.01, 'extendedPriceTime': 1702083556114, 'high': 3278.7, 'highSource': 'IEX real time price', 'highTime': 1702067994637, 'iexAskPrice': 0, 'iexAskSize': 0, 'iexBidPrice': 0, 'iexBidSize': 0, 'iexClose': 3276.45, 'iexCloseTime': 1702069196051, 'iexLastUpdated': 1702069196051, 'iexMarketPercent': 0.08123902478866338, 'iexOpen': 3229.99, 'iexOpenTime': 1702045800639, 'iexRealtimePrice': 3276.45, 'iexRealtimeSize': 2, 'iexVolume': 19893, 'lastTradeTime': 1702069198167, 'latestPrice': 3275, 'latestSource': 'Close', 'latestTime': 'December 8, 2023', 'latestUpdate': 1702069200429, 'latestVolume': 244870, 'low': 3220.96, 'lowSource': '15 minute delayed price', 'lowTime': 1702045800639, 'marketCap': 114264334075, 'oddLotDelayedPrice': 3275.02, 'oddLotDelayedPriceTime': 1702069180102, 'open': 3220.96, 'openTime': 1702045800638, 'openSource': 'official', 'peRatio': 23.14, 'previousClose': 3238.27, 'previousVolume': 279335, 'primaryExchange': 'NASDAQ', 'symbol': 'BKNG', 'volume': 244870, 'week52High': 3278.7, 'week52Low': 1907.38, 'ytdChange': 0.6181986002937557, 'isUSMarketOpen': False}\n",
      "{'avgTotalVolume': 7184863, 'calculationPrice': 'close', 'change': 0.51, 'changePercent': 0.01607, 'close': 32.24, 'closeSource': 'official', 'closeTime': 1702069200040, 'companyName': 'Baker Hughes Co - Class A', 'currency': 'USD', 'delayedPrice': 32.205, 'delayedPriceTime': 1702069178478, 'extendedChange': 0.21, 'extendedChangePercent': 0.00651, 'extendedPrice': 32.45, 'extendedPriceTime': 1702080053622, 'high': 32.28, 'highSource': '15 minute delayed price', 'highTime': 1702069199996, 'iexAskPrice': 0, 'iexAskSize': 0, 'iexBidPrice': 0, 'iexBidSize': 0, 'iexClose': 32.255, 'iexCloseTime': 1702069196818, 'iexLastUpdated': 1702069196818, 'iexMarketPercent': 0.02736416033006763, 'iexOpen': 31.82, 'iexOpenTime': 1702045807064, 'iexRealtimePrice': 32.255, 'iexRealtimeSize': 300, 'iexVolume': 231072, 'lastTradeTime': 1702069199244, 'latestPrice': 32.24, 'latestSource': 'Close', 'latestTime': 'December 8, 2023', 'latestUpdate': 1702069200040, 'latestVolume': 8444330, 'low': 31.75, 'lowSource': '15 minute delayed price', 'lowTime': 1702045800453, 'marketCap': 32440980710, 'oddLotDelayedPrice': 32.23, 'oddLotDelayedPriceTime': 1702069190736, 'open': 31.86, 'openTime': 1702045800000, 'openSource': 'official', 'peRatio': 19.31, 'previousClose': 31.73, 'previousVolume': 8725786, 'primaryExchange': 'NASDAQ', 'symbol': 'BKR', 'volume': 8444330, 'week52High': 37.36, 'week52Low': 25.33, 'ytdChange': 0.13065479696501334, 'isUSMarketOpen': False}\n",
      "{'avgTotalVolume': 670639, 'calculationPrice': 'close', 'change': -0.71, 'changePercent': -0.00095, 'close': 744.73, 'closeSource': 'official', 'closeTime': 1702069201902, 'companyName': 'Blackrock Inc.', 'currency': 'USD', 'delayedPrice': 744.51, 'delayedPriceTime': 1702069184592, 'extendedChange': 1.27, 'extendedChangePercent': 0.00171, 'extendedPrice': 746, 'extendedPriceTime': 1702083351879, 'high': 747.79, 'highSource': '15 minute delayed price', 'highTime': 1702069199978, 'iexAskPrice': 0, 'iexAskSize': 0, 'iexBidPrice': 0, 'iexBidSize': 0, 'iexClose': 744.37, 'iexCloseTime': 1702069196975, 'iexLastUpdated': 1702069196975, 'iexMarketPercent': 0.048661400404726045, 'iexOpen': 744.165, 'iexOpenTime': 1702045896446, 'iexRealtimePrice': 744.37, 'iexRealtimeSize': 1, 'iexVolume': 22195, 'lastTradeTime': 1702069199266, 'latestPrice': 744.73, 'latestSource': 'Close', 'latestTime': 'December 8, 2023', 'latestUpdate': 1702069201902, 'latestVolume': 456111, 'low': 742.14, 'lowSource': 'IEX real time price', 'lowTime': 1702050320649, 'marketCap': 110787875028, 'oddLotDelayedPrice': 744.36, 'oddLotDelayedPriceTime': 1702069180016, 'open': 743.15, 'openTime': 1702045800000, 'openSource': 'official', 'peRatio': 20.88, 'previousClose': 745.44, 'previousVolume': 784364, 'primaryExchange': 'NEW YORK STOCK EXCHANGE INC.', 'symbol': 'BLK', 'volume': 456111, 'week52High': 759.86, 'week52Low': 592.23, 'ytdChange': 0.08132505995095918, 'isUSMarketOpen': False}\n",
      "{'avgTotalVolume': 2101923, 'calculationPrice': 'close', 'change': -2.42, 'changePercent': -0.03365, 'close': None, 'closeSource': 'official', 'closeTime': None, 'companyName': 'Ball Corp.', 'currency': 'USD', 'delayedPrice': None, 'delayedPriceTime': None, 'extendedChange': 0, 'extendedChangePercent': 0, 'extendedPrice': 69.49, 'extendedPriceTime': 1652137200004, 'high': 72.21, 'highSource': '15 minute delayed price', 'highTime': 1652126399307, 'iexAskPrice': None, 'iexAskSize': None, 'iexBidPrice': None, 'iexBidSize': None, 'iexClose': 69.49, 'iexCloseTime': 1652126397219, 'iexLastUpdated': None, 'iexMarketPercent': None, 'iexOpen': 70.9, 'iexOpenTime': 1652103001768, 'iexRealtimePrice': None, 'iexRealtimeSize': None, 'iexVolume': None, 'lastTradeTime': 1652126399307, 'latestPrice': 69.49, 'latestSource': 'Close', 'latestTime': 'May 9, 2022', 'latestUpdate': 1652126401932, 'latestVolume': 0, 'low': 69.1, 'lowSource': '15 minute delayed price', 'lowTime': 1652125885914, 'marketCap': 22222129619, 'oddLotDelayedPrice': 69.5, 'oddLotDelayedPriceTime': 1652126398335, 'open': None, 'openTime': None, 'openSource': 'official', 'peRatio': 20.38, 'previousClose': 71.91, 'previousVolume': 4294949, 'primaryExchange': 'NEW YORK STOCK EXCHANGE INC.', 'symbol': 'BLL', 'volume': 0, 'week52High': 97.77, 'week52Low': 69.1, 'ytdChange': -0.31023365093625643, 'isUSMarketOpen': False}\n"
     ]
    },
    {
     "name": "stdout",
     "output_type": "stream",
     "text": [
      "{'avgTotalVolume': 13824334, 'calculationPrice': 'close', 'change': 0.15, 'changePercent': 0.00299, 'close': 50.31, 'closeSource': 'official', 'closeTime': 1702069202074, 'companyName': 'Bristol-Myers Squibb Co.', 'currency': 'USD', 'delayedPrice': 50.305, 'delayedPriceTime': 1702069183849, 'extendedChange': 0.02, 'extendedChangePercent': 0.0004, 'extendedPrice': 50.33, 'extendedPriceTime': 1702082965646, 'high': 50.535, 'highSource': '15 minute delayed price', 'highTime': 1702069199990, 'iexAskPrice': 0, 'iexAskSize': 0, 'iexBidPrice': 0, 'iexBidSize': 0, 'iexClose': 50.29, 'iexCloseTime': 1702069199429, 'iexLastUpdated': 1702069199429, 'iexMarketPercent': 0.02695199372759635, 'iexOpen': 50.18, 'iexOpenTime': 1702045822263, 'iexRealtimePrice': 50.29, 'iexRealtimeSize': 2, 'iexVolume': 272837, 'lastTradeTime': 1702069199977, 'latestPrice': 50.31, 'latestSource': 'Close', 'latestTime': 'December 8, 2023', 'latestUpdate': 1702069202074, 'latestVolume': 10123073, 'low': 50.09, 'lowSource': '15 minute delayed price', 'lowTime': 1702054275385, 'marketCap': 102368662000, 'oddLotDelayedPrice': 50.3, 'oddLotDelayedPriceTime': 1702069182024, 'open': 50.2, 'openTime': 1702045800000, 'openSource': 'official', 'peRatio': 12.77, 'previousClose': 50.16, 'previousVolume': 14710574, 'primaryExchange': 'NEW YORK STOCK EXCHANGE INC.', 'symbol': 'BMY', 'volume': 10123073, 'week52High': 77.89, 'week52Low': 48.25, 'ytdChange': -0.27501224256879203, 'isUSMarketOpen': False}\n",
      "{'avgTotalVolume': 548428, 'calculationPrice': 'close', 'change': -0.65, 'changePercent': -0.00339, 'close': 191.36, 'closeSource': 'official', 'closeTime': 1702069202191, 'companyName': 'Broadridge Financial Solutions, Inc.', 'currency': 'USD', 'delayedPrice': 191.31, 'delayedPriceTime': 1702069199012, 'extendedChange': 0, 'extendedChangePercent': 0, 'extendedPrice': 191.36, 'extendedPriceTime': 1702080000002, 'high': 192.545, 'highSource': 'IEX real time price', 'highTime': 1702046802974, 'iexAskPrice': 0, 'iexAskSize': 0, 'iexBidPrice': 0, 'iexBidSize': 0, 'iexClose': 191.31, 'iexCloseTime': 1702069198170, 'iexLastUpdated': 1702069198170, 'iexMarketPercent': 0.034886363849822584, 'iexOpen': 191.88, 'iexOpenTime': 1702046109108, 'iexRealtimePrice': 191.31, 'iexRealtimeSize': 100, 'iexVolume': 18572, 'lastTradeTime': 1702069199989, 'latestPrice': 191.36, 'latestSource': 'Close', 'latestTime': 'December 8, 2023', 'latestUpdate': 1702069202191, 'latestVolume': 532357, 'low': 189.04, 'lowSource': '15 minute delayed price', 'lowTime': 1702052208522, 'marketCap': 22512937192, 'oddLotDelayedPrice': 191.355, 'oddLotDelayedPriceTime': 1702069187770, 'open': 192.3, 'openTime': 1702045800000, 'openSource': 'official', 'peRatio': 33.93, 'previousClose': 192.01, 'previousVolume': 608918, 'primaryExchange': 'NEW YORK STOCK EXCHANGE INC.', 'symbol': 'BR', 'volume': 532357, 'week52High': 196.52, 'week52Low': 129.97, 'ytdChange': 0.4485572093440036, 'isUSMarketOpen': False}\n",
      "{'avgTotalVolume': 3087430, 'calculationPrice': 'close', 'change': 0.38, 'changePercent': 0.00108, 'close': 353.08, 'closeSource': 'official', 'closeTime': 1702069252736, 'companyName': 'Berkshire Hathaway Inc. - Class B', 'currency': 'USD', 'delayedPrice': 353.03, 'delayedPriceTime': 1702069161418, 'extendedChange': 0.67, 'extendedChangePercent': 0.0019, 'extendedPrice': 353.75, 'extendedPriceTime': 1702083397063, 'high': 353.67, 'highSource': '15 minute delayed price', 'highTime': 1702069200007, 'iexAskPrice': 0, 'iexAskSize': 0, 'iexBidPrice': 0, 'iexBidSize': 0, 'iexClose': 353.02, 'iexCloseTime': 1702069198296, 'iexLastUpdated': 1702069198296, 'iexMarketPercent': 0.02550170706570151, 'iexOpen': 352.855, 'iexOpenTime': 1702045843497, 'iexRealtimePrice': 353.02, 'iexRealtimeSize': 5, 'iexVolume': 83882, 'lastTradeTime': 1702069199993, 'latestPrice': 353.08, 'latestSource': 'Close', 'latestTime': 'December 8, 2023', 'latestUpdate': 1702069252736, 'latestVolume': 3289270, 'low': 351.02, 'lowSource': '15 minute delayed price', 'lowTime': 1702054420970, 'marketCap': 769768917670, 'oddLotDelayedPrice': 353.115, 'oddLotDelayedPriceTime': 1702069182025, 'open': 352.7, 'openTime': 1702045800000, 'openSource': 'official', 'peRatio': 0.01, 'previousClose': 352.7, 'previousVolume': 2833348, 'primaryExchange': 'NEW YORK STOCK EXCHANGE INC.', 'symbol': 'BRK.B', 'volume': 3289270, 'week52High': 373.34, 'week52Low': 292.42, 'ytdChange': 0.14287346066688247, 'isUSMarketOpen': False}\n",
      "{'avgTotalVolume': 6421730, 'calculationPrice': 'close', 'change': -0.08, 'changePercent': -0.00145, 'close': 54.95, 'closeSource': 'official', 'closeTime': 1702069202050, 'companyName': 'Boston Scientific Corp.', 'currency': 'USD', 'delayedPrice': 54.935, 'delayedPriceTime': 1702069187772, 'extendedChange': -0.47, 'extendedChangePercent': -0.00855, 'extendedPrice': 54.48, 'extendedPriceTime': 1702081985242, 'high': 55.05, 'highSource': '15 minute delayed price', 'highTime': 1702069199977, 'iexAskPrice': 0, 'iexAskSize': 0, 'iexBidPrice': 0, 'iexBidSize': 0, 'iexClose': 54.92, 'iexCloseTime': 1702069199129, 'iexLastUpdated': 1702069199129, 'iexMarketPercent': 0.029207814422805924, 'iexOpen': 55.01, 'iexOpenTime': 1702045933553, 'iexRealtimePrice': 54.92, 'iexRealtimeSize': 76, 'iexVolume': 125604, 'lastTradeTime': 1702069199129, 'latestPrice': 54.95, 'latestSource': 'Close', 'latestTime': 'December 8, 2023', 'latestUpdate': 1702069202050, 'latestVolume': 4300356, 'low': 54.52, 'lowSource': '15 minute delayed price', 'lowTime': 1702052755619, 'marketCap': 80500803596, 'oddLotDelayedPrice': 54.945, 'oddLotDelayedPriceTime': 1702069183864, 'open': 54.91, 'openTime': 1702045800000, 'openSource': 'official', 'peRatio': 67.24, 'previousClose': 55.03, 'previousVolume': 4027818, 'primaryExchange': 'NEW YORK STOCK EXCHANGE INC.', 'symbol': 'BSX', 'volume': 4300356, 'week52High': 56.22, 'week52Low': 44.35, 'ytdChange': 0.18787353576831628, 'isUSMarketOpen': False}\n",
      "{'avgTotalVolume': 2706212, 'calculationPrice': 'close', 'change': -0.14, 'changePercent': -0.00424, 'close': 32.9, 'closeSource': 'official', 'closeTime': 1702069201986, 'companyName': 'BorgWarner Inc', 'currency': 'USD', 'delayedPrice': 32.895, 'delayedPriceTime': 1702069183336, 'extendedChange': 0.17, 'extendedChangePercent': 0.00517, 'extendedPrice': 33.07, 'extendedPriceTime': 1702083154114, 'high': 33.485, 'highSource': '15 minute delayed price', 'highTime': 1702069199999, 'iexAskPrice': 39.6, 'iexAskSize': 100, 'iexBidPrice': 26.4, 'iexBidSize': 100, 'iexClose': 32.88, 'iexCloseTime': 1702069197243, 'iexLastUpdated': 1702069197243, 'iexMarketPercent': 0.0362449335956144, 'iexOpen': 33.085, 'iexOpenTime': 1702045878488, 'iexRealtimePrice': 32.88, 'iexRealtimeSize': 138, 'iexVolume': 109429, 'lastTradeTime': 1702069198015, 'latestPrice': 32.9, 'latestSource': 'Close', 'latestTime': 'December 8, 2023', 'latestUpdate': 1702069201986, 'latestVolume': 3019153, 'low': 32.88, 'lowSource': '15 minute delayed price', 'lowTime': 1702069148723, 'marketCap': 7733323614, 'oddLotDelayedPrice': 32.89, 'oddLotDelayedPriceTime': 1702069190494, 'open': 33, 'openTime': 1702045800000, 'openSource': 'official', 'peRatio': 12.51, 'previousClose': 33.04, 'previousVolume': 3855216, 'primaryExchange': 'NEW YORK STOCK EXCHANGE INC.', 'symbol': 'BWA', 'volume': 3019153, 'week52High': 50.65, 'week52Low': 31.53, 'ytdChange': -0.17265172680412375, 'isUSMarketOpen': False}\n",
      "{'avgTotalVolume': 1780333, 'calculationPrice': 'close', 'change': -0.53, 'changePercent': -0.0082, 'close': 64.08, 'closeSource': 'official', 'closeTime': 1702069201909, 'companyName': 'Boston Properties, Inc.', 'currency': 'USD', 'delayedPrice': 64.06, 'delayedPriceTime': 1702069186103, 'extendedChange': 0, 'extendedChangePercent': 0, 'extendedPrice': 64.08, 'extendedPriceTime': 1702080000001, 'high': 64.47, 'highSource': '15 minute delayed price', 'highTime': 1702069199978, 'iexAskPrice': 0, 'iexAskSize': 0, 'iexBidPrice': 0, 'iexBidSize': 0, 'iexClose': 64.05, 'iexCloseTime': 1702069190138, 'iexLastUpdated': 1702069190138, 'iexMarketPercent': 0.022665128908808212, 'iexOpen': 64.145, 'iexOpenTime': 1702045822156, 'iexRealtimePrice': 64.05, 'iexRealtimeSize': 84, 'iexVolume': 81399, 'lastTradeTime': 1702069195683, 'latestPrice': 64.08, 'latestSource': 'Close', 'latestTime': 'December 8, 2023', 'latestUpdate': 1702069201909, 'latestVolume': 3591376, 'low': 63.05, 'lowSource': 'IEX real time price', 'lowTime': 1702052016046, 'marketCap': 10056726734, 'oddLotDelayedPrice': 64.09, 'oddLotDelayedPriceTime': 1702069168564, 'open': 64.14, 'openTime': 1702045800000, 'openSource': 'official', 'peRatio': 54.77, 'previousClose': 64.61, 'previousVolume': 1130798, 'primaryExchange': 'NEW YORK STOCK EXCHANGE INC.', 'symbol': 'BXP', 'volume': 3591376, 'week52High': 75.34, 'week52Low': 43.81, 'ytdChange': -0.00031286588752090123, 'isUSMarketOpen': False}\n"
     ]
    },
    {
     "name": "stdout",
     "output_type": "stream",
     "text": [
      "{'avgTotalVolume': 16718596, 'calculationPrice': 'close', 'change': 0.39, 'changePercent': 0.00804, 'close': 48.89, 'closeSource': 'official', 'closeTime': 1702069201998, 'companyName': 'Citigroup Inc', 'currency': 'USD', 'delayedPrice': 48.885, 'delayedPriceTime': 1702069187770, 'extendedChange': 0.12, 'extendedChangePercent': 0.00245, 'extendedPrice': 49.01, 'extendedPriceTime': 1702083571190, 'high': 49.17, 'highSource': '15 minute delayed price', 'highTime': 1702069199993, 'iexAskPrice': 0, 'iexAskSize': 0, 'iexBidPrice': 0, 'iexBidSize': 0, 'iexClose': 48.88, 'iexCloseTime': 1702069195940, 'iexLastUpdated': 1702069195940, 'iexMarketPercent': 0.022602931835289962, 'iexOpen': 48.435, 'iexOpenTime': 1702045860306, 'iexRealtimePrice': 48.88, 'iexRealtimeSize': 100, 'iexVolume': 397615, 'lastTradeTime': 1702069199978, 'latestPrice': 48.89, 'latestSource': 'Close', 'latestTime': 'December 8, 2023', 'latestUpdate': 1702069201998, 'latestVolume': 17591302, 'low': 48.42, 'lowSource': '15 minute delayed price', 'lowTime': 1702045859159, 'marketCap': 93569687704, 'oddLotDelayedPrice': 48.88, 'oddLotDelayedPriceTime': 1702069187779, 'open': 48.48, 'openTime': 1702045855005, 'openSource': 'official', 'peRatio': 7.8, 'previousClose': 48.5, 'previousVolume': 14896780, 'primaryExchange': 'NEW YORK STOCK EXCHANGE INC.', 'symbol': 'C', 'volume': 17591302, 'week52High': 50.88, 'week52Low': 37.68, 'ytdChange': 0.12986563822626637, 'isUSMarketOpen': False}\n",
      "{'avgTotalVolume': 3384298, 'calculationPrice': 'close', 'change': -0.27, 'changePercent': -0.00906, 'close': 29.52, 'closeSource': 'official', 'closeTime': 1702069202006, 'companyName': 'Conagra Brands Inc', 'currency': 'USD', 'delayedPrice': 29.54, 'delayedPriceTime': 1702069185048, 'extendedChange': 0, 'extendedChangePercent': 0, 'extendedPrice': 29.52, 'extendedPriceTime': 1702080000004, 'high': 29.89, 'highSource': '15 minute delayed price', 'highTime': 1702069199988, 'iexAskPrice': 0, 'iexAskSize': 0, 'iexBidPrice': 0, 'iexBidSize': 0, 'iexClose': 29.52, 'iexCloseTime': 1702069196808, 'iexLastUpdated': 1702069196808, 'iexMarketPercent': 0.024068008371851246, 'iexOpen': 29.82, 'iexOpenTime': 1702045868379, 'iexRealtimePrice': 29.52, 'iexRealtimeSize': 200, 'iexVolume': 79174, 'lastTradeTime': 1702069197096, 'latestPrice': 29.52, 'latestSource': 'Close', 'latestTime': 'December 8, 2023', 'latestUpdate': 1702069202006, 'latestVolume': 3289595, 'low': 29.463, 'lowSource': '15 minute delayed price', 'lowTime': 1702066670501, 'marketCap': 14109611847, 'oddLotDelayedPrice': 29.525, 'oddLotDelayedPriceTime': 1702069158851, 'open': 29.81, 'openTime': 1702045800000, 'openSource': 'official', 'peRatio': 13.12, 'previousClose': 29.79, 'previousVolume': 4464736, 'primaryExchange': 'NEW YORK STOCK EXCHANGE INC.', 'symbol': 'CAG', 'volume': 3289595, 'week52High': 39.63, 'week52Low': 24.84, 'ytdChange': -0.2068648018612867, 'isUSMarketOpen': False}\n",
      "{'avgTotalVolume': 1876676, 'calculationPrice': 'close', 'change': 0.45, 'changePercent': 0.00423, 'close': 106.83, 'closeSource': 'official', 'closeTime': 1702069201985, 'companyName': 'Cardinal Health, Inc.', 'currency': 'USD', 'delayedPrice': 106.865, 'delayedPriceTime': 1702069186681, 'extendedChange': 0, 'extendedChangePercent': 0, 'extendedPrice': 106.83, 'extendedPriceTime': 1702080000001, 'high': 107.025, 'highSource': '15 minute delayed price', 'highTime': 1702069199978, 'iexAskPrice': 0, 'iexAskSize': 0, 'iexBidPrice': 0, 'iexBidSize': 0, 'iexClose': 106.82, 'iexCloseTime': 1702069196003, 'iexLastUpdated': 1702069196003, 'iexMarketPercent': 0.03690037493132685, 'iexOpen': 106.79, 'iexOpenTime': 1702045904021, 'iexRealtimePrice': 106.82, 'iexRealtimeSize': 198, 'iexVolume': 45942, 'lastTradeTime': 1702069199187, 'latestPrice': 106.83, 'latestSource': 'Close', 'latestTime': 'December 8, 2023', 'latestUpdate': 1702069201985, 'latestVolume': 1245028, 'low': 105.665, 'lowSource': '15 minute delayed price', 'lowTime': 1702046208278, 'marketCap': 26330190648, 'oddLotDelayedPrice': 106.89, 'oddLotDelayedPriceTime': 1702069160513, 'open': 106.69, 'openTime': 1702045800000, 'openSource': 'official', 'peRatio': 175.48, 'previousClose': 106.38, 'previousVolume': 1749810, 'primaryExchange': 'NEW YORK STOCK EXCHANGE INC.', 'symbol': 'CAH', 'volume': 1245028, 'week52High': 108.03, 'week52Low': 67.33, 'ytdChange': 0.41287653141647224, 'isUSMarketOpen': False}\n",
      "{'avgTotalVolume': 3611020, 'calculationPrice': 'close', 'change': 2.38, 'changePercent': 0.045, 'close': 55.27, 'closeSource': 'official', 'closeTime': 1702069202071, 'companyName': 'Carrier Global Corp', 'currency': 'USD', 'delayedPrice': 55.275, 'delayedPriceTime': 1702069187772, 'extendedChange': -0.07, 'extendedChangePercent': -0.00127, 'extendedPrice': 55.2, 'extendedPriceTime': 1702083327760, 'high': 56.87, 'highSource': '15 minute delayed price', 'highTime': 1702069199855, 'iexAskPrice': 0, 'iexAskSize': 0, 'iexBidPrice': 0, 'iexBidSize': 0, 'iexClose': 55.26, 'iexCloseTime': 1702069199208, 'iexLastUpdated': 1702069199208, 'iexMarketPercent': 0.0341205858540123, 'iexOpen': 55.82, 'iexOpenTime': 1702045817679, 'iexRealtimePrice': 55.26, 'iexRealtimeSize': 100, 'iexVolume': 355688, 'lastTradeTime': 1702069199209, 'latestPrice': 55.27, 'latestSource': 'Close', 'latestTime': 'December 8, 2023', 'latestUpdate': 1702069202071, 'latestVolume': 10424440, 'low': 54.67, 'lowSource': '15 minute delayed price', 'lowTime': 1702058854579, 'marketCap': 46374104421, 'oddLotDelayedPrice': 55.271, 'oddLotDelayedPriceTime': 1702069187743, 'open': 55.98, 'openTime': 1702045800000, 'openSource': 'official', 'peRatio': 39.2, 'previousClose': 52.89, 'previousVolume': 2465023, 'primaryExchange': 'NEW YORK STOCK EXCHANGE INC.', 'symbol': 'CARR', 'volume': 10424440, 'week52High': 59.8, 'week52Low': 39.86, 'ytdChange': 0.34304471124702124, 'isUSMarketOpen': False}\n",
      "{'avgTotalVolume': 2754297, 'calculationPrice': 'close', 'change': 2.09, 'changePercent': 0.00812, 'close': 259.5, 'closeSource': 'official', 'closeTime': 1702069202065, 'companyName': 'Caterpillar Inc.', 'currency': 'USD', 'delayedPrice': 259.42, 'delayedPriceTime': 1702069180046, 'extendedChange': 0.09, 'extendedChangePercent': 0.00035, 'extendedPrice': 259.59, 'extendedPriceTime': 1702083162698, 'high': 261.64, 'highSource': '15 minute delayed price', 'highTime': 1702069200002, 'iexAskPrice': 0, 'iexAskSize': 0, 'iexBidPrice': 0, 'iexBidSize': 0, 'iexClose': 259.51, 'iexCloseTime': 1702069189422, 'iexLastUpdated': 1702069189422, 'iexMarketPercent': 0.015072975630595627, 'iexOpen': 257.87, 'iexOpenTime': 1702045801213, 'iexRealtimePrice': 259.51, 'iexRealtimeSize': 100, 'iexVolume': 49113, 'lastTradeTime': 1702069199992, 'latestPrice': 259.5, 'latestSource': 'Close', 'latestTime': 'December 8, 2023', 'latestUpdate': 1702069202065, 'latestVolume': 3258348, 'low': 257, 'lowSource': '15 minute delayed price', 'lowTime': 1702045801101, 'marketCap': 132107490809, 'oddLotDelayedPrice': 259.39, 'oddLotDelayedPriceTime': 1702069183849, 'open': 257.38, 'openTime': 1702045800000, 'openSource': 'official', 'peRatio': 14.73, 'previousClose': 257.41, 'previousVolume': 2162534, 'primaryExchange': 'NEW YORK STOCK EXCHANGE INC.', 'symbol': 'CAT', 'volume': 3258348, 'week52High': 292.37, 'week52Low': 201.99, 'ytdChange': 0.10462860346694557, 'isUSMarketOpen': False}\n",
      "{'avgTotalVolume': 1908206, 'calculationPrice': 'close', 'change': -0.22, 'changePercent': -0.00099, 'close': 222.91, 'closeSource': 'official', 'closeTime': 1702069202232, 'companyName': 'Chubb Limited', 'currency': 'USD', 'delayedPrice': 222.815, 'delayedPriceTime': 1702069185869, 'extendedChange': 0, 'extendedChangePercent': 0, 'extendedPrice': 222.91, 'extendedPriceTime': 1702080000003, 'high': 223.47, 'highSource': 'IEX real time price', 'highTime': 1702068495903, 'iexAskPrice': 0, 'iexAskSize': 0, 'iexBidPrice': 0, 'iexBidSize': 0, 'iexClose': 222.83, 'iexCloseTime': 1702069193101, 'iexLastUpdated': 1702069193101, 'iexMarketPercent': 0.041392268650081325, 'iexOpen': 222.98, 'iexOpenTime': 1702045857997, 'iexRealtimePrice': 222.83, 'iexRealtimeSize': 11, 'iexVolume': 105587, 'lastTradeTime': 1702069199828, 'latestPrice': 222.91, 'latestSource': 'Close', 'latestTime': 'December 8, 2023', 'latestUpdate': 1702069202232, 'latestVolume': 2550887, 'low': 221.64, 'lowSource': '15 minute delayed price', 'lowTime': 1702049396196, 'marketCap': 90945028163, 'oddLotDelayedPrice': 222.83, 'oddLotDelayedPriceTime': 1702069180023, 'open': 222.9, 'openTime': 1702045800000, 'openSource': 'official', 'peRatio': 13.18, 'previousClose': 223.13, 'previousVolume': 2204617, 'primaryExchange': 'NEW YORK STOCK EXCHANGE INC.', 'symbol': 'CB', 'volume': 2550887, 'week52High': 230.4, 'week52Low': 181.81, 'ytdChange': 0.02382595062438302, 'isUSMarketOpen': False}\n"
     ]
    },
    {
     "name": "stdout",
     "output_type": "stream",
     "text": [
      "{'avgTotalVolume': 916655, 'calculationPrice': 'close', 'change': 1.3, 'changePercent': 0.00733, 'close': 178.56, 'closeSource': 'official', 'closeTime': 1702069200347, 'companyName': 'Cboe Global Markets Inc.', 'currency': 'USD', 'delayedPrice': 178.59, 'delayedPriceTime': 1702069195005, 'extendedChange': 0.16, 'extendedChangePercent': 0.0009, 'extendedPrice': 178.72, 'extendedPriceTime': 1702083600854, 'high': 179.08, 'highSource': '15 minute delayed price', 'highTime': 1702069200003, 'iexAskPrice': 0, 'iexAskSize': 0, 'iexBidPrice': 0, 'iexBidSize': 0, 'iexClose': 178.55, 'iexCloseTime': 1702069197696, 'iexLastUpdated': 1702069197696, 'iexMarketPercent': 0.07820947664335179, 'iexOpen': 176.68, 'iexOpenTime': 1702045801311, 'iexRealtimePrice': 178.55, 'iexRealtimeSize': 9, 'iexVolume': 63042, 'lastTradeTime': 1702069197696, 'latestPrice': 178.56, 'latestSource': 'Close', 'latestTime': 'December 8, 2023', 'latestUpdate': 1702069200347, 'latestVolume': 806066, 'low': 176.01, 'lowSource': '15 minute delayed price', 'lowTime': 1702045803829, 'marketCap': 18848077396, 'oddLotDelayedPrice': 178.63, 'oddLotDelayedPriceTime': 1702069187747, 'open': 176.79, 'openTime': 1702045800000, 'openSource': 'official', 'peRatio': 26.89, 'previousClose': 177.26, 'previousVolume': 1002586, 'primaryExchange': 'CBOE BZX U.S. EQUITIES EXCHANGE', 'symbol': 'CBOE', 'volume': 806066, 'week52High': 183.74, 'week52Low': 113.27, 'ytdChange': 0.4555326143790849, 'isUSMarketOpen': False}\n",
      "{'avgTotalVolume': 1568634, 'calculationPrice': 'close', 'change': 0.03, 'changePercent': 0.00036, 'close': 82.69, 'closeSource': 'official', 'closeTime': 1702069202015, 'companyName': 'CBRE Group Inc - Class A', 'currency': 'USD', 'delayedPrice': 82.69, 'delayedPriceTime': 1702069184776, 'extendedChange': 0, 'extendedChangePercent': 0, 'extendedPrice': 82.69, 'extendedPriceTime': 1702080000004, 'high': 82.96, 'highSource': '15 minute delayed price', 'highTime': 1702069199979, 'iexAskPrice': 0, 'iexAskSize': 0, 'iexBidPrice': 0, 'iexBidSize': 0, 'iexClose': 82.62, 'iexCloseTime': 1702069197334, 'iexLastUpdated': 1702069197334, 'iexMarketPercent': 0.0427117331415611, 'iexOpen': 81.98, 'iexOpenTime': 1702045922090, 'iexRealtimePrice': 82.62, 'iexRealtimeSize': 93, 'iexVolume': 46326, 'lastTradeTime': 1702069199504, 'latestPrice': 82.69, 'latestSource': 'Close', 'latestTime': 'December 8, 2023', 'latestUpdate': 1702069202015, 'latestVolume': 1084620, 'low': 81.83, 'lowSource': '15 minute delayed price', 'lowTime': 1702045936233, 'marketCap': 25203316715, 'oddLotDelayedPrice': 82.68, 'oddLotDelayedPriceTime': 1702069187765, 'open': 82.52, 'openTime': 1702045800000, 'openSource': 'official', 'peRatio': 44.22, 'previousClose': 82.66, 'previousVolume': 1291632, 'primaryExchange': 'NEW YORK STOCK EXCHANGE INC.', 'symbol': 'CBRE', 'volume': 1084620, 'week52High': 89.58, 'week52Low': 64.63, 'ytdChange': 0.07442444906444909, 'isUSMarketOpen': False}\n",
      "{'avgTotalVolume': 3923955, 'calculationPrice': 'close', 'change': -1.57, 'changePercent': -0.01335, 'close': 116.07, 'closeSource': 'official', 'closeTime': 1702069201920, 'companyName': 'Crown Castle Inc', 'currency': 'USD', 'delayedPrice': 116.11, 'delayedPriceTime': 1702069182553, 'extendedChange': 0, 'extendedChangePercent': 0, 'extendedPrice': 116.07, 'extendedPriceTime': 1702082574419, 'high': 119.17, 'highSource': '15 minute delayed price', 'highTime': 1702069199991, 'iexAskPrice': 0, 'iexAskSize': 0, 'iexBidPrice': 0, 'iexBidSize': 0, 'iexClose': 116.05, 'iexCloseTime': 1702069198632, 'iexLastUpdated': 1702069198632, 'iexMarketPercent': 0.046277590849829485, 'iexOpen': 118.74, 'iexOpenTime': 1702045808710, 'iexRealtimePrice': 116.05, 'iexRealtimeSize': 200, 'iexVolume': 203213, 'lastTradeTime': 1702069199990, 'latestPrice': 116.07, 'latestSource': 'Close', 'latestTime': 'December 8, 2023', 'latestUpdate': 1702069201920, 'latestVolume': 4391175, 'low': 114.49, 'lowSource': '15 minute delayed price', 'lowTime': 1702053637628, 'marketCap': 50338266328, 'oddLotDelayedPrice': 116.095, 'oddLotDelayedPriceTime': 1702069183816, 'open': 118.25, 'openTime': 1702045800000, 'openSource': 'official', 'peRatio': 32.42, 'previousClose': 117.64, 'previousVolume': 3794747, 'primaryExchange': 'NEW YORK STOCK EXCHANGE INC.', 'symbol': 'CCI', 'volume': 4391175, 'week52High': 147.66, 'week52Low': 84.72, 'ytdChange': -0.10896120814780189, 'isUSMarketOpen': False}\n",
      "{'avgTotalVolume': 28496743, 'calculationPrice': 'close', 'change': 0.18, 'changePercent': 0.01004, 'close': 18.11, 'closeSource': 'official', 'closeTime': 1702069202024, 'companyName': 'Carnival Corp. (Paired Stock)', 'currency': 'USD', 'delayedPrice': 18.11, 'delayedPriceTime': 1702069183832, 'extendedChange': 0.03, 'extendedChangePercent': 0.00166, 'extendedPrice': 18.14, 'extendedPriceTime': 1702083572156, 'high': 18.14, 'highSource': '15 minute delayed price', 'highTime': 1702069200002, 'iexAskPrice': 0, 'iexAskSize': 0, 'iexBidPrice': 0, 'iexBidSize': 0, 'iexClose': 18.12, 'iexCloseTime': 1702069197809, 'iexLastUpdated': 1702069197809, 'iexMarketPercent': 0.013090431041882015, 'iexOpen': 17.92, 'iexOpenTime': 1702045802004, 'iexRealtimePrice': 18.12, 'iexRealtimeSize': 100, 'iexVolume': 428410, 'lastTradeTime': 1702069199781, 'latestPrice': 18.11, 'latestSource': 'Close', 'latestTime': 'December 8, 2023', 'latestUpdate': 1702069202024, 'latestVolume': 32726959, 'low': 17.84, 'lowSource': '15 minute delayed price', 'lowTime': 1702046550926, 'marketCap': 20273153097, 'oddLotDelayedPrice': 18.125, 'oddLotDelayedPriceTime': 1702069190503, 'open': 17.95, 'openTime': 1702045800914, 'openSource': 'official', 'peRatio': -14.49, 'previousClose': 17.93, 'previousVolume': 33502928, 'primaryExchange': 'NEW YORK STOCK EXCHANGE INC.', 'symbol': 'CCL', 'volume': 32726959, 'week52High': 19.55, 'week52Low': 7.53, 'ytdChange': 1.2346057568238211, 'isUSMarketOpen': False}\n",
      "{'avgTotalVolume': 1394492, 'calculationPrice': 'close', 'change': 0.46, 'changePercent': 0.00177, 'close': 259.93, 'closeSource': 'official', 'closeTime': 1702069200406, 'companyName': 'Cadence Design Systems, Inc.', 'currency': 'USD', 'delayedPrice': 259.85, 'delayedPriceTime': 1702069183892, 'extendedChange': 0.23, 'extendedChangePercent': 0.00088, 'extendedPrice': 260.16, 'extendedPriceTime': 1702083322377, 'high': 261.58, 'highSource': '15 minute delayed price', 'highTime': 1702069200002, 'iexAskPrice': 0, 'iexAskSize': 0, 'iexBidPrice': 0, 'iexBidSize': 0, 'iexClose': 259.81, 'iexCloseTime': 1702069197503, 'iexLastUpdated': 1702069197503, 'iexMarketPercent': 0.03258403087048634, 'iexOpen': 258.22, 'iexOpenTime': 1702045810203, 'iexRealtimePrice': 259.81, 'iexRealtimeSize': 1, 'iexVolume': 34190, 'lastTradeTime': 1702069199961, 'latestPrice': 259.93, 'latestSource': 'Close', 'latestTime': 'December 8, 2023', 'latestUpdate': 1702069200406, 'latestVolume': 1049287, 'low': 257.56, 'lowSource': '15 minute delayed price', 'lowTime': 1702045800697, 'marketCap': 70717075660, 'oddLotDelayedPrice': 259.81, 'oddLotDelayedPriceTime': 1702069189378, 'open': 257.56, 'openTime': 1702045800000, 'openSource': 'official', 'peRatio': 74.05, 'previousClose': 259.47, 'previousVolume': 1406049, 'primaryExchange': 'NASDAQ', 'symbol': 'CDNS', 'volume': 1049287, 'week52High': 279.33, 'week52Low': 154.88, 'ytdChange': 0.6169965936254984, 'isUSMarketOpen': False}\n",
      "{'avgTotalVolume': 757750, 'calculationPrice': 'close', 'change': 0.61, 'changePercent': 0.00287, 'close': 213.19, 'closeSource': 'official', 'closeTime': 1702069200261, 'companyName': 'CDW Corp', 'currency': 'USD', 'delayedPrice': 213.19, 'delayedPriceTime': 1702069190720, 'extendedChange': 0.06, 'extendedChangePercent': 0.00028, 'extendedPrice': 213.25, 'extendedPriceTime': 1702073603359, 'high': 213.62, 'highSource': '15 minute delayed price', 'highTime': 1702069199971, 'iexAskPrice': 0, 'iexAskSize': 0, 'iexBidPrice': 0, 'iexBidSize': 0, 'iexClose': 213.12, 'iexCloseTime': 1702069196929, 'iexLastUpdated': 1702069196929, 'iexMarketPercent': 0.0339927847780535, 'iexOpen': 211.65, 'iexOpenTime': 1702045934334, 'iexRealtimePrice': 213.12, 'iexRealtimeSize': 100, 'iexVolume': 16904, 'lastTradeTime': 1702069199971, 'latestPrice': 213.19, 'latestSource': 'Close', 'latestTime': 'December 8, 2023', 'latestUpdate': 1702069200261, 'latestVolume': 497282, 'low': 210.06, 'lowSource': '15 minute delayed price', 'lowTime': 1702045833005, 'marketCap': 28559011067, 'oddLotDelayedPrice': 213.2, 'oddLotDelayedPriceTime': 1702069190720, 'open': 211.63, 'openTime': 1702045800000, 'openSource': 'official', 'peRatio': 26.62, 'previousClose': 212.58, 'previousVolume': 807083, 'primaryExchange': 'NASDAQ', 'symbol': 'CDW', 'volume': 497282, 'week52High': 218.56, 'week52Low': 157.72, 'ytdChange': 0.218935241230893, 'isUSMarketOpen': False}\n"
     ]
    },
    {
     "name": "stdout",
     "output_type": "stream",
     "text": [
      "{'avgTotalVolume': 925511, 'calculationPrice': 'close', 'change': -0.36, 'changePercent': -0.00254, 'close': 141.35, 'closeSource': 'official', 'closeTime': 1702069201995, 'companyName': 'Celanese Corp - Series A', 'currency': 'USD', 'delayedPrice': 141.37, 'delayedPriceTime': 1702069183634, 'extendedChange': 0, 'extendedChangePercent': 0, 'extendedPrice': 141.35, 'extendedPriceTime': 1702080000001, 'high': 143.47, 'highSource': '15 minute delayed price', 'highTime': 1702069199979, 'iexAskPrice': 0, 'iexAskSize': 0, 'iexBidPrice': 0, 'iexBidSize': 0, 'iexClose': 141.33, 'iexCloseTime': 1702069199143, 'iexLastUpdated': 1702069199143, 'iexMarketPercent': 0.09778650634778487, 'iexOpen': 141.715, 'iexOpenTime': 1702045834620, 'iexRealtimePrice': 141.33, 'iexRealtimeSize': 10, 'iexVolume': 59401, 'lastTradeTime': 1702069199955, 'latestPrice': 141.35, 'latestSource': 'Close', 'latestTime': 'December 8, 2023', 'latestUpdate': 1702069201995, 'latestVolume': 607456, 'low': 140.91, 'lowSource': '15 minute delayed price', 'lowTime': 1702052411923, 'marketCap': 15386677855, 'oddLotDelayedPrice': 141.34, 'oddLotDelayedPriceTime': 1702069189359, 'open': 141.96, 'openTime': 1702045800000, 'openSource': 'official', 'peRatio': 7.62, 'previousClose': 141.71, 'previousVolume': 516251, 'primaryExchange': 'NEW YORK STOCK EXCHANGE INC.', 'symbol': 'CE', 'volume': 607456, 'week52High': 143.47, 'week52Low': 95.35, 'ytdChange': 0.41743829600600413, 'isUSMarketOpen': False}\n",
      "{'avgTotalVolume': 0, 'calculationPrice': 'close', 'change': -0.05, 'changePercent': -0.00053, 'close': None, 'closeSource': 'official', 'closeTime': None, 'companyName': 'Cerner Corp.', 'currency': 'USD', 'delayedPrice': None, 'delayedPriceTime': None, 'extendedChange': 0.03, 'extendedChangePercent': 0.00032, 'extendedPrice': 94.95, 'extendedPriceTime': 1654644927281, 'high': 94.92, 'highSource': 'Close', 'highTime': 1654632001181, 'iexAskPrice': None, 'iexAskSize': None, 'iexBidPrice': None, 'iexBidSize': None, 'iexClose': 94.95, 'iexCloseTime': 1654631999703, 'iexLastUpdated': None, 'iexMarketPercent': None, 'iexOpen': None, 'iexOpenTime': None, 'iexRealtimePrice': None, 'iexRealtimeSize': None, 'iexVolume': None, 'lastTradeTime': 1654632024259, 'latestPrice': 94.92, 'latestSource': 'Close', 'latestTime': 'June 7, 2022', 'latestUpdate': 1654632001181, 'latestVolume': 0, 'low': 94.92, 'lowSource': 'Close', 'lowTime': 1654632001181, 'marketCap': 27915791082, 'oddLotDelayedPrice': 94.95, 'oddLotDelayedPriceTime': 1654631998507, 'open': None, 'openTime': None, 'openSource': 'official', 'peRatio': 47.94, 'previousClose': 94.97, 'previousVolume': 6059358, 'primaryExchange': 'NASDAQ', 'symbol': 'CERN', 'volume': 0, 'week52High': 94.92, 'week52Low': 0, 'ytdChange': -0.00053, 'isUSMarketOpen': False}\n",
      "{'avgTotalVolume': 2503110, 'calculationPrice': 'close', 'change': -0.97, 'changePercent': -0.01251, 'close': 76.56, 'closeSource': 'official', 'closeTime': 1702069201931, 'companyName': 'CF Industries Holdings Inc', 'currency': 'USD', 'delayedPrice': 76.555, 'delayedPriceTime': 1702069165351, 'extendedChange': 0.24, 'extendedChangePercent': 0.00313, 'extendedPrice': 76.8, 'extendedPriceTime': 1702081873557, 'high': 78.27, 'highSource': '15 minute delayed price', 'highTime': 1702069199988, 'iexAskPrice': 0, 'iexAskSize': 0, 'iexBidPrice': 0, 'iexBidSize': 0, 'iexClose': 76.56, 'iexCloseTime': 1702069197697, 'iexLastUpdated': 1702069197697, 'iexMarketPercent': 0.03152332280079195, 'iexOpen': 77.73, 'iexOpenTime': 1702045851326, 'iexRealtimePrice': 76.56, 'iexRealtimeSize': 11, 'iexVolume': 56427, 'lastTradeTime': 1702069198876, 'latestPrice': 76.56, 'latestSource': 'Close', 'latestTime': 'December 8, 2023', 'latestUpdate': 1702069201931, 'latestVolume': 1790008, 'low': 75.72, 'lowSource': '15 minute delayed price', 'lowTime': 1702058923974, 'marketCap': 14627285717, 'oddLotDelayedPrice': 76.565, 'oddLotDelayedPriceTime': 1702069190737, 'open': 77.56, 'openTime': 1702045800000, 'openSource': 'official', 'peRatio': 7.09, 'previousClose': 77.53, 'previousVolume': 3275627, 'primaryExchange': 'NEW YORK STOCK EXCHANGE INC.', 'symbol': 'CF', 'volume': 1790008, 'week52High': 99.06, 'week52Low': 59.48, 'ytdChange': -0.0835664531202823, 'isUSMarketOpen': False}\n",
      "{'avgTotalVolume': 5153113, 'calculationPrice': 'close', 'change': 0.45, 'changePercent': 0.01543, 'close': 29.61, 'closeSource': 'official', 'closeTime': 1702069201973, 'companyName': 'Citizens Financial Group Inc', 'currency': 'USD', 'delayedPrice': 29.63, 'delayedPriceTime': 1702069186008, 'extendedChange': 0.15, 'extendedChangePercent': 0.00507, 'extendedPrice': 29.76, 'extendedPriceTime': 1702083520233, 'high': 29.895, 'highSource': '15 minute delayed price', 'highTime': 1702069200007, 'iexAskPrice': 0, 'iexAskSize': 0, 'iexBidPrice': 0, 'iexBidSize': 0, 'iexClose': 29.62, 'iexCloseTime': 1702069197391, 'iexLastUpdated': 1702069197391, 'iexMarketPercent': 0.027579194563805337, 'iexOpen': 29.32, 'iexOpenTime': 1702045836098, 'iexRealtimePrice': 29.62, 'iexRealtimeSize': 400, 'iexVolume': 110394, 'lastTradeTime': 1702069199983, 'latestPrice': 29.61, 'latestSource': 'Close', 'latestTime': 'December 8, 2023', 'latestUpdate': 1702069201973, 'latestVolume': 4002800, 'low': 29.12, 'lowSource': '15 minute delayed price', 'lowTime': 1702045925652, 'marketCap': 13804862053, 'oddLotDelayedPrice': 29.63, 'oddLotDelayedPriceTime': 1702069190500, 'open': 29.33, 'openTime': 1702045800000, 'openSource': 'official', 'peRatio': 7.33, 'previousClose': 29.16, 'previousVolume': 3254849, 'primaryExchange': 'NEW YORK STOCK EXCHANGE INC.', 'symbol': 'CFG', 'volume': 4002800, 'week52High': 42.81, 'week52Low': 22.36, 'ytdChange': -0.20151576624381007, 'isUSMarketOpen': False}\n",
      "{'avgTotalVolume': 1593420, 'calculationPrice': 'close', 'change': -1.21, 'changePercent': -0.01285, 'close': 92.94, 'closeSource': 'official', 'closeTime': 1702069201952, 'companyName': 'Church & Dwight Co., Inc.', 'currency': 'USD', 'delayedPrice': 92.99, 'delayedPriceTime': 1702069168565, 'extendedChange': 0, 'extendedChangePercent': 0, 'extendedPrice': 92.94, 'extendedPriceTime': 1702080000001, 'high': 93.91, 'highSource': '15 minute delayed price', 'highTime': 1702069199684, 'iexAskPrice': 0, 'iexAskSize': 0, 'iexBidPrice': 0, 'iexBidSize': 0, 'iexClose': 92.975, 'iexCloseTime': 1702069196019, 'iexLastUpdated': 1702069196019, 'iexMarketPercent': 0.05530238136028782, 'iexOpen': 93.655, 'iexOpenTime': 1702045802627, 'iexRealtimePrice': 92.975, 'iexRealtimeSize': 100, 'iexVolume': 53262, 'lastTradeTime': 1702069197771, 'latestPrice': 92.94, 'latestSource': 'Close', 'latestTime': 'December 8, 2023', 'latestUpdate': 1702069201952, 'latestVolume': 963105, 'low': 92.56, 'lowSource': '15 minute delayed price', 'lowTime': 1702054763079, 'marketCap': 22898718172, 'oddLotDelayedPrice': 93.02, 'oddLotDelayedPriceTime': 1702069189359, 'open': 93.91, 'openTime': 1702045800000, 'openSource': 'official', 'peRatio': 52.51, 'previousClose': 94.15, 'previousVolume': 915118, 'primaryExchange': 'NEW YORK STOCK EXCHANGE INC.', 'symbol': 'CHD', 'volume': 963105, 'week52High': 99.93, 'week52Low': 77.7, 'ytdChange': 0.16915935312764832, 'isUSMarketOpen': False}\n",
      "{'avgTotalVolume': 1214386, 'calculationPrice': 'close', 'change': -1.52, 'changePercent': -0.01767, 'close': 84.5, 'closeSource': 'official', 'closeTime': 1702069200122, 'companyName': 'C.H. Robinson Worldwide, Inc.', 'currency': 'USD', 'delayedPrice': 84.5, 'delayedPriceTime': 1702069183866, 'extendedChange': -0.01, 'extendedChangePercent': -0.00012, 'extendedPrice': 84.49, 'extendedPriceTime': 1702072856636, 'high': 86.235, 'highSource': '15 minute delayed price', 'highTime': 1702069199433, 'iexAskPrice': 0, 'iexAskSize': 0, 'iexBidPrice': 0, 'iexBidSize': 0, 'iexClose': 84.52, 'iexCloseTime': 1702069198009, 'iexLastUpdated': 1702069198009, 'iexMarketPercent': 0.024767660077160032, 'iexOpen': 86.155, 'iexOpenTime': 1702046114782, 'iexRealtimePrice': 84.52, 'iexRealtimeSize': 43, 'iexVolume': 26501, 'lastTradeTime': 1702069198145, 'latestPrice': 84.5, 'latestSource': 'Close', 'latestTime': 'December 8, 2023', 'latestUpdate': 1702069200122, 'latestVolume': 1069984, 'low': 84.46, 'lowSource': '15 minute delayed price', 'lowTime': 1702069125042, 'marketCap': 9857012627, 'oddLotDelayedPrice': 84.51, 'oddLotDelayedPriceTime': 1702069183866, 'open': 86.08, 'openTime': 1702045800000, 'openSource': 'official', 'peRatio': 25.92, 'previousClose': 86.02, 'previousVolume': 781553, 'primaryExchange': 'NASDAQ', 'symbol': 'CHRW', 'volume': 1069984, 'week52High': 103.08, 'week52Low': 77.52, 'ytdChange': -0.03291752180547884, 'isUSMarketOpen': False}\n"
     ]
    },
    {
     "name": "stdout",
     "output_type": "stream",
     "text": [
      "{'avgTotalVolume': 1013811, 'calculationPrice': 'close', 'change': -1.11, 'changePercent': -0.00301, 'close': 367.55, 'closeSource': 'official', 'closeTime': 1702069200266, 'companyName': 'Charter Communications Inc. - Class A', 'currency': 'USD', 'delayedPrice': 367.41, 'delayedPriceTime': 1702069199905, 'extendedChange': 0, 'extendedChangePercent': 0, 'extendedPrice': 367.55, 'extendedPriceTime': 1702072906127, 'high': 371.15, 'highSource': 'IEX real time price', 'highTime': 1702049120871, 'iexAskPrice': 0, 'iexAskSize': 0, 'iexBidPrice': 0, 'iexBidSize': 0, 'iexClose': 367.41, 'iexCloseTime': 1702069197602, 'iexLastUpdated': 1702069197602, 'iexMarketPercent': 0.05106775954275632, 'iexOpen': 365.57, 'iexOpenTime': 1702045902857, 'iexRealtimePrice': 367.41, 'iexRealtimeSize': 97, 'iexVolume': 44460, 'lastTradeTime': 1702069199905, 'latestPrice': 367.55, 'latestSource': 'Close', 'latestTime': 'December 8, 2023', 'latestUpdate': 1702069200266, 'latestVolume': 870608, 'low': 363.47, 'lowSource': '15 minute delayed price', 'lowTime': 1702055121870, 'marketCap': 54368100752, 'oddLotDelayedPrice': 367.545, 'oddLotDelayedPriceTime': 1702069183820, 'open': 364.05, 'openTime': 1702045800000, 'openSource': 'official', 'peRatio': 12, 'previousClose': 368.66, 'previousVolume': 1136005, 'primaryExchange': 'NASDAQ', 'symbol': 'CHTR', 'volume': 870608, 'week52High': 458.3, 'week52Low': 302.21, 'ytdChange': 0.08416192568563848, 'isUSMarketOpen': False}\n",
      "{'avgTotalVolume': 2392375, 'calculationPrice': 'close', 'change': 0.86, 'changePercent': 0.00333, 'close': 258.8, 'closeSource': 'official', 'closeTime': 1702069202081, 'companyName': 'Cigna Group (The)', 'currency': 'USD', 'delayedPrice': 258.92, 'delayedPriceTime': 1702069185065, 'extendedChange': 0.01, 'extendedChangePercent': 4e-05, 'extendedPrice': 258.81, 'extendedPriceTime': 1702083504608, 'high': 259.7, 'highSource': '15 minute delayed price', 'highTime': 1702069199997, 'iexAskPrice': 0, 'iexAskSize': 0, 'iexBidPrice': 0, 'iexBidSize': 0, 'iexClose': 258.76, 'iexCloseTime': 1702069198064, 'iexLastUpdated': 1702069198064, 'iexMarketPercent': 0.03151513539050293, 'iexOpen': 259.35, 'iexOpenTime': 1702045801427, 'iexRealtimePrice': 258.76, 'iexRealtimeSize': 3, 'iexVolume': 87655, 'lastTradeTime': 1702069199997, 'latestPrice': 258.8, 'latestSource': 'Close', 'latestTime': 'December 8, 2023', 'latestUpdate': 1702069202081, 'latestVolume': 2781362, 'low': 253.95, 'lowSource': '15 minute delayed price', 'lowTime': 1702055362012, 'marketCap': 75730047201, 'oddLotDelayedPrice': 258.84, 'oddLotDelayedPriceTime': 1702069183829, 'open': 259.47, 'openTime': 1702045800777, 'openSource': 'official', 'peRatio': 14.61, 'previousClose': 257.94, 'previousVolume': 2919733, 'primaryExchange': 'NEW YORK STOCK EXCHANGE INC.', 'symbol': 'CI', 'volume': 2781362, 'week52High': 334.01, 'week52Low': 237.2, 'ytdChange': -0.20396775321126773, 'isUSMarketOpen': False}\n",
      "{'avgTotalVolume': 504242, 'calculationPrice': 'close', 'change': 0.19, 'changePercent': 0.00185, 'close': 102.8, 'closeSource': 'official', 'closeTime': 1702069200233, 'companyName': 'Cincinnati Financial Corp.', 'currency': 'USD', 'delayedPrice': 102.83, 'delayedPriceTime': 1702069164866, 'extendedChange': 0, 'extendedChangePercent': 0, 'extendedPrice': 102.8, 'extendedPriceTime': 1702072905388, 'high': 103.11, 'highSource': '15 minute delayed price', 'highTime': 1702069199768, 'iexAskPrice': 0, 'iexAskSize': 0, 'iexBidPrice': 0, 'iexBidSize': 0, 'iexClose': 102.79, 'iexCloseTime': 1702069197008, 'iexLastUpdated': 1702069197008, 'iexMarketPercent': 0.024897384802286704, 'iexOpen': 103.06, 'iexOpenTime': 1702045801248, 'iexRealtimePrice': 102.79, 'iexRealtimeSize': 36, 'iexVolume': 11907, 'lastTradeTime': 1702069199603, 'latestPrice': 102.8, 'latestSource': 'Close', 'latestTime': 'December 8, 2023', 'latestUpdate': 1702069200233, 'latestVolume': 478243, 'low': 102.099, 'lowSource': '15 minute delayed price', 'lowTime': 1702052631906, 'marketCap': 16130113616, 'oddLotDelayedPrice': 102.8, 'oddLotDelayedPriceTime': 1702069191022, 'open': 102.77, 'openTime': 1702045800000, 'openSource': 'official', 'peRatio': 9.69, 'previousClose': 102.61, 'previousVolume': 657555, 'primaryExchange': 'NASDAQ', 'symbol': 'CINF', 'volume': 478243, 'week52High': 126.05, 'week52Low': 92.77, 'ytdChange': 0.04067666547878055, 'isUSMarketOpen': False}\n",
      "{'avgTotalVolume': 3622284, 'calculationPrice': 'close', 'change': -0.45, 'changePercent': -0.0058, 'close': 77.17, 'closeSource': 'official', 'closeTime': 1702069202007, 'companyName': 'Colgate-Palmolive Co.', 'currency': 'USD', 'delayedPrice': 77.155, 'delayedPriceTime': 1702069185054, 'extendedChange': 1.18, 'extendedChangePercent': 0.01529, 'extendedPrice': 78.35, 'extendedPriceTime': 1702082743714, 'high': 77.56, 'highSource': '15 minute delayed price', 'highTime': 1702069199988, 'iexAskPrice': 0, 'iexAskSize': 0, 'iexBidPrice': 0, 'iexBidSize': 0, 'iexClose': 77.14, 'iexCloseTime': 1702069197021, 'iexLastUpdated': 1702069197021, 'iexMarketPercent': 0.025749454761976997, 'iexOpen': 77.51, 'iexOpenTime': 1702045830045, 'iexRealtimePrice': 77.14, 'iexRealtimeSize': 200, 'iexVolume': 111182, 'lastTradeTime': 1702069199007, 'latestPrice': 77.17, 'latestSource': 'Close', 'latestTime': 'December 8, 2023', 'latestUpdate': 1702069202007, 'latestVolume': 4317839, 'low': 76.685, 'lowSource': 'IEX real time price', 'lowTime': 1702054747235, 'marketCap': 63539637227, 'oddLotDelayedPrice': 77.25, 'oddLotDelayedPriceTime': 1702069168557, 'open': 77.56, 'openTime': 1702045800000, 'openSource': 'official', 'peRatio': 40.4, 'previousClose': 77.62, 'previousVolume': 3107413, 'primaryExchange': 'NEW YORK STOCK EXCHANGE INC.', 'symbol': 'CL', 'volume': 4317839, 'week52High': 81.04, 'week52Low': 67.18, 'ytdChange': 0.004815235786351818, 'isUSMarketOpen': False}\n",
      "{'avgTotalVolume': 1383425, 'calculationPrice': 'close', 'change': -2.1, 'changePercent': -0.01462, 'close': 141.55, 'closeSource': 'official', 'closeTime': 1702069202012, 'companyName': 'Clorox Co.', 'currency': 'USD', 'delayedPrice': 141.69, 'delayedPriceTime': 1702069178447, 'extendedChange': 0.14, 'extendedChangePercent': 0.00099, 'extendedPrice': 141.69, 'extendedPriceTime': 1702082758493, 'high': 143.45, 'highSource': '15 minute delayed price', 'highTime': 1702069199980, 'iexAskPrice': 0, 'iexAskSize': 0, 'iexBidPrice': 0, 'iexBidSize': 0, 'iexClose': 141.57, 'iexCloseTime': 1702069196868, 'iexLastUpdated': 1702069196868, 'iexMarketPercent': 0.04819020207957517, 'iexOpen': 143.43, 'iexOpenTime': 1702045801055, 'iexRealtimePrice': 141.57, 'iexRealtimeSize': 1, 'iexVolume': 59439, 'lastTradeTime': 1702069199980, 'latestPrice': 141.55, 'latestSource': 'Close', 'latestTime': 'December 8, 2023', 'latestUpdate': 1702069202012, 'latestVolume': 1233425, 'low': 141.54, 'lowSource': '15 minute delayed price', 'lowTime': 1702069197768, 'marketCap': 17560565322, 'oddLotDelayedPrice': 141.7, 'oddLotDelayedPriceTime': 1702069178454, 'open': 143.45, 'openTime': 1702045800000, 'openSource': 'official', 'peRatio': 204.7, 'previousClose': 143.65, 'previousVolume': 916391, 'primaryExchange': 'NEW YORK STOCK EXCHANGE INC.', 'symbol': 'CLX', 'volume': 1233425, 'week52High': 175.16, 'week52Low': 114.69, 'ytdChange': 0.04306876780915222, 'isUSMarketOpen': False}\n",
      "{'avgTotalVolume': 1838686, 'calculationPrice': 'close', 'change': 0.73, 'changePercent': 0.01483, 'close': 49.97, 'closeSource': 'official', 'closeTime': 1702069202017, 'companyName': 'Comerica, Inc.', 'currency': 'USD', 'delayedPrice': 49.965, 'delayedPriceTime': 1702069183835, 'extendedChange': 0.06, 'extendedChangePercent': 0.0012, 'extendedPrice': 50.03, 'extendedPriceTime': 1702081725206, 'high': 50.53, 'highSource': '15 minute delayed price', 'highTime': 1702069199979, 'iexAskPrice': 0, 'iexAskSize': 0, 'iexBidPrice': 0, 'iexBidSize': 0, 'iexClose': 49.97, 'iexCloseTime': 1702069196981, 'iexLastUpdated': 1702069196981, 'iexMarketPercent': 0.02821952498222945, 'iexOpen': 49.31, 'iexOpenTime': 1702045855877, 'iexRealtimePrice': 49.97, 'iexRealtimeSize': 100, 'iexVolume': 52642, 'lastTradeTime': 1702069198532, 'latestPrice': 49.97, 'latestSource': 'Close', 'latestTime': 'December 8, 2023', 'latestUpdate': 1702069202017, 'latestVolume': 1865446, 'low': 49.02, 'lowSource': '15 minute delayed price', 'lowTime': 1702045942606, 'marketCap': 6589684416, 'oddLotDelayedPrice': 49.965, 'oddLotDelayedPriceTime': 1702069183830, 'open': 49.19, 'openTime': 1702045800000, 'openSource': 'official', 'peRatio': 5.68, 'previousClose': 49.24, 'previousVolume': 2933421, 'primaryExchange': 'NEW YORK STOCK EXCHANGE INC.', 'symbol': 'CMA', 'volume': 1865446, 'week52High': 73.61, 'week52Low': 27.49, 'ytdChange': -0.2112761856496449, 'isUSMarketOpen': False}\n"
     ]
    },
    {
     "name": "stdout",
     "output_type": "stream",
     "text": [
      "{'avgTotalVolume': 17605046, 'calculationPrice': 'close', 'change': -0.07, 'changePercent': -0.00166, 'close': 42.1, 'closeSource': 'official', 'closeTime': 1702069200173, 'companyName': 'Comcast Corp - Class A', 'currency': 'USD', 'delayedPrice': 42.09, 'delayedPriceTime': 1702069168540, 'extendedChange': 0, 'extendedChangePercent': 0, 'extendedPrice': 42.1, 'extendedPriceTime': 1702082082443, 'high': 42.24, 'highSource': '15 minute delayed price', 'highTime': 1702069200000, 'iexAskPrice': 0, 'iexAskSize': 0, 'iexBidPrice': 0, 'iexBidSize': 0, 'iexClose': 42.08, 'iexCloseTime': 1702069199054, 'iexLastUpdated': 1702069199054, 'iexMarketPercent': 0.024008670359612343, 'iexOpen': 41.72, 'iexOpenTime': 1702045800915, 'iexRealtimePrice': 42.08, 'iexRealtimeSize': 2, 'iexVolume': 482989, 'lastTradeTime': 1702069199079, 'latestPrice': 42.1, 'latestSource': 'Close', 'latestTime': 'December 8, 2023', 'latestUpdate': 1702069200173, 'latestVolume': 20117274, 'low': 41.66, 'lowSource': '15 minute delayed price', 'lowTime': 1702046398989, 'marketCap': 169058249245, 'oddLotDelayedPrice': 42.075, 'oddLotDelayedPriceTime': 1702069180076, 'open': 41.7, 'openTime': 1702045800000, 'openSource': 'official', 'peRatio': 11.69, 'previousClose': 42.17, 'previousVolume': 19522399, 'primaryExchange': 'NASDAQ', 'symbol': 'CMCSA', 'volume': 20117274, 'week52High': 46.84, 'week52Low': 32.6, 'ytdChange': 0.24779556684750248, 'isUSMarketOpen': False}\n",
      "{'avgTotalVolume': 1564951, 'calculationPrice': 'close', 'change': 0.89, 'changePercent': 0.00422, 'close': 211.62, 'closeSource': 'official', 'closeTime': 1702069200138, 'companyName': 'CME Group Inc - Class A', 'currency': 'USD', 'delayedPrice': 211.6, 'delayedPriceTime': 1702069185073, 'extendedChange': 0.32, 'extendedChangePercent': 0.00151, 'extendedPrice': 211.94, 'extendedPriceTime': 1702081163169, 'high': 212.39, 'highSource': '15 minute delayed price', 'highTime': 1702069199952, 'iexAskPrice': 0, 'iexAskSize': 0, 'iexBidPrice': 0, 'iexBidSize': 0, 'iexClose': 211.595, 'iexCloseTime': 1702069199951, 'iexLastUpdated': 1702069355326, 'iexMarketPercent': 0.03886284663734106, 'iexOpen': 210.93, 'iexOpenTime': 1702045811283, 'iexRealtimePrice': 213.74, 'iexRealtimeSize': 1, 'iexVolume': 96900, 'lastTradeTime': 1702069199952, 'latestPrice': 211.62, 'latestSource': 'Close', 'latestTime': 'December 8, 2023', 'latestUpdate': 1702069200138, 'latestVolume': 2493384, 'low': 210.34, 'lowSource': 'IEX real time price', 'lowTime': 1702046320011, 'marketCap': 76181049518, 'oddLotDelayedPrice': 211.47, 'oddLotDelayedPriceTime': 1702069183818, 'open': 210.65, 'openTime': 1702045800000, 'openSource': 'official', 'peRatio': 25.25, 'previousClose': 210.73, 'previousVolume': 2857995, 'primaryExchange': 'NASDAQ', 'symbol': 'CME', 'volume': 2493384, 'week52High': 222.65, 'week52Low': 159.15, 'ytdChange': 0.30089312552187203, 'isUSMarketOpen': False}\n",
      "{'avgTotalVolume': 185847, 'calculationPrice': 'close', 'change': 16.7, 'changePercent': 0.0075, 'close': 2242.95, 'closeSource': 'official', 'closeTime': 1702069222276, 'companyName': 'Chipotle Mexican Grill', 'currency': 'USD', 'delayedPrice': 2242.63, 'delayedPriceTime': 1702069160523, 'extendedChange': 1.06, 'extendedChangePercent': 0.00047, 'extendedPrice': 2244.01, 'extendedPriceTime': 1702083460340, 'high': 2244.71, 'highSource': '15 minute delayed price', 'highTime': 1702069199998, 'iexAskPrice': 0, 'iexAskSize': 0, 'iexBidPrice': 0, 'iexBidSize': 0, 'iexClose': 2243.29, 'iexCloseTime': 1702069181831, 'iexLastUpdated': 1702069181831, 'iexMarketPercent': 0.11235583835541008, 'iexOpen': 2219.005, 'iexOpenTime': 1702045976853, 'iexRealtimePrice': 2243.29, 'iexRealtimeSize': 6, 'iexVolume': 18364, 'lastTradeTime': 1702069199997, 'latestPrice': 2242.95, 'latestSource': 'Close', 'latestTime': 'December 8, 2023', 'latestUpdate': 1702069222276, 'latestVolume': 163445, 'low': 2219.005, 'lowSource': 'IEX real time price', 'lowTime': 1702045976853, 'marketCap': 61557000147, 'oddLotDelayedPrice': 2242.48, 'oddLotDelayedPriceTime': 1702069185055, 'open': 2224.17, 'openTime': 1702045800000, 'openSource': 'official', 'peRatio': 53.24, 'previousClose': 2226.25, 'previousVolume': 127634, 'primaryExchange': 'NEW YORK STOCK EXCHANGE INC.', 'symbol': 'CMG', 'volume': 163445, 'week52High': 2248.39, 'week52Low': 1344.05, 'ytdChange': 0.612016068584278, 'isUSMarketOpen': False}\n",
      "{'avgTotalVolume': 758977, 'calculationPrice': 'close', 'change': -0.15, 'changePercent': -0.00065, 'close': 230.58, 'closeSource': 'official', 'closeTime': 1702069202026, 'companyName': 'Cummins Inc.', 'currency': 'USD', 'delayedPrice': 230.61, 'delayedPriceTime': 1702069184786, 'extendedChange': 0, 'extendedChangePercent': 0, 'extendedPrice': 230.58, 'extendedPriceTime': 1702080000001, 'high': 233.32, 'highSource': '15 minute delayed price', 'highTime': 1702069199992, 'iexAskPrice': 0, 'iexAskSize': 0, 'iexBidPrice': 0, 'iexBidSize': 0, 'iexClose': 230.565, 'iexCloseTime': 1702069197799, 'iexLastUpdated': 1702069999083, 'iexMarketPercent': 0.04423870363357318, 'iexOpen': 231.165, 'iexOpenTime': 1702045922869, 'iexRealtimePrice': 228.26, 'iexRealtimeSize': 1, 'iexVolume': 22195, 'lastTradeTime': 1702069199992, 'latestPrice': 230.58, 'latestSource': 'Close', 'latestTime': 'December 8, 2023', 'latestUpdate': 1702069202026, 'latestVolume': 501710, 'low': 229.8, 'lowSource': '15 minute delayed price', 'lowTime': 1702055738253, 'marketCap': 32683530511, 'oddLotDelayedPrice': 230.58, 'oddLotDelayedPriceTime': 1702069180016, 'open': 231.31, 'openTime': 1702045800000, 'openSource': 'official', 'peRatio': 11.75, 'previousClose': 230.73, 'previousVolume': 1038601, 'primaryExchange': 'NEW YORK STOCK EXCHANGE INC.', 'symbol': 'CMI', 'volume': 501710, 'week52High': 261.4, 'week52Low': 200.21, 'ytdChange': -0.0209921350962334, 'isUSMarketOpen': False}\n"
     ]
    }
   ],
   "source": [
    "final_dataframe=pd.DataFrame(columns= my_columns)\n",
    "for stock in stocks['Ticker'][:100]:    #\n",
    "    api_url = f'https://cloud.iexapis.com/stable/stock/{stock}/quote/?token={IEX_CLOUD_API_TOKEN}'\n",
    "    data = requests.get(api_url).json()\n",
    "    print(data)\n",
    "    final_dataframe= final_dataframe._append(pd.Series(\n",
    "    [\n",
    "        stock,\n",
    "        data['latestPrice'],\n",
    "        data['marketCap'],\n",
    "        'N/A'\n",
    "        \n",
    "    ],\n",
    "    index=my_columns),\n",
    "        ignore_index=True\n",
    "                           )\n",
    "    \n"
   ]
  },
  {
   "cell_type": "code",
   "execution_count": 48,
   "metadata": {},
   "outputs": [
    {
     "data": {
      "text/html": [
       "<div>\n",
       "<style scoped>\n",
       "    .dataframe tbody tr th:only-of-type {\n",
       "        vertical-align: middle;\n",
       "    }\n",
       "\n",
       "    .dataframe tbody tr th {\n",
       "        vertical-align: top;\n",
       "    }\n",
       "\n",
       "    .dataframe thead th {\n",
       "        text-align: right;\n",
       "    }\n",
       "</style>\n",
       "<table border=\"1\" class=\"dataframe\">\n",
       "  <thead>\n",
       "    <tr style=\"text-align: right;\">\n",
       "      <th></th>\n",
       "      <th>Ticker</th>\n",
       "      <th>Stock Price</th>\n",
       "      <th>Market Capitalization</th>\n",
       "      <th>Number of Shares to Buy</th>\n",
       "    </tr>\n",
       "  </thead>\n",
       "  <tbody>\n",
       "    <tr>\n",
       "      <th>0</th>\n",
       "      <td>A</td>\n",
       "      <td>127.20</td>\n",
       "      <td>37217101126</td>\n",
       "      <td>N/A</td>\n",
       "    </tr>\n",
       "    <tr>\n",
       "      <th>1</th>\n",
       "      <td>AAL</td>\n",
       "      <td>13.76</td>\n",
       "      <td>8992717968</td>\n",
       "      <td>N/A</td>\n",
       "    </tr>\n",
       "    <tr>\n",
       "      <th>2</th>\n",
       "      <td>AAP</td>\n",
       "      <td>56.27</td>\n",
       "      <td>3348176977</td>\n",
       "      <td>N/A</td>\n",
       "    </tr>\n",
       "    <tr>\n",
       "      <th>3</th>\n",
       "      <td>AAPL</td>\n",
       "      <td>195.71</td>\n",
       "      <td>3043829093920</td>\n",
       "      <td>N/A</td>\n",
       "    </tr>\n",
       "    <tr>\n",
       "      <th>4</th>\n",
       "      <td>ABBV</td>\n",
       "      <td>149.28</td>\n",
       "      <td>263559426207</td>\n",
       "      <td>N/A</td>\n",
       "    </tr>\n",
       "    <tr>\n",
       "      <th>...</th>\n",
       "      <td>...</td>\n",
       "      <td>...</td>\n",
       "      <td>...</td>\n",
       "      <td>...</td>\n",
       "    </tr>\n",
       "    <tr>\n",
       "      <th>95</th>\n",
       "      <td>CMA</td>\n",
       "      <td>49.97</td>\n",
       "      <td>6589684416</td>\n",
       "      <td>N/A</td>\n",
       "    </tr>\n",
       "    <tr>\n",
       "      <th>96</th>\n",
       "      <td>CMCSA</td>\n",
       "      <td>42.10</td>\n",
       "      <td>169058249245</td>\n",
       "      <td>N/A</td>\n",
       "    </tr>\n",
       "    <tr>\n",
       "      <th>97</th>\n",
       "      <td>CME</td>\n",
       "      <td>211.62</td>\n",
       "      <td>76181049518</td>\n",
       "      <td>N/A</td>\n",
       "    </tr>\n",
       "    <tr>\n",
       "      <th>98</th>\n",
       "      <td>CMG</td>\n",
       "      <td>2242.95</td>\n",
       "      <td>61557000147</td>\n",
       "      <td>N/A</td>\n",
       "    </tr>\n",
       "    <tr>\n",
       "      <th>99</th>\n",
       "      <td>CMI</td>\n",
       "      <td>230.58</td>\n",
       "      <td>32683530511</td>\n",
       "      <td>N/A</td>\n",
       "    </tr>\n",
       "  </tbody>\n",
       "</table>\n",
       "<p>100 rows × 4 columns</p>\n",
       "</div>"
      ],
      "text/plain": [
       "   Ticker  Stock Price Market Capitalization Number of Shares to Buy\n",
       "0       A       127.20           37217101126                     N/A\n",
       "1     AAL        13.76            8992717968                     N/A\n",
       "2     AAP        56.27            3348176977                     N/A\n",
       "3    AAPL       195.71         3043829093920                     N/A\n",
       "4    ABBV       149.28          263559426207                     N/A\n",
       "..    ...          ...                   ...                     ...\n",
       "95    CMA        49.97            6589684416                     N/A\n",
       "96  CMCSA        42.10          169058249245                     N/A\n",
       "97    CME       211.62           76181049518                     N/A\n",
       "98    CMG      2242.95           61557000147                     N/A\n",
       "99    CMI       230.58           32683530511                     N/A\n",
       "\n",
       "[100 rows x 4 columns]"
      ]
     },
     "execution_count": 48,
     "metadata": {},
     "output_type": "execute_result"
    }
   ],
   "source": [
    "final_dataframe\n"
   ]
  },
  {
   "cell_type": "markdown",
   "metadata": {},
   "source": [
    "## Using Batch API Calls to Improve Performance\n",
    "\n",
    "Batch API calls are one of the easiest ways to improve the performance of your code.\n",
    "\n",
    "This is because HTTP requests are typically one of the slowest components of a script.\n",
    "\n",
    "Also, API providers will often give you discounted rates for using batch API calls since they are easier for the API provider to respond to.\n",
    "\n",
    "IEX Cloud limits their batch API calls to 100 tickers per request. Still, this reduces the number of API calls we'll make in this section from 500 to 5 - huge improvement! In this section, we'll split our list of stocks into groups of 100 and then make a batch API call for each group."
   ]
  },
  {
   "cell_type": "code",
   "execution_count": 59,
   "metadata": {},
   "outputs": [],
   "source": [
    "def chunks(lst, n):\n",
    "    for i in range(0,len(lst),n):\n",
    "        yield lst[i:i+n]"
   ]
  },
  {
   "cell_type": "code",
   "execution_count": 73,
   "metadata": {},
   "outputs": [
    {
     "data": {
      "text/html": [
       "<div>\n",
       "<style scoped>\n",
       "    .dataframe tbody tr th:only-of-type {\n",
       "        vertical-align: middle;\n",
       "    }\n",
       "\n",
       "    .dataframe tbody tr th {\n",
       "        vertical-align: top;\n",
       "    }\n",
       "\n",
       "    .dataframe thead th {\n",
       "        text-align: right;\n",
       "    }\n",
       "</style>\n",
       "<table border=\"1\" class=\"dataframe\">\n",
       "  <thead>\n",
       "    <tr style=\"text-align: right;\">\n",
       "      <th></th>\n",
       "      <th>Ticker</th>\n",
       "      <th>Stock Price</th>\n",
       "      <th>Market Capitalization</th>\n",
       "      <th>Number of Shares to Buy</th>\n",
       "    </tr>\n",
       "  </thead>\n",
       "  <tbody>\n",
       "    <tr>\n",
       "      <th>0</th>\n",
       "      <td>A</td>\n",
       "      <td>127.20</td>\n",
       "      <td>37217101126</td>\n",
       "      <td>N/A</td>\n",
       "    </tr>\n",
       "    <tr>\n",
       "      <th>1</th>\n",
       "      <td>AAL</td>\n",
       "      <td>13.76</td>\n",
       "      <td>8992717968</td>\n",
       "      <td>N/A</td>\n",
       "    </tr>\n",
       "    <tr>\n",
       "      <th>2</th>\n",
       "      <td>AAP</td>\n",
       "      <td>56.27</td>\n",
       "      <td>3348176977</td>\n",
       "      <td>N/A</td>\n",
       "    </tr>\n",
       "    <tr>\n",
       "      <th>3</th>\n",
       "      <td>AAPL</td>\n",
       "      <td>195.71</td>\n",
       "      <td>3043829093920</td>\n",
       "      <td>N/A</td>\n",
       "    </tr>\n",
       "    <tr>\n",
       "      <th>4</th>\n",
       "      <td>ABBV</td>\n",
       "      <td>149.28</td>\n",
       "      <td>263559426207</td>\n",
       "      <td>N/A</td>\n",
       "    </tr>\n",
       "    <tr>\n",
       "      <th>...</th>\n",
       "      <td>...</td>\n",
       "      <td>...</td>\n",
       "      <td>...</td>\n",
       "      <td>...</td>\n",
       "    </tr>\n",
       "    <tr>\n",
       "      <th>95</th>\n",
       "      <td>CMA</td>\n",
       "      <td>49.97</td>\n",
       "      <td>6589684416</td>\n",
       "      <td>N/A</td>\n",
       "    </tr>\n",
       "    <tr>\n",
       "      <th>96</th>\n",
       "      <td>CMCSA</td>\n",
       "      <td>42.10</td>\n",
       "      <td>169058249245</td>\n",
       "      <td>N/A</td>\n",
       "    </tr>\n",
       "    <tr>\n",
       "      <th>97</th>\n",
       "      <td>CME</td>\n",
       "      <td>211.62</td>\n",
       "      <td>76181049518</td>\n",
       "      <td>N/A</td>\n",
       "    </tr>\n",
       "    <tr>\n",
       "      <th>98</th>\n",
       "      <td>CMG</td>\n",
       "      <td>2242.95</td>\n",
       "      <td>61557000147</td>\n",
       "      <td>N/A</td>\n",
       "    </tr>\n",
       "    <tr>\n",
       "      <th>99</th>\n",
       "      <td>CMI</td>\n",
       "      <td>230.58</td>\n",
       "      <td>32683530511</td>\n",
       "      <td>N/A</td>\n",
       "    </tr>\n",
       "  </tbody>\n",
       "</table>\n",
       "<p>100 rows × 4 columns</p>\n",
       "</div>"
      ],
      "text/plain": [
       "   Ticker  Stock Price Market Capitalization Number of Shares to Buy\n",
       "0       A       127.20           37217101126                     N/A\n",
       "1     AAL        13.76            8992717968                     N/A\n",
       "2     AAP        56.27            3348176977                     N/A\n",
       "3    AAPL       195.71         3043829093920                     N/A\n",
       "4    ABBV       149.28          263559426207                     N/A\n",
       "..    ...          ...                   ...                     ...\n",
       "95    CMA        49.97            6589684416                     N/A\n",
       "96  CMCSA        42.10          169058249245                     N/A\n",
       "97    CME       211.62           76181049518                     N/A\n",
       "98    CMG      2242.95           61557000147                     N/A\n",
       "99    CMI       230.58           32683530511                     N/A\n",
       "\n",
       "[100 rows x 4 columns]"
      ]
     },
     "execution_count": 73,
     "metadata": {},
     "output_type": "execute_result"
    }
   ],
   "source": [
    "symbol_groups=list(chunks(stocks['Ticker'][:100],25))\n",
    "symbol_strings=[]\n",
    "for i in range (0, len(symbol_groups)):\n",
    "    symbol_strings.append(','.join(symbol_groups[i]))\n",
    "    #print(symbol_strings[i])\n",
    "final_dataframe=pd.DataFrame(columns= my_columns)\n",
    "for symbol_string in symbol_strings:    \n",
    "    batch_api_call_url=f'https://cloud.iexapis.com/stable/stock/market/batch?symbols={symbol_string}&types=quote&token={IEX_CLOUD_API_TOKEN}'\n",
    "    data=requests.get(batch_api_call_url).json()\n",
    "    for symbol in symbol_string.split(','):\n",
    "        final_dataframe= final_dataframe._append(pd.Series(\n",
    "        [\n",
    "            symbol,\n",
    "            data[symbol]['quote']['latestPrice'],\n",
    "            data[symbol]['quote']['marketCap'],\n",
    "            'N/A'\n",
    "        ], index= my_columns\n",
    "        ),ignore_index=True\n",
    "                                               )\n",
    "        \n",
    "final_dataframe\n",
    "        "
   ]
  },
  {
   "cell_type": "markdown",
   "metadata": {},
   "source": [
    "## Calculating the Number of Shares to Buy\n",
    "\n",
    "As you can see in the DataFrame above, we stil haven't calculated the number of shares of each stock to buy.\n",
    "\n",
    "We'll do that next."
   ]
  },
  {
   "cell_type": "code",
   "execution_count": 86,
   "metadata": {},
   "outputs": [
    {
     "name": "stdout",
     "output_type": "stream",
     "text": [
      "Enter the value of your portfolio:4560000\n"
     ]
    }
   ],
   "source": [
    "portfolio_size=input('Enter the value of your portfolio:')\n",
    "try:\n",
    "    val = float(portfolio_size)\n",
    "except ValueError:\n",
    "    print(\"That's not a number!  \\nplease try again:\")\n",
    "    portfolio_size=input('Enter the value of your portfolio:')\n",
    "    val = float(portfolio_size)\n",
    "    \n"
   ]
  },
  {
   "cell_type": "code",
   "execution_count": 91,
   "metadata": {},
   "outputs": [
    {
     "data": {
      "text/html": [
       "<div>\n",
       "<style scoped>\n",
       "    .dataframe tbody tr th:only-of-type {\n",
       "        vertical-align: middle;\n",
       "    }\n",
       "\n",
       "    .dataframe tbody tr th {\n",
       "        vertical-align: top;\n",
       "    }\n",
       "\n",
       "    .dataframe thead th {\n",
       "        text-align: right;\n",
       "    }\n",
       "</style>\n",
       "<table border=\"1\" class=\"dataframe\">\n",
       "  <thead>\n",
       "    <tr style=\"text-align: right;\">\n",
       "      <th></th>\n",
       "      <th>Ticker</th>\n",
       "      <th>Stock Price</th>\n",
       "      <th>Market Capitalization</th>\n",
       "      <th>Number of Shares to Buy</th>\n",
       "    </tr>\n",
       "  </thead>\n",
       "  <tbody>\n",
       "    <tr>\n",
       "      <th>0</th>\n",
       "      <td>A</td>\n",
       "      <td>127.20</td>\n",
       "      <td>37217101126</td>\n",
       "      <td>358</td>\n",
       "    </tr>\n",
       "    <tr>\n",
       "      <th>1</th>\n",
       "      <td>AAL</td>\n",
       "      <td>13.76</td>\n",
       "      <td>8992717968</td>\n",
       "      <td>3313</td>\n",
       "    </tr>\n",
       "    <tr>\n",
       "      <th>2</th>\n",
       "      <td>AAP</td>\n",
       "      <td>56.27</td>\n",
       "      <td>3348176977</td>\n",
       "      <td>810</td>\n",
       "    </tr>\n",
       "    <tr>\n",
       "      <th>3</th>\n",
       "      <td>AAPL</td>\n",
       "      <td>195.71</td>\n",
       "      <td>3043829093920</td>\n",
       "      <td>232</td>\n",
       "    </tr>\n",
       "    <tr>\n",
       "      <th>4</th>\n",
       "      <td>ABBV</td>\n",
       "      <td>149.28</td>\n",
       "      <td>263559426207</td>\n",
       "      <td>305</td>\n",
       "    </tr>\n",
       "    <tr>\n",
       "      <th>...</th>\n",
       "      <td>...</td>\n",
       "      <td>...</td>\n",
       "      <td>...</td>\n",
       "      <td>...</td>\n",
       "    </tr>\n",
       "    <tr>\n",
       "      <th>95</th>\n",
       "      <td>CMA</td>\n",
       "      <td>49.97</td>\n",
       "      <td>6589684416</td>\n",
       "      <td>912</td>\n",
       "    </tr>\n",
       "    <tr>\n",
       "      <th>96</th>\n",
       "      <td>CMCSA</td>\n",
       "      <td>42.10</td>\n",
       "      <td>169058249245</td>\n",
       "      <td>1083</td>\n",
       "    </tr>\n",
       "    <tr>\n",
       "      <th>97</th>\n",
       "      <td>CME</td>\n",
       "      <td>211.62</td>\n",
       "      <td>76181049518</td>\n",
       "      <td>215</td>\n",
       "    </tr>\n",
       "    <tr>\n",
       "      <th>98</th>\n",
       "      <td>CMG</td>\n",
       "      <td>2242.95</td>\n",
       "      <td>61557000147</td>\n",
       "      <td>20</td>\n",
       "    </tr>\n",
       "    <tr>\n",
       "      <th>99</th>\n",
       "      <td>CMI</td>\n",
       "      <td>230.58</td>\n",
       "      <td>32683530511</td>\n",
       "      <td>197</td>\n",
       "    </tr>\n",
       "  </tbody>\n",
       "</table>\n",
       "<p>100 rows × 4 columns</p>\n",
       "</div>"
      ],
      "text/plain": [
       "   Ticker  Stock Price Market Capitalization Number of Shares to Buy\n",
       "0       A       127.20           37217101126                     358\n",
       "1     AAL        13.76            8992717968                    3313\n",
       "2     AAP        56.27            3348176977                     810\n",
       "3    AAPL       195.71         3043829093920                     232\n",
       "4    ABBV       149.28          263559426207                     305\n",
       "..    ...          ...                   ...                     ...\n",
       "95    CMA        49.97            6589684416                     912\n",
       "96  CMCSA        42.10          169058249245                    1083\n",
       "97    CME       211.62           76181049518                     215\n",
       "98    CMG      2242.95           61557000147                      20\n",
       "99    CMI       230.58           32683530511                     197\n",
       "\n",
       "[100 rows x 4 columns]"
      ]
     },
     "execution_count": 91,
     "metadata": {},
     "output_type": "execute_result"
    }
   ],
   "source": [
    "position_size= val/len(final_dataframe.index)\n",
    "for i in range(0, len(final_dataframe.index)):\n",
    "    final_dataframe.loc[i,'Number of Shares to Buy'] = math.floor(position_size/final_dataframe.loc[i,'Stock Price'])\n",
    "    \n",
    "final_dataframe    \n",
    "#number_of_apple_shares = position_size/500\n",
    "#print(math.floor(number_of_apple_shares))"
   ]
  },
  {
   "cell_type": "markdown",
   "metadata": {},
   "source": [
    "## Formatting Our Excel Output\n",
    "\n",
    "We will be using the XlsxWriter library for Python to create nicely-formatted Excel files.\n",
    "\n",
    "XlsxWriter is an excellent package and offers tons of customization. However, the tradeoff for this is that the library can seem very complicated to new users. Accordingly, this section will be fairly long because I want to do a good job of explaining how XlsxWriter works.\n",
    "\n",
    "### Initializing our XlsxWriter Object"
   ]
  },
  {
   "cell_type": "code",
   "execution_count": 129,
   "metadata": {},
   "outputs": [],
   "source": [
    "writer= pd.ExcelWriter('recommended trades.xlsx', engine= 'xlsxwriter')\n",
    "final_dataframe.to_excel(writer,'Recommended Trades', index=False)"
   ]
  },
  {
   "cell_type": "markdown",
   "metadata": {},
   "source": [
    "### Creating the Formats We'll Need For Our `.xlsx` File\n",
    "\n",
    "Formats include colors, fonts, and also symbols like `%` and `$`. We'll need four main formats for our Excel document:\n",
    "* String format for tickers\n",
    "* \\\\$XX.XX format for stock prices\n",
    "* \\\\$XX,XXX format for market capitalization\n",
    "* Integer format for the number of shares to purchase"
   ]
  },
  {
   "cell_type": "code",
   "execution_count": 130,
   "metadata": {},
   "outputs": [],
   "source": [
    "background_color='#0a0a23'\n",
    "font_color='#ffffff'\n",
    "\n",
    "string_format= writer.book.add_format(\n",
    "{\n",
    "    'font_color': font_color,\n",
    "    'bg_color':background_color,\n",
    "    'border':1\n",
    "}\n",
    ")\n",
    "\n",
    "dollar_format= writer.book.add_format(\n",
    "{\n",
    "    'num_format':'$0.00',\n",
    "    'font_color': font_color,\n",
    "    'bg_color': background_color,\n",
    "    'border':1\n",
    "}\n",
    ")\n",
    "\n",
    "integer_format= writer.book.add_format(\n",
    "{\n",
    "    'num_format':'0',\n",
    "    'font_color': font_color,\n",
    "    'bg_color' : background_color,\n",
    "    'border':1\n",
    "}\n",
    ")"
   ]
  },
  {
   "cell_type": "markdown",
   "metadata": {},
   "source": [
    "### Applying the Formats to the Columns of Our `.xlsx` File\n",
    "\n",
    "We can use the `set_column` method applied to the `writer.sheets['Recommended Trades']` object to apply formats to specific columns of our spreadsheets.\n",
    "\n",
    "Here's an example:\n",
    "\n",
    "```python\n",
    "writer.sheets['Recommended Trades'].set_column('B:B', #This tells the method to apply the format to column B\n",
    "                     18, #This tells the method to apply a column width of 18 pixels\n",
    "                     string_template #This applies the format 'string_template' to the column\n",
    "                    )\n",
    "```"
   ]
  },
  {
   "cell_type": "code",
   "execution_count": 131,
   "metadata": {},
   "outputs": [
    {
     "data": {
      "text/plain": [
       "0"
      ]
     },
     "execution_count": 131,
     "metadata": {},
     "output_type": "execute_result"
    }
   ],
   "source": [
    "#writer.sheets['Recommended Trades'].set_column('A:A',18, string_format)\n",
    "#writer.sheets['Recommended Trades'].set_column('B:B',18, string_format)\n",
    "#writer.sheets['Recommended Trades'].set_column('C:C',18, string_format)\n",
    "#writer.sheets['Recommended Trades'].set_column('D:D',18, string_format)\n",
    "#writer._save()\n",
    "writer.sheets['Recommended Trades'].write('A1', 'Ticker', string_format)\n",
    "writer.sheets['Recommended Trades'].write('B1', 'Stock Price', dollar_format)\n",
    "writer.sheets['Recommended Trades'].write('C1', 'Market Capitalization', dollar_format)\n",
    "writer.sheets['Recommended Trades'].write('D1', 'Number of Shares to buy', integer_format)"
   ]
  },
  {
   "cell_type": "markdown",
   "metadata": {},
   "source": [
    "This code works, but it violates the software principle of \"Don't Repeat Yourself\". \n",
    "\n",
    "Let's simplify this by putting it in 2 loops:"
   ]
  },
  {
   "cell_type": "code",
   "execution_count": 132,
   "metadata": {},
   "outputs": [],
   "source": [
    "column_formats={\n",
    "    'A':['Ticker', string_format],\n",
    "    'B':['Stock Price',dollar_format],\n",
    "    'C':['Market Capitalization', dollar_format],\n",
    "    'D':['Number of Shares to Buy', integer_format]\n",
    "}\n",
    "\n",
    "for column in column_formats.keys():\n",
    "    writer.sheets['Recommended Trades'].set_column(f'{column}:{column}', 18, column_formats[column][1])\n",
    "    writer.sheets['Recommended Trades'].write(f'{column}1', column_formats[column][0],string_format)\n",
    "\n",
    "writer._save()"
   ]
  },
  {
   "cell_type": "markdown",
   "metadata": {},
   "source": [
    "## Saving Our Excel Output\n",
    "\n",
    "Saving our Excel file is very easy:"
   ]
  },
  {
   "cell_type": "code",
   "execution_count": 134,
   "metadata": {},
   "outputs": [],
   "source": [
    "writer._save()"
   ]
  },
  {
   "cell_type": "code",
   "execution_count": null,
   "metadata": {},
   "outputs": [],
   "source": []
  }
 ],
 "metadata": {
  "kernelspec": {
   "display_name": "Python 3 (ipykernel)",
   "language": "python",
   "name": "python3"
  },
  "language_info": {
   "codemirror_mode": {
    "name": "ipython",
    "version": 3
   },
   "file_extension": ".py",
   "mimetype": "text/x-python",
   "name": "python",
   "nbconvert_exporter": "python",
   "pygments_lexer": "ipython3",
   "version": "3.11.5"
  }
 },
 "nbformat": 4,
 "nbformat_minor": 4
}
